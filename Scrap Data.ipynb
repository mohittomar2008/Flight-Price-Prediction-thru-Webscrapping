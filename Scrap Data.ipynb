{
 "cells": [
  {
   "cell_type": "code",
   "execution_count": 51,
   "id": "398a2cfd",
   "metadata": {},
   "outputs": [],
   "source": [
    "# import libraraies\n",
    "\n",
    "import selenium\n",
    "from selenium import webdriver\n",
    "import pandas as pd\n",
    "\n",
    "# Importing required Exceptions which needs to handled\n",
    "from selenium.common.exceptions import StaleElementReferenceException, NoSuchElementException\n",
    "\n",
    "#Importing requests\n",
    "import requests\n",
    "\n",
    "import numpy as np\n",
    "import pandas as pd\n",
    "\n",
    "# importing regex\n",
    "import re\n",
    "\n",
    "import warnings\n",
    "warnings.filterwarnings('ignore')\n",
    "import time"
   ]
  },
  {
   "cell_type": "code",
   "execution_count": 123,
   "id": "a4169943",
   "metadata": {},
   "outputs": [],
   "source": [
    "# lets connect to driver\n",
    "\n",
    "driver= webdriver.Chrome(r'C:\\working\\chromedriver.exe')\n",
    "driver.maximize_window()\n",
    "\n",
    "url='https://flight.yatra.com/air-search-ui/dom2/trigger?type=O&viewName=normal&flexi=0&noOfSegments=1&origin=DEL&originCountry=IN&destination=BOM&destinationCountry=IN&flight_depart_date=23%2F06%2F2022&ADT=1&CHD=0&INF=0&class=Economy&source=fresco-home&unqvaldesktop=1391813285025'\n",
    "driver.get(url)"
   ]
  },
  {
   "cell_type": "code",
   "execution_count": 3,
   "id": "d4d99c72",
   "metadata": {},
   "outputs": [],
   "source": [
    "airline=[]\n",
    "code=[]\n",
    "dep_time=[]\n",
    "title= driver.find_elements_by_xpath('//div[@class=\"fs-13 airline-name no-pad col-8\"]/span')\n",
    "for i in title:\n",
    "    airline.append(i.text)\n",
    "\n",
    "title= driver.find_elements_by_xpath('//div[@class=\"fs-13 airline-name no-pad col-8\"]/p')\n",
    "for i in title:\n",
    "    code.append(i.text)\n",
    "    \n",
    "title= driver.find_elements_by_xpath('//div[@class=\"i-b pr\"]')\n",
    "for i in title:\n",
    "    dep_time.append(i.text)\n"
   ]
  },
  {
   "cell_type": "code",
   "execution_count": 4,
   "id": "23036ce4",
   "metadata": {},
   "outputs": [
    {
     "data": {
      "text/plain": [
       "(25, 25, 25)"
      ]
     },
     "execution_count": 4,
     "metadata": {},
     "output_type": "execute_result"
    }
   ],
   "source": [
    "len(airline) , len(code) , len(dep_time)"
   ]
  },
  {
   "cell_type": "code",
   "execution_count": 124,
   "id": "caa1a078",
   "metadata": {},
   "outputs": [
    {
     "data": {
      "text/plain": [
       "[]"
      ]
     },
     "execution_count": 124,
     "metadata": {},
     "output_type": "execute_result"
    }
   ],
   "source": [
    "temp= driver.find_elements_by_xpath('//div[class=\"i-b tipsy fare-summary-tooltip fs-18\"]')\n",
    "temp"
   ]
  },
  {
   "cell_type": "code",
   "execution_count": null,
   "id": "c7695148",
   "metadata": {},
   "outputs": [],
   "source": []
  },
  {
   "cell_type": "code",
   "execution_count": null,
   "id": "e6a27f2a",
   "metadata": {},
   "outputs": [],
   "source": []
  },
  {
   "cell_type": "code",
   "execution_count": null,
   "id": "d5397514",
   "metadata": {},
   "outputs": [],
   "source": []
  },
  {
   "cell_type": "code",
   "execution_count": null,
   "id": "7c920f48",
   "metadata": {},
   "outputs": [],
   "source": []
  },
  {
   "cell_type": "code",
   "execution_count": null,
   "id": "73bd9634",
   "metadata": {},
   "outputs": [],
   "source": []
  },
  {
   "cell_type": "code",
   "execution_count": null,
   "id": "90674b39",
   "metadata": {},
   "outputs": [],
   "source": []
  },
  {
   "cell_type": "code",
   "execution_count": null,
   "id": "468280b7",
   "metadata": {},
   "outputs": [],
   "source": []
  },
  {
   "cell_type": "markdown",
   "id": "36cb204a",
   "metadata": {},
   "source": [
    "# Clear Trip"
   ]
  },
  {
   "cell_type": "code",
   "execution_count": 183,
   "id": "729e9aae",
   "metadata": {},
   "outputs": [],
   "source": [
    "# lets connect to driver\n",
    "\n",
    "driver= webdriver.Chrome(r'C:\\working\\chromedriver.exe')\n",
    "driver.maximize_window()\n",
    "\n",
    "url='https://www.cleartrip.com/flights'\n",
    "driver.get(url)"
   ]
  },
  {
   "cell_type": "code",
   "execution_count": null,
   "id": "fd0a5cdd",
   "metadata": {},
   "outputs": [],
   "source": []
  },
  {
   "cell_type": "code",
   "execution_count": 178,
   "id": "efd0cc83",
   "metadata": {},
   "outputs": [],
   "source": [
    "airline=[]\n",
    "code=[]\n",
    "dep_time=[]\n",
    "arrival=[]\n",
    "price=[]\n",
    "duration=[]\n",
    "stops=[]\n",
    "title= driver.find_elements_by_xpath('//p[@class=\"fw-500 fs-2 c-neutral-900\"]')\n",
    "for i in title:\n",
    "    airline.append(i.text)\n",
    "\n",
    "title= driver.find_elements_by_xpath('//p[@class=\"fs-1 c-neutral-400 pt-1\"]')\n",
    "for i in title:\n",
    "    code.append(i.text)\n",
    "    \n",
    "title= driver.find_elements_by_xpath('//p[@class=\"m-0 fs-5 fw-400 c-neutral-900\"]')\n",
    "for i in title:\n",
    "    dep_time.append(i.text)\n",
    "    \n",
    "title= driver.find_elements_by_xpath('//p[@class=\"m-0 fs-5 fw-400 c-neutral-900 ta-center p-relative\"]')\n",
    "for i in title:\n",
    "    arrival.append(i.text)\n",
    "    \n",
    "    \n",
    "title= driver.find_elements_by_xpath('//p[@class=\"m-0 fs-5 fw-700 c-neutral-900 false\"]')\n",
    "for i in title:\n",
    "    price.append(i.text)\n",
    "    \n",
    "title= driver.find_elements_by_xpath('//p[@class=\"m-0 fs-2 fw-400 c-neutral-400 ta-center lh-copy\"]')\n",
    "for i in title:\n",
    "    duration.append(i.text)\n",
    "title= driver.find_elements_by_xpath('//p[@class=\"m-0 fs-2 c-neutral-400 lh-copy\"]')\n",
    "for i in title:\n",
    "    stops.append(i.text)"
   ]
  },
  {
   "cell_type": "code",
   "execution_count": 179,
   "id": "ed3e0945",
   "metadata": {},
   "outputs": [
    {
     "data": {
      "text/plain": [
       "(161, 161, 161, 161, 161, 161, 161)"
      ]
     },
     "execution_count": 179,
     "metadata": {},
     "output_type": "execute_result"
    }
   ],
   "source": [
    "len(airline) , len(code) , len(dep_time) , len(arrival) , len(price) , len(duration) , len(stops)"
   ]
  },
  {
   "cell_type": "code",
   "execution_count": 180,
   "id": "0e322306",
   "metadata": {},
   "outputs": [],
   "source": [
    "b8=pd.DataFrame({'From':'Delhi','To':'Bangalore','Booking_date':pd.to_datetime('2022-06-23'),'Journey_date':pd.to_datetime('2022-06-30'),'Airline':airline,'Code':code,'Departure':dep_time,'Arrival':arrival,'Duration':duration,'Stops':stops,'Price':price})"
   ]
  },
  {
   "cell_type": "code",
   "execution_count": 63,
   "id": "6e950cd3",
   "metadata": {},
   "outputs": [
    {
     "data": {
      "text/plain": [
       "(135, 11)"
      ]
     },
     "execution_count": 63,
     "metadata": {},
     "output_type": "execute_result"
    }
   ],
   "source": []
  },
  {
   "cell_type": "code",
   "execution_count": 107,
   "id": "a8b7bd2f",
   "metadata": {},
   "outputs": [
    {
     "data": {
      "text/plain": [
       "((42, 11), (14, 11))"
      ]
     },
     "execution_count": 107,
     "metadata": {},
     "output_type": "execute_result"
    }
   ],
   "source": [
    "t1.shape , b1.shape #23 ,"
   ]
  },
  {
   "cell_type": "code",
   "execution_count": 131,
   "id": "17506fdb",
   "metadata": {},
   "outputs": [
    {
     "data": {
      "text/plain": [
       "((135, 11), (135, 11))"
      ]
     },
     "execution_count": 131,
     "metadata": {},
     "output_type": "execute_result"
    }
   ],
   "source": [
    "t2.shape , b2.shape #24"
   ]
  },
  {
   "cell_type": "code",
   "execution_count": 135,
   "id": "d5994b1d",
   "metadata": {},
   "outputs": [
    {
     "data": {
      "text/plain": [
       "((127, 11), (160, 11))"
      ]
     },
     "execution_count": 135,
     "metadata": {},
     "output_type": "execute_result"
    }
   ],
   "source": [
    "t3.shape  , b3.shape# 25"
   ]
  },
  {
   "cell_type": "code",
   "execution_count": 139,
   "id": "e593e110",
   "metadata": {},
   "outputs": [
    {
     "data": {
      "text/plain": [
       "((109, 11), (139, 11))"
      ]
     },
     "execution_count": 139,
     "metadata": {},
     "output_type": "execute_result"
    }
   ],
   "source": [
    "t4.shape, b4.shape #26"
   ]
  },
  {
   "cell_type": "code",
   "execution_count": 143,
   "id": "404a88ee",
   "metadata": {},
   "outputs": [
    {
     "data": {
      "text/plain": [
       "((135, 11), (144, 11))"
      ]
     },
     "execution_count": 143,
     "metadata": {},
     "output_type": "execute_result"
    }
   ],
   "source": [
    "t5.shape  ,b5.shape  #27"
   ]
  },
  {
   "cell_type": "code",
   "execution_count": 147,
   "id": "c9ae3290",
   "metadata": {},
   "outputs": [
    {
     "data": {
      "text/plain": [
       "((122, 11), (155, 11))"
      ]
     },
     "execution_count": 147,
     "metadata": {},
     "output_type": "execute_result"
    }
   ],
   "source": [
    "t6.shape , b6.shape  #28"
   ]
  },
  {
   "cell_type": "code",
   "execution_count": 177,
   "id": "f77f4277",
   "metadata": {},
   "outputs": [
    {
     "data": {
      "text/plain": [
       "((133, 11), (166, 11))"
      ]
     },
     "execution_count": 177,
     "metadata": {},
     "output_type": "execute_result"
    }
   ],
   "source": [
    "t7.shape , b7.shape# 29"
   ]
  },
  {
   "cell_type": "code",
   "execution_count": 181,
   "id": "cbad3a86",
   "metadata": {},
   "outputs": [
    {
     "data": {
      "text/plain": [
       "((136, 11), (161, 11))"
      ]
     },
     "execution_count": 181,
     "metadata": {},
     "output_type": "execute_result"
    }
   ],
   "source": [
    "t8.shape , b8.shape #30"
   ]
  },
  {
   "cell_type": "code",
   "execution_count": null,
   "id": "f2c5510f",
   "metadata": {},
   "outputs": [],
   "source": []
  },
  {
   "cell_type": "code",
   "execution_count": 120,
   "id": "2b2e2e82",
   "metadata": {},
   "outputs": [],
   "source": [
    "pd.concat([t1, t2,t3,t4,t5,t6,t7,t8], ignore_index = True).to_csv('t.csv')"
   ]
  },
  {
   "cell_type": "code",
   "execution_count": 182,
   "id": "87e20019",
   "metadata": {},
   "outputs": [],
   "source": [
    "pd.concat([b1,b2,b3,b4,b5,b6,b7,b8], ignore_index = True).to_csv('b.csv')"
   ]
  },
  {
   "cell_type": "code",
   "execution_count": 241,
   "id": "4e1eff27",
   "metadata": {},
   "outputs": [
    {
     "data": {
      "text/html": [
       "<div>\n",
       "<style scoped>\n",
       "    .dataframe tbody tr th:only-of-type {\n",
       "        vertical-align: middle;\n",
       "    }\n",
       "\n",
       "    .dataframe tbody tr th {\n",
       "        vertical-align: top;\n",
       "    }\n",
       "\n",
       "    .dataframe thead th {\n",
       "        text-align: right;\n",
       "    }\n",
       "</style>\n",
       "<table border=\"1\" class=\"dataframe\">\n",
       "  <thead>\n",
       "    <tr style=\"text-align: right;\">\n",
       "      <th></th>\n",
       "      <th>From</th>\n",
       "      <th>To</th>\n",
       "      <th>Booking_date</th>\n",
       "      <th>Journey_date</th>\n",
       "      <th>Airline</th>\n",
       "      <th>Code</th>\n",
       "      <th>Departure</th>\n",
       "      <th>Arrival</th>\n",
       "      <th>Duration</th>\n",
       "      <th>Stops</th>\n",
       "      <th>Price</th>\n",
       "    </tr>\n",
       "  </thead>\n",
       "  <tbody>\n",
       "    <tr>\n",
       "      <th>0</th>\n",
       "      <td>Delhi</td>\n",
       "      <td>Mumbai</td>\n",
       "      <td>2022-06-23</td>\n",
       "      <td>2022-06-23</td>\n",
       "      <td>Air India</td>\n",
       "      <td>AI-805</td>\n",
       "      <td>20:00</td>\n",
       "      <td>22:10</td>\n",
       "      <td>2h 10m</td>\n",
       "      <td>non-stop</td>\n",
       "      <td>₹7,845</td>\n",
       "    </tr>\n",
       "    <tr>\n",
       "      <th>1</th>\n",
       "      <td>Delhi</td>\n",
       "      <td>Mumbai</td>\n",
       "      <td>2022-06-23</td>\n",
       "      <td>2022-06-23</td>\n",
       "      <td>GO FIRST</td>\n",
       "      <td>G8-346</td>\n",
       "      <td>19:35</td>\n",
       "      <td>21:45</td>\n",
       "      <td>2h 10m</td>\n",
       "      <td>non-stop</td>\n",
       "      <td>₹8,579</td>\n",
       "    </tr>\n",
       "  </tbody>\n",
       "</table>\n",
       "</div>"
      ],
      "text/plain": [
       "    From      To Booking_date Journey_date    Airline    Code Departure  \\\n",
       "0  Delhi  Mumbai   2022-06-23   2022-06-23  Air India  AI-805     20:00   \n",
       "1  Delhi  Mumbai   2022-06-23   2022-06-23   GO FIRST  G8-346     19:35   \n",
       "\n",
       "  Arrival Duration     Stops   Price  \n",
       "0   22:10   2h 10m  non-stop  ₹7,845  \n",
       "1   21:45   2h 10m  non-stop  ₹8,579  "
      ]
     },
     "execution_count": 241,
     "metadata": {},
     "output_type": "execute_result"
    }
   ],
   "source": [
    "t1.head(2)"
   ]
  },
  {
   "cell_type": "code",
   "execution_count": 242,
   "id": "294abdd3",
   "metadata": {},
   "outputs": [
    {
     "data": {
      "text/html": [
       "<div>\n",
       "<style scoped>\n",
       "    .dataframe tbody tr th:only-of-type {\n",
       "        vertical-align: middle;\n",
       "    }\n",
       "\n",
       "    .dataframe tbody tr th {\n",
       "        vertical-align: top;\n",
       "    }\n",
       "\n",
       "    .dataframe thead th {\n",
       "        text-align: right;\n",
       "    }\n",
       "</style>\n",
       "<table border=\"1\" class=\"dataframe\">\n",
       "  <thead>\n",
       "    <tr style=\"text-align: right;\">\n",
       "      <th></th>\n",
       "      <th>From</th>\n",
       "      <th>To</th>\n",
       "      <th>Booking_date</th>\n",
       "      <th>Journey_date</th>\n",
       "      <th>Airline</th>\n",
       "      <th>Code</th>\n",
       "      <th>Departure</th>\n",
       "      <th>Arrival</th>\n",
       "      <th>Duration</th>\n",
       "      <th>Stops</th>\n",
       "      <th>Price</th>\n",
       "    </tr>\n",
       "  </thead>\n",
       "  <tbody>\n",
       "    <tr>\n",
       "      <th>0</th>\n",
       "      <td>Delhi</td>\n",
       "      <td>Bangalore</td>\n",
       "      <td>2022-06-23</td>\n",
       "      <td>2022-06-23</td>\n",
       "      <td>Air India</td>\n",
       "      <td>AI-504</td>\n",
       "      <td>21:15</td>\n",
       "      <td>00:05\\n+1D</td>\n",
       "      <td>2h 50m</td>\n",
       "      <td>non-stop</td>\n",
       "      <td>₹9,420</td>\n",
       "    </tr>\n",
       "    <tr>\n",
       "      <th>1</th>\n",
       "      <td>Delhi</td>\n",
       "      <td>Bangalore</td>\n",
       "      <td>2022-06-23</td>\n",
       "      <td>2022-06-23</td>\n",
       "      <td>IndiGo</td>\n",
       "      <td>6E-2131</td>\n",
       "      <td>21:30</td>\n",
       "      <td>00:15\\n+1D</td>\n",
       "      <td>2h 45m</td>\n",
       "      <td>non-stop</td>\n",
       "      <td>₹9,419</td>\n",
       "    </tr>\n",
       "  </tbody>\n",
       "</table>\n",
       "</div>"
      ],
      "text/plain": [
       "    From         To Booking_date Journey_date    Airline     Code Departure  \\\n",
       "0  Delhi  Bangalore   2022-06-23   2022-06-23  Air India   AI-504     21:15   \n",
       "1  Delhi  Bangalore   2022-06-23   2022-06-23     IndiGo  6E-2131     21:30   \n",
       "\n",
       "      Arrival Duration     Stops   Price  \n",
       "0  00:05\\n+1D   2h 50m  non-stop  ₹9,420  \n",
       "1  00:15\\n+1D   2h 45m  non-stop  ₹9,419  "
      ]
     },
     "execution_count": 242,
     "metadata": {},
     "output_type": "execute_result"
    }
   ],
   "source": [
    "b1.head(2)"
   ]
  },
  {
   "cell_type": "code",
   "execution_count": null,
   "id": "d182fcfa",
   "metadata": {},
   "outputs": [],
   "source": []
  },
  {
   "cell_type": "code",
   "execution_count": null,
   "id": "ea0eb9ab",
   "metadata": {},
   "outputs": [],
   "source": []
  },
  {
   "cell_type": "code",
   "execution_count": null,
   "id": "529ef786",
   "metadata": {},
   "outputs": [],
   "source": []
  },
  {
   "cell_type": "markdown",
   "id": "9934d57e",
   "metadata": {},
   "source": [
    "# EasemyTrip"
   ]
  },
  {
   "cell_type": "code",
   "execution_count": 184,
   "id": "176acbd8",
   "metadata": {},
   "outputs": [],
   "source": [
    "# lets connect to driver\n",
    "\n",
    "driver= webdriver.Chrome(r'C:\\working\\chromedriver.exe')\n",
    "driver.maximize_window()\n",
    "\n",
    "url='https://www.easemytrip.com/'\n",
    "driver.get(url)"
   ]
  },
  {
   "cell_type": "code",
   "execution_count": 366,
   "id": "d1637353",
   "metadata": {},
   "outputs": [],
   "source": [
    "airline=[]\n",
    "code=[]\n",
    "dep_time=[]\n",
    "arrival=[]\n",
    "price=[]\n",
    "duration=[]\n",
    "stops=[]\n",
    "title= driver.find_elements_by_xpath('//span[@class=\"txt-r4 ng-binding\"]')\n",
    "for i in title:\n",
    "    airline.append(i.text)\n",
    "\n",
    "title= driver.find_elements_by_xpath('//span[@class=\"txt-r5\"]')\n",
    "for i in title:\n",
    "    code.append(i.text)\n",
    "    \n",
    "title= driver.find_elements_by_xpath('//div[@class=\"col-md-2 col-sm-2 col-xs-4 top5 \"]/span[1]')\n",
    "for i in title:\n",
    "    dep_time.append(i.text)\n",
    "    \n",
    "title= driver.find_elements_by_xpath('//div[@class=\"col-md-2 col-sm-2 col-xs-3 top5\"]/span[1]')\n",
    "for i in title:\n",
    "    arrival.append(i.text)\n",
    "    \n",
    "    \n",
    "title= driver.find_elements_by_xpath('//div[@class=\"col-md-8 col-sm-8 col-xs-9 txt-r6-n exPrc ng-binding\"]')\n",
    "for i in title:\n",
    "    price.append(i.text)\n",
    "    \n",
    "title= driver.find_elements_by_xpath('//span[@class=\"dura_md ng-binding\"]')\n",
    "for i in title:\n",
    "    duration.append(i.text)\n",
    "title= driver.find_elements_by_xpath('//span[@class=\"dura_md2 ng-scope\"]')\n",
    "for i in title:\n",
    "    stops.append(i.text)"
   ]
  },
  {
   "cell_type": "code",
   "execution_count": 367,
   "id": "d65b110c",
   "metadata": {},
   "outputs": [
    {
     "data": {
      "text/plain": [
       "(129, 129, 129, 129, 129, 129, 129)"
      ]
     },
     "execution_count": 367,
     "metadata": {},
     "output_type": "execute_result"
    }
   ],
   "source": [
    "len(airline) , len(code) , len(dep_time) , len(arrival) , len(price) , len(duration) , len(stops)"
   ]
  },
  {
   "cell_type": "code",
   "execution_count": 368,
   "id": "1bbba3b3",
   "metadata": {},
   "outputs": [],
   "source": [
    "K7=pd.DataFrame({'From':'Bangalore','To':'kolkata','Booking_date':pd.to_datetime('2022-06-24'),'Journey_date':pd.to_datetime('2022-06-30'),'Airline':airline,'Code':code,'Departure':dep_time,'Arrival':arrival,'Duration':duration,'Stops':stops,'Price':price})"
   ]
  },
  {
   "cell_type": "code",
   "execution_count": 357,
   "id": "e7f50ab8",
   "metadata": {},
   "outputs": [
    {
     "data": {
      "text/plain": [
       "((32, 11), (27, 11), (18, 11), (28, 11), (9, 11), (24, 11))"
      ]
     },
     "execution_count": 357,
     "metadata": {},
     "output_type": "execute_result"
    }
   ],
   "source": [
    "g1.shape , G1.shape , B1.shape  , T1.shape  , k1.shape , K1.shape# 24"
   ]
  },
  {
   "cell_type": "code",
   "execution_count": 358,
   "id": "da15da94",
   "metadata": {},
   "outputs": [
    {
     "data": {
      "text/plain": [
       "((146, 11), (132, 11), (186, 11), (212, 11), (128, 11), (138, 11))"
      ]
     },
     "execution_count": 358,
     "metadata": {},
     "output_type": "execute_result"
    }
   ],
   "source": [
    "g2.shape , G2.shape , B2.shape , T2.shape ,k2.shape   , K2.shape      # 25"
   ]
  },
  {
   "cell_type": "code",
   "execution_count": 359,
   "id": "3e800e4b",
   "metadata": {},
   "outputs": [
    {
     "data": {
      "text/plain": [
       "((156, 11), (155, 11), (190, 11), (215, 11), (134, 11), (140, 11))"
      ]
     },
     "execution_count": 359,
     "metadata": {},
     "output_type": "execute_result"
    }
   ],
   "source": [
    "g3.shape  , G3.shape ,B3.shape , T3.shape, k3.shape, K3.shape  # 26"
   ]
  },
  {
   "cell_type": "code",
   "execution_count": 360,
   "id": "b4620df4",
   "metadata": {},
   "outputs": [
    {
     "data": {
      "text/plain": [
       "((135, 11), (114, 11), (162, 11), (205, 11), (116, 11), (129, 11))"
      ]
     },
     "execution_count": 360,
     "metadata": {},
     "output_type": "execute_result"
    }
   ],
   "source": [
    "g4.shape , G4.shape , B4.shape , T4.shape ,k4.shape , K4.shape   # 27"
   ]
  },
  {
   "cell_type": "code",
   "execution_count": 361,
   "id": "f834d189",
   "metadata": {},
   "outputs": [
    {
     "data": {
      "text/plain": [
       "((133, 11), (130, 11), (163, 11), (205, 11), (113, 11), (130, 11))"
      ]
     },
     "execution_count": 361,
     "metadata": {},
     "output_type": "execute_result"
    }
   ],
   "source": [
    "g5.shape , G5.shape , B5.shape , T5.shape  , k5.shape ,K5.shape  # 28"
   ]
  },
  {
   "cell_type": "code",
   "execution_count": 365,
   "id": "fcd0740e",
   "metadata": {},
   "outputs": [
    {
     "data": {
      "text/plain": [
       "((128, 11), (128, 11), (163, 11), (194, 11), (120, 11), (128, 11))"
      ]
     },
     "execution_count": 365,
     "metadata": {},
     "output_type": "execute_result"
    }
   ],
   "source": [
    "g6.shape , G6.shape , B6.shape , T6.shape ,k6.shape, K6.shape  # 29"
   ]
  },
  {
   "cell_type": "code",
   "execution_count": 370,
   "id": "1df9e372",
   "metadata": {},
   "outputs": [
    {
     "data": {
      "text/plain": [
       "((115, 11), (128, 11), (167, 11), (209, 11), (121, 11), (129, 11))"
      ]
     },
     "execution_count": 370,
     "metadata": {},
     "output_type": "execute_result"
    }
   ],
   "source": [
    "g7.shape , G7.shape ,B7.shape  , T7.shape  , k7.shape ,K7.shape   # 30"
   ]
  },
  {
   "cell_type": "code",
   "execution_count": 372,
   "id": "97ecb211",
   "metadata": {},
   "outputs": [],
   "source": [
    "pd.concat([b1,b2,b3,b4,b5,b6,b7,b8,t1, t2,t3,t4,t5,t6,t7,t8,g1,g2,g3,g4,g5,g6,g7,G1,G2,G3,G4,G5,G6,G7,B1,B2,B3,B4,B5,B6,B7,T1,T2,T3,T4,T5,T6,T7,k1,k2,k3,k4,k5,k6,k7,K1,K2,K3,K4,K5,K6,K7], ignore_index = True).to_csv('flight.csv')"
   ]
  },
  {
   "cell_type": "code",
   "execution_count": 373,
   "id": "5881c35c",
   "metadata": {},
   "outputs": [
    {
     "data": {
      "text/html": [
       "<div>\n",
       "<style scoped>\n",
       "    .dataframe tbody tr th:only-of-type {\n",
       "        vertical-align: middle;\n",
       "    }\n",
       "\n",
       "    .dataframe tbody tr th {\n",
       "        vertical-align: top;\n",
       "    }\n",
       "\n",
       "    .dataframe thead th {\n",
       "        text-align: right;\n",
       "    }\n",
       "</style>\n",
       "<table border=\"1\" class=\"dataframe\">\n",
       "  <thead>\n",
       "    <tr style=\"text-align: right;\">\n",
       "      <th></th>\n",
       "      <th>Unnamed: 0</th>\n",
       "      <th>From</th>\n",
       "      <th>To</th>\n",
       "      <th>Booking_date</th>\n",
       "      <th>Journey_date</th>\n",
       "      <th>Airline</th>\n",
       "      <th>Code</th>\n",
       "      <th>Departure</th>\n",
       "      <th>Arrival</th>\n",
       "      <th>Duration</th>\n",
       "      <th>Stops</th>\n",
       "      <th>Price</th>\n",
       "    </tr>\n",
       "  </thead>\n",
       "  <tbody>\n",
       "    <tr>\n",
       "      <th>0</th>\n",
       "      <td>0</td>\n",
       "      <td>Delhi</td>\n",
       "      <td>Bangalore</td>\n",
       "      <td>2022-06-23</td>\n",
       "      <td>2022-06-23</td>\n",
       "      <td>Air India</td>\n",
       "      <td>AI-504</td>\n",
       "      <td>21:15</td>\n",
       "      <td>00:05\\n+1D</td>\n",
       "      <td>2h 50m</td>\n",
       "      <td>non-stop</td>\n",
       "      <td>₹9,420</td>\n",
       "    </tr>\n",
       "    <tr>\n",
       "      <th>1</th>\n",
       "      <td>1</td>\n",
       "      <td>Delhi</td>\n",
       "      <td>Bangalore</td>\n",
       "      <td>2022-06-23</td>\n",
       "      <td>2022-06-23</td>\n",
       "      <td>IndiGo</td>\n",
       "      <td>6E-2131</td>\n",
       "      <td>21:30</td>\n",
       "      <td>00:15\\n+1D</td>\n",
       "      <td>2h 45m</td>\n",
       "      <td>non-stop</td>\n",
       "      <td>₹9,419</td>\n",
       "    </tr>\n",
       "    <tr>\n",
       "      <th>2</th>\n",
       "      <td>2</td>\n",
       "      <td>Delhi</td>\n",
       "      <td>Bangalore</td>\n",
       "      <td>2022-06-23</td>\n",
       "      <td>2022-06-23</td>\n",
       "      <td>IndiGo</td>\n",
       "      <td>6E-6565</td>\n",
       "      <td>22:55</td>\n",
       "      <td>01:45\\n+1D</td>\n",
       "      <td>2h 50m</td>\n",
       "      <td>non-stop</td>\n",
       "      <td>₹9,419</td>\n",
       "    </tr>\n",
       "    <tr>\n",
       "      <th>3</th>\n",
       "      <td>3</td>\n",
       "      <td>Delhi</td>\n",
       "      <td>Bangalore</td>\n",
       "      <td>2022-06-23</td>\n",
       "      <td>2022-06-23</td>\n",
       "      <td>Air India</td>\n",
       "      <td>AI-605</td>\n",
       "      <td>21:15</td>\n",
       "      <td>07:50\\n+1D</td>\n",
       "      <td>10h 35m</td>\n",
       "      <td>1 stop</td>\n",
       "      <td>₹14,775</td>\n",
       "    </tr>\n",
       "    <tr>\n",
       "      <th>4</th>\n",
       "      <td>4</td>\n",
       "      <td>Delhi</td>\n",
       "      <td>Bangalore</td>\n",
       "      <td>2022-06-23</td>\n",
       "      <td>2022-06-23</td>\n",
       "      <td>Air India</td>\n",
       "      <td>AI-605</td>\n",
       "      <td>21:15</td>\n",
       "      <td>18:20\\n+1D</td>\n",
       "      <td>21h 5m</td>\n",
       "      <td>1 stop</td>\n",
       "      <td>₹14,985</td>\n",
       "    </tr>\n",
       "    <tr>\n",
       "      <th>...</th>\n",
       "      <td>...</td>\n",
       "      <td>...</td>\n",
       "      <td>...</td>\n",
       "      <td>...</td>\n",
       "      <td>...</td>\n",
       "      <td>...</td>\n",
       "      <td>...</td>\n",
       "      <td>...</td>\n",
       "      <td>...</td>\n",
       "      <td>...</td>\n",
       "      <td>...</td>\n",
       "      <td>...</td>\n",
       "    </tr>\n",
       "    <tr>\n",
       "      <th>7543</th>\n",
       "      <td>7543</td>\n",
       "      <td>Bangalore</td>\n",
       "      <td>kolkata</td>\n",
       "      <td>2022-06-24</td>\n",
       "      <td>2022-06-30</td>\n",
       "      <td>Vistara</td>\n",
       "      <td>UK-816</td>\n",
       "      <td>11:30</td>\n",
       "      <td>19:35</td>\n",
       "      <td>08h 05m</td>\n",
       "      <td>1-stop</td>\n",
       "      <td>21,437</td>\n",
       "    </tr>\n",
       "    <tr>\n",
       "      <th>7544</th>\n",
       "      <td>7544</td>\n",
       "      <td>Bangalore</td>\n",
       "      <td>kolkata</td>\n",
       "      <td>2022-06-24</td>\n",
       "      <td>2022-06-30</td>\n",
       "      <td>Vistara</td>\n",
       "      <td>UK-806</td>\n",
       "      <td>09:45</td>\n",
       "      <td>18:05</td>\n",
       "      <td>08h 20m</td>\n",
       "      <td>1-stop</td>\n",
       "      <td>21,437</td>\n",
       "    </tr>\n",
       "    <tr>\n",
       "      <th>7545</th>\n",
       "      <td>7545</td>\n",
       "      <td>Bangalore</td>\n",
       "      <td>kolkata</td>\n",
       "      <td>2022-06-24</td>\n",
       "      <td>2022-06-30</td>\n",
       "      <td>Vistara</td>\n",
       "      <td>UK-806</td>\n",
       "      <td>09:45</td>\n",
       "      <td>19:35</td>\n",
       "      <td>09h 50m</td>\n",
       "      <td>1-stop</td>\n",
       "      <td>21,437</td>\n",
       "    </tr>\n",
       "    <tr>\n",
       "      <th>7546</th>\n",
       "      <td>7546</td>\n",
       "      <td>Bangalore</td>\n",
       "      <td>kolkata</td>\n",
       "      <td>2022-06-24</td>\n",
       "      <td>2022-06-30</td>\n",
       "      <td>Vistara</td>\n",
       "      <td>UK-816</td>\n",
       "      <td>11:30</td>\n",
       "      <td>22:45</td>\n",
       "      <td>11h 15m</td>\n",
       "      <td>1-stop</td>\n",
       "      <td>21,437</td>\n",
       "    </tr>\n",
       "    <tr>\n",
       "      <th>7547</th>\n",
       "      <td>7547</td>\n",
       "      <td>Bangalore</td>\n",
       "      <td>kolkata</td>\n",
       "      <td>2022-06-24</td>\n",
       "      <td>2022-06-30</td>\n",
       "      <td>AirAsia</td>\n",
       "      <td>I5-1780</td>\n",
       "      <td>05:10</td>\n",
       "      <td>12:05</td>\n",
       "      <td>06h 55m</td>\n",
       "      <td>1-stop</td>\n",
       "      <td>33,256</td>\n",
       "    </tr>\n",
       "  </tbody>\n",
       "</table>\n",
       "<p>7548 rows × 12 columns</p>\n",
       "</div>"
      ],
      "text/plain": [
       "      Unnamed: 0       From         To Booking_date Journey_date    Airline  \\\n",
       "0              0      Delhi  Bangalore   2022-06-23   2022-06-23  Air India   \n",
       "1              1      Delhi  Bangalore   2022-06-23   2022-06-23     IndiGo   \n",
       "2              2      Delhi  Bangalore   2022-06-23   2022-06-23     IndiGo   \n",
       "3              3      Delhi  Bangalore   2022-06-23   2022-06-23  Air India   \n",
       "4              4      Delhi  Bangalore   2022-06-23   2022-06-23  Air India   \n",
       "...          ...        ...        ...          ...          ...        ...   \n",
       "7543        7543  Bangalore    kolkata   2022-06-24   2022-06-30    Vistara   \n",
       "7544        7544  Bangalore    kolkata   2022-06-24   2022-06-30    Vistara   \n",
       "7545        7545  Bangalore    kolkata   2022-06-24   2022-06-30    Vistara   \n",
       "7546        7546  Bangalore    kolkata   2022-06-24   2022-06-30    Vistara   \n",
       "7547        7547  Bangalore    kolkata   2022-06-24   2022-06-30    AirAsia   \n",
       "\n",
       "         Code Departure     Arrival Duration     Stops    Price  \n",
       "0      AI-504     21:15  00:05\\n+1D   2h 50m  non-stop   ₹9,420  \n",
       "1     6E-2131     21:30  00:15\\n+1D   2h 45m  non-stop   ₹9,419  \n",
       "2     6E-6565     22:55  01:45\\n+1D   2h 50m  non-stop   ₹9,419  \n",
       "3      AI-605     21:15  07:50\\n+1D  10h 35m    1 stop  ₹14,775  \n",
       "4      AI-605     21:15  18:20\\n+1D   21h 5m    1 stop  ₹14,985  \n",
       "...       ...       ...         ...      ...       ...      ...  \n",
       "7543   UK-816     11:30       19:35  08h 05m    1-stop   21,437  \n",
       "7544   UK-806     09:45       18:05  08h 20m    1-stop   21,437  \n",
       "7545   UK-806     09:45       19:35  09h 50m    1-stop   21,437  \n",
       "7546   UK-816     11:30       22:45  11h 15m    1-stop   21,437  \n",
       "7547  I5-1780     05:10       12:05  06h 55m    1-stop   33,256  \n",
       "\n",
       "[7548 rows x 12 columns]"
      ]
     },
     "execution_count": 373,
     "metadata": {},
     "output_type": "execute_result"
    }
   ],
   "source": [
    "pd.read_csv('flight.csv')"
   ]
  },
  {
   "cell_type": "code",
   "execution_count": 375,
   "id": "10463416",
   "metadata": {},
   "outputs": [
    {
     "data": {
      "text/plain": [
       "<bound method NDFrame.head of      From   To Booking_date Journey_date    Airline     Code Departure  \\\n",
       "0   Delhi  Goa   2022-06-24   2022-06-24  Air India   AI-883     22:00   \n",
       "1   Delhi  Goa   2022-06-24   2022-06-24   GO FIRST  G8- 354     22:45   \n",
       "2   Delhi  Goa   2022-06-24   2022-06-24   GO FIRST  G8- 328     20:55   \n",
       "3   Delhi  Goa   2022-06-24   2022-06-24   GO FIRST  G8- 346     20:45   \n",
       "4   Delhi  Goa   2022-06-24   2022-06-24     Indigo  6E- 698     21:05   \n",
       "5   Delhi  Goa   2022-06-24   2022-06-24   SpiceJet  SG-8190     20:25   \n",
       "6   Delhi  Goa   2022-06-24   2022-06-24     Indigo  6E- 505     21:45   \n",
       "7   Delhi  Goa   2022-06-24   2022-06-24  Air India   AI-605     21:15   \n",
       "8   Delhi  Goa   2022-06-24   2022-06-24     Indigo  6E-2519     23:35   \n",
       "9   Delhi  Goa   2022-06-24   2022-06-24  Air India   AI-805     20:00   \n",
       "10  Delhi  Goa   2022-06-24   2022-06-24  Air India   AI-605     21:15   \n",
       "11  Delhi  Goa   2022-06-24   2022-06-24  Air India   AI-605     21:15   \n",
       "12  Delhi  Goa   2022-06-24   2022-06-24  Air India   AI-805     20:00   \n",
       "13  Delhi  Goa   2022-06-24   2022-06-24  Air India   AI-805     20:00   \n",
       "14  Delhi  Goa   2022-06-24   2022-06-24   GO FIRST  G8- 354     22:45   \n",
       "15  Delhi  Goa   2022-06-24   2022-06-24   SpiceJet  SG- 162     21:55   \n",
       "16  Delhi  Goa   2022-06-24   2022-06-24     Indigo  6E-2532     20:10   \n",
       "17  Delhi  Goa   2022-06-24   2022-06-24    Vistara   UK-981     21:30   \n",
       "18  Delhi  Goa   2022-06-24   2022-06-24  Air India   AI-479     21:15   \n",
       "19  Delhi  Goa   2022-06-24   2022-06-24  Air India   AI-479     21:15   \n",
       "20  Delhi  Goa   2022-06-24   2022-06-24    Vistara   UK-953     20:40   \n",
       "21  Delhi  Goa   2022-06-24   2022-06-24    Vistara   UK-929     21:20   \n",
       "22  Delhi  Goa   2022-06-24   2022-06-24    Vistara   UK-929     21:20   \n",
       "23  Delhi  Goa   2022-06-24   2022-06-24    Vistara   UK-807     20:40   \n",
       "24  Delhi  Goa   2022-06-24   2022-06-24    AirAsia   I5-773     20:00   \n",
       "25  Delhi  Goa   2022-06-24   2022-06-24  Air India   AI-762     20:15   \n",
       "26  Delhi  Goa   2022-06-24   2022-06-24    Vistara   UK-981     21:30   \n",
       "27  Delhi  Goa   2022-06-24   2022-06-24    Vistara   UK-981     21:30   \n",
       "28  Delhi  Goa   2022-06-24   2022-06-24    Vistara   UK-953     20:40   \n",
       "29  Delhi  Goa   2022-06-24   2022-06-24    Vistara   UK-953     20:40   \n",
       "30  Delhi  Goa   2022-06-24   2022-06-24    Vistara   UK-981     21:30   \n",
       "31  Delhi  Goa   2022-06-24   2022-06-24    Vistara   UK-953     20:40   \n",
       "\n",
       "   Arrival Duration     Stops   Price  \n",
       "0    00:40  02h 40m  non-stop          \n",
       "1    06:10  07h 25m    1-stop   9,419  \n",
       "2    06:10  09h 15m    1-stop   9,419  \n",
       "3    06:10  09h 25m    1-stop   9,419  \n",
       "4    02:50  05h 45m    1-stop   9,734  \n",
       "5    00:25  04h 00m    1-stop          \n",
       "6    00:20  02h 35m  non-stop  10,522  \n",
       "7    06:20  09h 05m    1-stop          \n",
       "8    06:15  06h 40m    1-stop  14,092  \n",
       "9    06:20  10h 20m    1-stop          \n",
       "10   14:35  17h 20m    1-stop          \n",
       "11   22:20  25h 05m    1-stop          \n",
       "12   14:35  18h 35m    1-stop          \n",
       "13   22:20  26h 20m    1-stop          \n",
       "14   12:45  14h 00m    1-stop  15,205  \n",
       "15   20:35  22h 40m    1-stop          \n",
       "16   01:55  05h 45m    1-stop  15,824  \n",
       "17   12:45  15h 15m    1-stop  16,140  \n",
       "18   14:35  17h 20m   2+-stop          \n",
       "19   22:20  25h 05m   2+-stop          \n",
       "20   12:45  16h 05m    1-stop  17,610  \n",
       "21   12:45  15h 25m   2+-stop  17,747  \n",
       "22   12:45  15h 25m   2+-stop  17,747  \n",
       "23   14:05  17h 25m    1-stop  18,975  \n",
       "24   22:35  02h 35m  non-stop  20,339  \n",
       "25   14:35  18h 20m   2+-stop          \n",
       "26   14:05  16h 35m    1-stop  23,908  \n",
       "27   14:05  16h 35m    1-stop  24,225  \n",
       "28   14:05  17h 25m    1-stop  25,378  \n",
       "29   14:05  17h 25m    1-stop  25,695  \n",
       "30   14:05  16h 35m    1-stop  26,220  \n",
       "31   14:05  17h 25m    1-stop  27,690  >"
      ]
     },
     "execution_count": 375,
     "metadata": {},
     "output_type": "execute_result"
    }
   ],
   "source": [
    "g1.head"
   ]
  },
  {
   "cell_type": "code",
   "execution_count": null,
   "id": "3d422aa2",
   "metadata": {},
   "outputs": [],
   "source": []
  }
 ],
 "metadata": {
  "kernelspec": {
   "display_name": "Python 3 (ipykernel)",
   "language": "python",
   "name": "python3"
  },
  "language_info": {
   "codemirror_mode": {
    "name": "ipython",
    "version": 3
   },
   "file_extension": ".py",
   "mimetype": "text/x-python",
   "name": "python",
   "nbconvert_exporter": "python",
   "pygments_lexer": "ipython3",
   "version": "3.9.12"
  }
 },
 "nbformat": 4,
 "nbformat_minor": 5
}
