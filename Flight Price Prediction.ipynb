{
 "cells": [
  {
   "cell_type": "raw",
   "id": "eefa4773",
   "metadata": {},
   "source": [
    "We have scrapped the flight data from many popular websites between major cities for many days\n",
    "Del-Mum\n",
    "Mum-Del\n",
    "Del-Banglore\n",
    "Banglore-Delhi\n",
    "Del-Goa\n",
    "Goa-Del\n",
    "Banglore-Kolkata\n",
    "Kolkata-Banglore\n"
   ]
  },
  {
   "cell_type": "code",
<<<<<<< Updated upstream
   "execution_count": 363,
   "id": "f0bc4cf5",
=======
   "execution_count": 1,
   "id": "00c5a3eb",
>>>>>>> Stashed changes
   "metadata": {},
   "outputs": [],
   "source": [
    "# Import required libraries\n",
    "\n",
    "import pandas as pd\n",
    "import numpy as np\n",
    "import seaborn as sns\n",
    "import matplotlib.pyplot as plt\n",
    "%matplotlib inline\n",
    "\n",
    "import warnings\n",
    "warnings.filterwarnings('ignore')\n"
   ]
  },
  {
   "cell_type": "code",
<<<<<<< Updated upstream
   "execution_count": 364,
   "id": "3c24e5ad",
=======
   "execution_count": 28,
   "id": "c8505cb1",
>>>>>>> Stashed changes
   "metadata": {},
   "outputs": [],
   "source": [
    "# Load dataset\n",
    "df=pd.read_csv('https://raw.githubusercontent.com/mohittomar2008/Flight-Price-Prediction-thru-Webscrapping/main/flight.csv', index_col=[0], parse_dates=['Booking_date','Journey_date'])"
   ]
  },
  {
   "cell_type": "code",
<<<<<<< Updated upstream
   "execution_count": 365,
   "id": "17d7d4b2",
=======
   "execution_count": 29,
   "id": "093baf8d",
>>>>>>> Stashed changes
   "metadata": {},
   "outputs": [
    {
     "data": {
      "text/html": [
       "<div>\n",
       "<style scoped>\n",
       "    .dataframe tbody tr th:only-of-type {\n",
       "        vertical-align: middle;\n",
       "    }\n",
       "\n",
       "    .dataframe tbody tr th {\n",
       "        vertical-align: top;\n",
       "    }\n",
       "\n",
       "    .dataframe thead th {\n",
       "        text-align: right;\n",
       "    }\n",
       "</style>\n",
       "<table border=\"1\" class=\"dataframe\">\n",
       "  <thead>\n",
       "    <tr style=\"text-align: right;\">\n",
       "      <th></th>\n",
       "      <th>From</th>\n",
       "      <th>To</th>\n",
       "      <th>Booking_date</th>\n",
       "      <th>Journey_date</th>\n",
       "      <th>Airline</th>\n",
       "      <th>Code</th>\n",
       "      <th>Departure</th>\n",
       "      <th>Arrival</th>\n",
       "      <th>Duration</th>\n",
       "      <th>Stops</th>\n",
       "      <th>Price</th>\n",
       "    </tr>\n",
       "  </thead>\n",
       "  <tbody>\n",
       "    <tr>\n",
       "      <th>7242</th>\n",
       "      <td>Bangalore</td>\n",
       "      <td>kolkata</td>\n",
       "      <td>2022-06-24</td>\n",
       "      <td>2022-06-28</td>\n",
       "      <td>GO FIRST</td>\n",
       "      <td>G8- 803</td>\n",
       "      <td>17:15</td>\n",
       "      <td>08:35</td>\n",
       "      <td>15h 20m</td>\n",
       "      <td>1-stop</td>\n",
       "      <td>16,896</td>\n",
       "    </tr>\n",
       "    <tr>\n",
       "      <th>2144</th>\n",
       "      <td>Delhi</td>\n",
       "      <td>Goa</td>\n",
       "      <td>2022-06-24</td>\n",
       "      <td>2022-06-25</td>\n",
       "      <td>Vistara</td>\n",
       "      <td>UK-981</td>\n",
       "      <td>21:30</td>\n",
       "      <td>12:45</td>\n",
       "      <td>15h 15m</td>\n",
       "      <td>1-stop</td>\n",
       "      <td>14,773</td>\n",
       "    </tr>\n",
       "    <tr>\n",
       "      <th>3432</th>\n",
       "      <td>Goa</td>\n",
       "      <td>Delhi</td>\n",
       "      <td>2022-06-24</td>\n",
       "      <td>2022-06-29</td>\n",
       "      <td>GO FIRST</td>\n",
       "      <td>G8- 381</td>\n",
       "      <td>06:40</td>\n",
       "      <td>12:05</td>\n",
       "      <td>05h 25m</td>\n",
       "      <td>1-stop</td>\n",
       "      <td>9,621</td>\n",
       "    </tr>\n",
       "    <tr>\n",
       "      <th>4596</th>\n",
       "      <td>Bangalore</td>\n",
       "      <td>Delhi</td>\n",
       "      <td>2022-06-24</td>\n",
       "      <td>2022-06-30</td>\n",
       "      <td>SpiceJet</td>\n",
       "      <td>SG- 516</td>\n",
       "      <td>09:15</td>\n",
       "      <td>04:40</td>\n",
       "      <td>19h 25m</td>\n",
       "      <td>1-stop</td>\n",
       "      <td>NaN</td>\n",
       "    </tr>\n",
       "    <tr>\n",
       "      <th>3091</th>\n",
       "      <td>Goa</td>\n",
       "      <td>Delhi</td>\n",
       "      <td>2022-06-24</td>\n",
       "      <td>2022-06-26</td>\n",
       "      <td>Indigo</td>\n",
       "      <td>6E- 744</td>\n",
       "      <td>07:20</td>\n",
       "      <td>13:55</td>\n",
       "      <td>06h 35m</td>\n",
       "      <td>1-stop</td>\n",
       "      <td>16,079</td>\n",
       "    </tr>\n",
       "  </tbody>\n",
       "</table>\n",
       "</div>"
      ],
      "text/plain": [
       "           From       To Booking_date Journey_date   Airline     Code  \\\n",
       "7242  Bangalore  kolkata   2022-06-24   2022-06-28  GO FIRST  G8- 803   \n",
       "2144      Delhi      Goa   2022-06-24   2022-06-25   Vistara   UK-981   \n",
       "3432        Goa    Delhi   2022-06-24   2022-06-29  GO FIRST  G8- 381   \n",
       "4596  Bangalore    Delhi   2022-06-24   2022-06-30  SpiceJet  SG- 516   \n",
       "3091        Goa    Delhi   2022-06-24   2022-06-26    Indigo  6E- 744   \n",
       "\n",
       "     Departure Arrival Duration   Stops   Price  \n",
       "7242     17:15   08:35  15h 20m  1-stop  16,896  \n",
       "2144     21:30   12:45  15h 15m  1-stop  14,773  \n",
       "3432     06:40   12:05  05h 25m  1-stop   9,621  \n",
       "4596     09:15   04:40  19h 25m  1-stop     NaN  \n",
       "3091     07:20   13:55  06h 35m  1-stop  16,079  "
      ]
     },
     "execution_count": 365,
     "metadata": {},
     "output_type": "execute_result"
    }
   ],
   "source": [
    "# Dataset random sample\n",
    "df.sample(5)"
   ]
  },
  {
   "cell_type": "code",
<<<<<<< Updated upstream
   "execution_count": 366,
   "id": "cb42ec26",
=======
   "execution_count": 30,
   "id": "02a5a44b",
>>>>>>> Stashed changes
   "metadata": {},
   "outputs": [
    {
     "data": {
      "text/plain": [
       "(7548, 11)"
      ]
     },
     "execution_count": 366,
     "metadata": {},
     "output_type": "execute_result"
    }
   ],
   "source": [
    "df.shape"
   ]
  },
  {
   "cell_type": "code",
<<<<<<< Updated upstream
   "execution_count": 367,
   "id": "2c299d89",
=======
   "execution_count": 32,
   "id": "909e2231",
>>>>>>> Stashed changes
   "metadata": {},
   "outputs": [
    {
     "data": {
      "text/plain": [
       "From               0\n",
       "To                 0\n",
       "Booking_date       0\n",
       "Journey_date       0\n",
       "Airline            0\n",
       "Code               0\n",
       "Departure          0\n",
       "Arrival            0\n",
       "Duration           0\n",
       "Stops              0\n",
       "Price           1486\n",
       "dtype: int64"
      ]
     },
     "execution_count": 367,
     "metadata": {},
     "output_type": "execute_result"
    }
   ],
   "source": [
    "df.isnull().sum() # target feature have some Null values, so better to ignore those records"
   ]
  },
  {
   "cell_type": "code",
<<<<<<< Updated upstream
   "execution_count": 368,
   "id": "ef5a5b0e",
=======
   "execution_count": 33,
   "id": "ec03683d",
>>>>>>> Stashed changes
   "metadata": {},
   "outputs": [],
   "source": [
    "df.dropna(inplace=True)"
   ]
  },
  {
   "cell_type": "code",
<<<<<<< Updated upstream
   "execution_count": 369,
   "id": "a1f2c644",
=======
   "execution_count": 34,
   "id": "ab549f62",
>>>>>>> Stashed changes
   "metadata": {},
   "outputs": [
    {
     "data": {
      "text/plain": [
       "(6062, 11)"
      ]
     },
     "execution_count": 369,
     "metadata": {},
     "output_type": "execute_result"
    }
   ],
   "source": [
    "df.shape\n"
   ]
  },
  {
   "cell_type": "markdown",
   "id": "5f3a872b",
   "metadata": {},
   "source": [
    "# Feature Preprocessing on features"
   ]
  },
  {
   "cell_type": "code",
<<<<<<< Updated upstream
   "execution_count": 370,
   "id": "5a589d5f",
=======
   "execution_count": 35,
   "id": "8c5290d9",
>>>>>>> Stashed changes
   "metadata": {},
   "outputs": [
    {
     "name": "stdout",
     "output_type": "stream",
     "text": [
      "<class 'pandas.core.frame.DataFrame'>\n",
      "Int64Index: 6062 entries, 0 to 7547\n",
      "Data columns (total 11 columns):\n",
      " #   Column        Non-Null Count  Dtype         \n",
      "---  ------        --------------  -----         \n",
      " 0   From          6062 non-null   object        \n",
      " 1   To            6062 non-null   object        \n",
      " 2   Booking_date  6062 non-null   datetime64[ns]\n",
      " 3   Journey_date  6062 non-null   datetime64[ns]\n",
      " 4   Airline       6062 non-null   object        \n",
      " 5   Code          6062 non-null   object        \n",
      " 6   Departure     6062 non-null   object        \n",
      " 7   Arrival       6062 non-null   object        \n",
      " 8   Duration      6062 non-null   object        \n",
      " 9   Stops         6062 non-null   object        \n",
      " 10  Price         6062 non-null   object        \n",
      "dtypes: datetime64[ns](2), object(9)\n",
      "memory usage: 568.3+ KB\n"
     ]
    }
   ],
   "source": [
    "df.info()"
   ]
  },
  {
   "cell_type": "code",
<<<<<<< Updated upstream
   "execution_count": 371,
   "id": "0a800962",
=======
   "execution_count": 36,
   "id": "936499fd",
>>>>>>> Stashed changes
   "metadata": {},
   "outputs": [
    {
     "data": {
      "text/html": [
       "<div>\n",
       "<style scoped>\n",
       "    .dataframe tbody tr th:only-of-type {\n",
       "        vertical-align: middle;\n",
       "    }\n",
       "\n",
       "    .dataframe tbody tr th {\n",
       "        vertical-align: top;\n",
       "    }\n",
       "\n",
       "    .dataframe thead th {\n",
       "        text-align: right;\n",
       "    }\n",
       "</style>\n",
       "<table border=\"1\" class=\"dataframe\">\n",
       "  <thead>\n",
       "    <tr style=\"text-align: right;\">\n",
       "      <th></th>\n",
       "      <th>From</th>\n",
       "      <th>To</th>\n",
       "      <th>Booking_date</th>\n",
       "      <th>Journey_date</th>\n",
       "      <th>Airline</th>\n",
       "      <th>Code</th>\n",
       "      <th>Departure</th>\n",
       "      <th>Arrival</th>\n",
       "      <th>Duration</th>\n",
       "      <th>Stops</th>\n",
       "      <th>Price</th>\n",
       "    </tr>\n",
       "  </thead>\n",
       "  <tbody>\n",
       "    <tr>\n",
       "      <th>0</th>\n",
       "      <td>Delhi</td>\n",
       "      <td>Bangalore</td>\n",
       "      <td>2022-06-23</td>\n",
       "      <td>2022-06-23</td>\n",
       "      <td>Air India</td>\n",
       "      <td>AI-504</td>\n",
       "      <td>21:15</td>\n",
       "      <td>00:05\\n+1D</td>\n",
       "      <td>2h 50m</td>\n",
       "      <td>non-stop</td>\n",
       "      <td>₹9,420</td>\n",
       "    </tr>\n",
       "    <tr>\n",
       "      <th>1</th>\n",
       "      <td>Delhi</td>\n",
       "      <td>Bangalore</td>\n",
       "      <td>2022-06-23</td>\n",
       "      <td>2022-06-23</td>\n",
       "      <td>IndiGo</td>\n",
       "      <td>6E-2131</td>\n",
       "      <td>21:30</td>\n",
       "      <td>00:15\\n+1D</td>\n",
       "      <td>2h 45m</td>\n",
       "      <td>non-stop</td>\n",
       "      <td>₹9,419</td>\n",
       "    </tr>\n",
       "  </tbody>\n",
       "</table>\n",
       "</div>"
      ],
      "text/plain": [
       "    From         To Booking_date Journey_date    Airline     Code Departure  \\\n",
       "0  Delhi  Bangalore   2022-06-23   2022-06-23  Air India   AI-504     21:15   \n",
       "1  Delhi  Bangalore   2022-06-23   2022-06-23     IndiGo  6E-2131     21:30   \n",
       "\n",
       "      Arrival Duration     Stops   Price  \n",
       "0  00:05\\n+1D   2h 50m  non-stop  ₹9,420  \n",
       "1  00:15\\n+1D   2h 45m  non-stop  ₹9,419  "
      ]
     },
     "execution_count": 371,
     "metadata": {},
     "output_type": "execute_result"
    }
   ],
   "source": [
    "df.head(2)"
   ]
  },
  {
   "cell_type": "code",
<<<<<<< Updated upstream
   "execution_count": 372,
   "id": "7e270a3d",
=======
   "execution_count": null,
   "id": "76a17ce7",
>>>>>>> Stashed changes
   "metadata": {},
   "outputs": [
    {
     "data": {
      "text/plain": [
       "Airline   Code   \n",
       "Air Asia  I5-1529     4\n",
       "          I5-1732    10\n",
       "          I5-549      8\n",
       "          I5-552     14\n",
       "          I5-710      1\n",
       "                     ..\n",
       "Vistara   UK-993     56\n",
       "          UK-994      6\n",
       "          UK-995     48\n",
       "          UK-996      6\n",
       "          UK-997      1\n",
       "Name: Code, Length: 632, dtype: int64"
      ]
     },
     "execution_count": 372,
     "metadata": {},
     "output_type": "execute_result"
    }
   ],
   "source": [
    "df.groupby(['Airline','Code'])['Code'].count()"
   ]
  },
  {
   "cell_type": "code",
   "execution_count": 373,
   "id": "09a66914",
   "metadata": {},
   "outputs": [],
   "source": [
    "# We are arrangine the flight in between cities"
   ]
  },
  {
   "cell_type": "code",
   "execution_count": 374,
   "id": "5912ebc1",
   "metadata": {},
   "outputs": [],
   "source": [
    "df['Traveling_cities']= df['From']+'-'+df['To']"
   ]
  },
  {
   "cell_type": "code",
   "execution_count": 375,
   "id": "cb1b3b77",
   "metadata": {},
   "outputs": [
    {
     "data": {
      "text/plain": [
       "Delhi-Bangalore      1074\n",
       "Delhi-Mumbai          939\n",
       "Mumbai-Delhi          885\n",
       "Bangalore-Delhi       776\n",
       "Bangalore-kolkata     646\n",
       "Kolkata-Bangalore     590\n",
       "Delhi-Goa             588\n",
       "Goa-Delhi             564\n",
       "Name: Traveling_cities, dtype: int64"
      ]
     },
     "execution_count": 375,
     "metadata": {},
     "output_type": "execute_result"
    }
   ],
   "source": [
    "df['Traveling_cities'].value_counts()"
   ]
  },
  {
   "cell_type": "code",
   "execution_count": 376,
   "id": "fabd1b41",
   "metadata": {},
   "outputs": [],
   "source": [
    "df['Traveling_cities']=df['Traveling_cities'].replace('Bangalore-Delhi','Delhi-Bangalore')\n",
    "df['Traveling_cities']=df['Traveling_cities'].replace('Mumbai-Delhi','Delhi-Mumbai')\n",
    "df['Traveling_cities']=df['Traveling_cities'].replace('Kolkata-Bangalore','Bangalore-kolkata')\n",
    "df['Traveling_cities']=df['Traveling_cities'].replace('Goa-Delhi','Delhi-Goa')\n"
   ]
  },
  {
   "cell_type": "code",
   "execution_count": 377,
   "id": "a28aa50b",
   "metadata": {},
   "outputs": [
    {
     "data": {
      "text/plain": [
       "Delhi-Bangalore      1850\n",
       "Delhi-Mumbai         1824\n",
       "Bangalore-kolkata    1236\n",
       "Delhi-Goa            1152\n",
       "Name: Traveling_cities, dtype: int64"
      ]
     },
     "execution_count": 377,
     "metadata": {},
     "output_type": "execute_result"
    }
   ],
   "source": [
    "df['Traveling_cities'].value_counts()"
   ]
  },
  {
   "cell_type": "code",
   "execution_count": 378,
   "id": "60995e74",
   "metadata": {},
   "outputs": [],
   "source": [
    "# Create new column with hoe many days early we booked ticket because it has been seen the early you book ticket, the cheaper you get\n",
    "# Last minute ticket is always expensive"
   ]
  },
  {
   "cell_type": "code",
   "execution_count": 379,
   "id": "77177fc2",
   "metadata": {},
   "outputs": [],
   "source": [
    "df['Early_booking']=df['Journey_date'].dt.day-  df['Booking_date'].dt.day"
   ]
  },
  {
   "cell_type": "code",
   "execution_count": 380,
   "id": "be554bd2",
   "metadata": {},
   "outputs": [
    {
     "data": {
      "text/html": [
       "<div>\n",
       "<style scoped>\n",
       "    .dataframe tbody tr th:only-of-type {\n",
       "        vertical-align: middle;\n",
       "    }\n",
       "\n",
       "    .dataframe tbody tr th {\n",
       "        vertical-align: top;\n",
       "    }\n",
       "\n",
       "    .dataframe thead th {\n",
       "        text-align: right;\n",
       "    }\n",
       "</style>\n",
       "<table border=\"1\" class=\"dataframe\">\n",
       "  <thead>\n",
       "    <tr style=\"text-align: right;\">\n",
       "      <th></th>\n",
       "      <th>From</th>\n",
       "      <th>To</th>\n",
       "      <th>Booking_date</th>\n",
       "      <th>Journey_date</th>\n",
       "      <th>Airline</th>\n",
       "      <th>Code</th>\n",
       "      <th>Departure</th>\n",
       "      <th>Arrival</th>\n",
       "      <th>Duration</th>\n",
       "      <th>Stops</th>\n",
       "      <th>Price</th>\n",
       "      <th>Traveling_cities</th>\n",
       "      <th>Early_booking</th>\n",
       "    </tr>\n",
       "  </thead>\n",
       "  <tbody>\n",
       "    <tr>\n",
       "      <th>0</th>\n",
       "      <td>Delhi</td>\n",
       "      <td>Bangalore</td>\n",
       "      <td>2022-06-23</td>\n",
       "      <td>2022-06-23</td>\n",
       "      <td>Air India</td>\n",
       "      <td>AI-504</td>\n",
       "      <td>21:15</td>\n",
       "      <td>00:05\\n+1D</td>\n",
       "      <td>2h 50m</td>\n",
       "      <td>non-stop</td>\n",
       "      <td>₹9,420</td>\n",
       "      <td>Delhi-Bangalore</td>\n",
       "      <td>0</td>\n",
       "    </tr>\n",
       "    <tr>\n",
       "      <th>1</th>\n",
       "      <td>Delhi</td>\n",
       "      <td>Bangalore</td>\n",
       "      <td>2022-06-23</td>\n",
       "      <td>2022-06-23</td>\n",
       "      <td>IndiGo</td>\n",
       "      <td>6E-2131</td>\n",
       "      <td>21:30</td>\n",
       "      <td>00:15\\n+1D</td>\n",
       "      <td>2h 45m</td>\n",
       "      <td>non-stop</td>\n",
       "      <td>₹9,419</td>\n",
       "      <td>Delhi-Bangalore</td>\n",
       "      <td>0</td>\n",
       "    </tr>\n",
       "  </tbody>\n",
       "</table>\n",
       "</div>"
      ],
      "text/plain": [
       "    From         To Booking_date Journey_date    Airline     Code Departure  \\\n",
       "0  Delhi  Bangalore   2022-06-23   2022-06-23  Air India   AI-504     21:15   \n",
       "1  Delhi  Bangalore   2022-06-23   2022-06-23     IndiGo  6E-2131     21:30   \n",
       "\n",
       "      Arrival Duration     Stops   Price Traveling_cities  Early_booking  \n",
       "0  00:05\\n+1D   2h 50m  non-stop  ₹9,420  Delhi-Bangalore              0  \n",
       "1  00:15\\n+1D   2h 45m  non-stop  ₹9,419  Delhi-Bangalore              0  "
      ]
     },
     "execution_count": 380,
     "metadata": {},
     "output_type": "execute_result"
    }
   ],
   "source": [
    "df.head(2)"
   ]
  },
  {
   "cell_type": "code",
   "execution_count": 381,
   "id": "e6bba41a",
   "metadata": {},
   "outputs": [
    {
     "data": {
      "text/plain": [
       "array(['Air India', 'IndiGo', 'Vistara', 'GO FIRST', 'SpiceJet',\n",
       "       'Air Asia', 'Indigo', 'AirAsia'], dtype=object)"
      ]
     },
     "execution_count": 381,
     "metadata": {},
     "output_type": "execute_result"
    }
   ],
   "source": [
    "df['Airline'].unique()"
   ]
  },
  {
   "cell_type": "code",
   "execution_count": 382,
   "id": "9b84c50a",
   "metadata": {},
   "outputs": [],
   "source": [
    "df['Airline']=df['Airline'].replace('Air Asia','AirAsia')\n",
    "df['Airline']=df['Airline'].replace('Indigo','IndiGo')"
   ]
  },
  {
   "cell_type": "code",
   "execution_count": 383,
   "id": "43b4dc90",
   "metadata": {},
   "outputs": [
    {
     "data": {
      "text/plain": [
       "array(['Air India', 'IndiGo', 'Vistara', 'GO FIRST', 'SpiceJet',\n",
       "       'AirAsia'], dtype=object)"
      ]
     },
     "execution_count": 383,
     "metadata": {},
     "output_type": "execute_result"
    }
   ],
   "source": [
    "df['Airline'].unique()"
   ]
  },
  {
   "cell_type": "code",
   "execution_count": 384,
   "id": "466731a6",
   "metadata": {},
   "outputs": [],
   "source": [
    "# Change departure and arrival time in day zone"
   ]
  },
  {
   "cell_type": "code",
   "execution_count": 385,
   "id": "483a49d8",
   "metadata": {},
   "outputs": [
    {
     "data": {
      "text/plain": [
       "dtype('O')"
      ]
     },
     "execution_count": 385,
     "metadata": {},
     "output_type": "execute_result"
    }
   ],
   "source": [
    "df['Departure'].dtype"
   ]
  },
  {
   "cell_type": "code",
   "execution_count": 386,
   "id": "bc85dd25",
   "metadata": {},
   "outputs": [],
   "source": [
    "# Departure and Arrival is basically the time, lets convert those features in intereg datatype"
   ]
  },
  {
   "cell_type": "code",
   "execution_count": 387,
   "id": "9bda8a7e",
   "metadata": {},
   "outputs": [],
   "source": [
    "# convert Departure column into datetime to extract hour\n",
    "\n",
    "df['Departure']=pd.to_datetime(df['Departure']).dt.hour  # minute is not required as we will divide day into zones"
   ]
  },
  {
   "cell_type": "code",
   "execution_count": 388,
   "id": "852185cd",
   "metadata": {},
   "outputs": [
    {
     "data": {
      "text/plain": [
       "0       [00:05, +1D]\n",
       "1       [00:15, +1D]\n",
       "2       [01:45, +1D]\n",
       "3       [07:50, +1D]\n",
       "4       [18:20, +1D]\n",
       "            ...     \n",
       "7543         [19:35]\n",
       "7544         [18:05]\n",
       "7545         [19:35]\n",
       "7546         [22:45]\n",
       "7547         [12:05]\n",
       "Name: Arrival, Length: 6062, dtype: object"
      ]
     },
     "execution_count": 388,
     "metadata": {},
     "output_type": "execute_result"
    }
   ],
   "source": [
    "df['Arrival'].str.split('\\n')"
   ]
  },
  {
   "cell_type": "code",
   "execution_count": null,
   "id": "43873501",
   "metadata": {},
   "outputs": [],
   "source": []
  },
  {
   "cell_type": "code",
   "execution_count": 389,
   "id": "619af93a",
   "metadata": {},
   "outputs": [],
   "source": [
    "arrival=list(df['Arrival'])"
   ]
  },
  {
   "cell_type": "code",
   "execution_count": null,
   "id": "6c94a502",
   "metadata": {},
   "outputs": [],
   "source": []
  },
  {
   "cell_type": "code",
   "execution_count": 390,
   "id": "9796f482",
   "metadata": {},
   "outputs": [],
   "source": [
    "for i in range(len(arrival)):\n",
    "    if len(arrival[i].split('\\n'))==2:\n",
    "        arrival[i]=arrival[i].split('\\n')[0]\n",
    "    else:\n",
    "        arrival[i]= arrival[i]"
   ]
  },
  {
   "cell_type": "code",
   "execution_count": 391,
   "id": "7694efef",
   "metadata": {},
   "outputs": [
    {
     "data": {
      "text/plain": [
       "6062"
      ]
     },
     "execution_count": 391,
     "metadata": {},
     "output_type": "execute_result"
    }
   ],
   "source": [
    "len(arrival)"
   ]
  },
  {
   "cell_type": "code",
   "execution_count": 392,
   "id": "7d4ab1bf",
   "metadata": {},
   "outputs": [],
   "source": [
    "df['Arrival']= arrival"
   ]
  },
  {
   "cell_type": "code",
   "execution_count": 393,
   "id": "e4e68686",
   "metadata": {},
   "outputs": [
    {
     "data": {
      "text/html": [
       "<div>\n",
       "<style scoped>\n",
       "    .dataframe tbody tr th:only-of-type {\n",
       "        vertical-align: middle;\n",
       "    }\n",
       "\n",
       "    .dataframe tbody tr th {\n",
       "        vertical-align: top;\n",
       "    }\n",
       "\n",
       "    .dataframe thead th {\n",
       "        text-align: right;\n",
       "    }\n",
       "</style>\n",
       "<table border=\"1\" class=\"dataframe\">\n",
       "  <thead>\n",
       "    <tr style=\"text-align: right;\">\n",
       "      <th></th>\n",
       "      <th>From</th>\n",
       "      <th>To</th>\n",
       "      <th>Booking_date</th>\n",
       "      <th>Journey_date</th>\n",
       "      <th>Airline</th>\n",
       "      <th>Code</th>\n",
       "      <th>Departure</th>\n",
       "      <th>Arrival</th>\n",
       "      <th>Duration</th>\n",
       "      <th>Stops</th>\n",
       "      <th>Price</th>\n",
       "      <th>Traveling_cities</th>\n",
       "      <th>Early_booking</th>\n",
       "    </tr>\n",
       "  </thead>\n",
       "  <tbody>\n",
       "    <tr>\n",
       "      <th>0</th>\n",
       "      <td>Delhi</td>\n",
       "      <td>Bangalore</td>\n",
       "      <td>2022-06-23</td>\n",
       "      <td>2022-06-23</td>\n",
       "      <td>Air India</td>\n",
       "      <td>AI-504</td>\n",
       "      <td>21</td>\n",
       "      <td>00:05</td>\n",
       "      <td>2h 50m</td>\n",
       "      <td>non-stop</td>\n",
       "      <td>₹9,420</td>\n",
       "      <td>Delhi-Bangalore</td>\n",
       "      <td>0</td>\n",
       "    </tr>\n",
       "    <tr>\n",
       "      <th>1</th>\n",
       "      <td>Delhi</td>\n",
       "      <td>Bangalore</td>\n",
       "      <td>2022-06-23</td>\n",
       "      <td>2022-06-23</td>\n",
       "      <td>IndiGo</td>\n",
       "      <td>6E-2131</td>\n",
       "      <td>21</td>\n",
       "      <td>00:15</td>\n",
       "      <td>2h 45m</td>\n",
       "      <td>non-stop</td>\n",
       "      <td>₹9,419</td>\n",
       "      <td>Delhi-Bangalore</td>\n",
       "      <td>0</td>\n",
       "    </tr>\n",
       "    <tr>\n",
       "      <th>2</th>\n",
       "      <td>Delhi</td>\n",
       "      <td>Bangalore</td>\n",
       "      <td>2022-06-23</td>\n",
       "      <td>2022-06-23</td>\n",
       "      <td>IndiGo</td>\n",
       "      <td>6E-6565</td>\n",
       "      <td>22</td>\n",
       "      <td>01:45</td>\n",
       "      <td>2h 50m</td>\n",
       "      <td>non-stop</td>\n",
       "      <td>₹9,419</td>\n",
       "      <td>Delhi-Bangalore</td>\n",
       "      <td>0</td>\n",
       "    </tr>\n",
       "    <tr>\n",
       "      <th>3</th>\n",
       "      <td>Delhi</td>\n",
       "      <td>Bangalore</td>\n",
       "      <td>2022-06-23</td>\n",
       "      <td>2022-06-23</td>\n",
       "      <td>Air India</td>\n",
       "      <td>AI-605</td>\n",
       "      <td>21</td>\n",
       "      <td>07:50</td>\n",
       "      <td>10h 35m</td>\n",
       "      <td>1 stop</td>\n",
       "      <td>₹14,775</td>\n",
       "      <td>Delhi-Bangalore</td>\n",
       "      <td>0</td>\n",
       "    </tr>\n",
       "    <tr>\n",
       "      <th>4</th>\n",
       "      <td>Delhi</td>\n",
       "      <td>Bangalore</td>\n",
       "      <td>2022-06-23</td>\n",
       "      <td>2022-06-23</td>\n",
       "      <td>Air India</td>\n",
       "      <td>AI-605</td>\n",
       "      <td>21</td>\n",
       "      <td>18:20</td>\n",
       "      <td>21h 5m</td>\n",
       "      <td>1 stop</td>\n",
       "      <td>₹14,985</td>\n",
       "      <td>Delhi-Bangalore</td>\n",
       "      <td>0</td>\n",
       "    </tr>\n",
       "  </tbody>\n",
       "</table>\n",
       "</div>"
      ],
      "text/plain": [
       "    From         To Booking_date Journey_date    Airline     Code  Departure  \\\n",
       "0  Delhi  Bangalore   2022-06-23   2022-06-23  Air India   AI-504         21   \n",
       "1  Delhi  Bangalore   2022-06-23   2022-06-23     IndiGo  6E-2131         21   \n",
       "2  Delhi  Bangalore   2022-06-23   2022-06-23     IndiGo  6E-6565         22   \n",
       "3  Delhi  Bangalore   2022-06-23   2022-06-23  Air India   AI-605         21   \n",
       "4  Delhi  Bangalore   2022-06-23   2022-06-23  Air India   AI-605         21   \n",
       "\n",
       "  Arrival Duration     Stops    Price Traveling_cities  Early_booking  \n",
       "0   00:05   2h 50m  non-stop   ₹9,420  Delhi-Bangalore              0  \n",
       "1   00:15   2h 45m  non-stop   ₹9,419  Delhi-Bangalore              0  \n",
       "2   01:45   2h 50m  non-stop   ₹9,419  Delhi-Bangalore              0  \n",
       "3   07:50  10h 35m    1 stop  ₹14,775  Delhi-Bangalore              0  \n",
       "4   18:20   21h 5m    1 stop  ₹14,985  Delhi-Bangalore              0  "
      ]
     },
     "execution_count": 393,
     "metadata": {},
     "output_type": "execute_result"
    }
   ],
   "source": [
    "df.head()"
   ]
  },
  {
   "cell_type": "code",
   "execution_count": 394,
   "id": "3abcff61",
   "metadata": {},
   "outputs": [],
   "source": [
    "df['Arrival']=pd.to_datetime(df['Arrival']).dt.hour"
   ]
  },
  {
   "cell_type": "code",
   "execution_count": 395,
   "id": "fb630c53",
   "metadata": {},
   "outputs": [
    {
     "data": {
      "text/html": [
       "<div>\n",
       "<style scoped>\n",
       "    .dataframe tbody tr th:only-of-type {\n",
       "        vertical-align: middle;\n",
       "    }\n",
       "\n",
       "    .dataframe tbody tr th {\n",
       "        vertical-align: top;\n",
       "    }\n",
       "\n",
       "    .dataframe thead th {\n",
       "        text-align: right;\n",
       "    }\n",
       "</style>\n",
       "<table border=\"1\" class=\"dataframe\">\n",
       "  <thead>\n",
       "    <tr style=\"text-align: right;\">\n",
       "      <th></th>\n",
       "      <th>From</th>\n",
       "      <th>To</th>\n",
       "      <th>Booking_date</th>\n",
       "      <th>Journey_date</th>\n",
       "      <th>Airline</th>\n",
       "      <th>Code</th>\n",
       "      <th>Departure</th>\n",
       "      <th>Arrival</th>\n",
       "      <th>Duration</th>\n",
       "      <th>Stops</th>\n",
       "      <th>Price</th>\n",
       "      <th>Traveling_cities</th>\n",
       "      <th>Early_booking</th>\n",
       "    </tr>\n",
       "  </thead>\n",
       "  <tbody>\n",
       "    <tr>\n",
       "      <th>0</th>\n",
       "      <td>Delhi</td>\n",
       "      <td>Bangalore</td>\n",
       "      <td>2022-06-23</td>\n",
       "      <td>2022-06-23</td>\n",
       "      <td>Air India</td>\n",
       "      <td>AI-504</td>\n",
       "      <td>21</td>\n",
       "      <td>0</td>\n",
       "      <td>2h 50m</td>\n",
       "      <td>non-stop</td>\n",
       "      <td>₹9,420</td>\n",
       "      <td>Delhi-Bangalore</td>\n",
       "      <td>0</td>\n",
       "    </tr>\n",
       "    <tr>\n",
       "      <th>1</th>\n",
       "      <td>Delhi</td>\n",
       "      <td>Bangalore</td>\n",
       "      <td>2022-06-23</td>\n",
       "      <td>2022-06-23</td>\n",
       "      <td>IndiGo</td>\n",
       "      <td>6E-2131</td>\n",
       "      <td>21</td>\n",
       "      <td>0</td>\n",
       "      <td>2h 45m</td>\n",
       "      <td>non-stop</td>\n",
       "      <td>₹9,419</td>\n",
       "      <td>Delhi-Bangalore</td>\n",
       "      <td>0</td>\n",
       "    </tr>\n",
       "  </tbody>\n",
       "</table>\n",
       "</div>"
      ],
      "text/plain": [
       "    From         To Booking_date Journey_date    Airline     Code  Departure  \\\n",
       "0  Delhi  Bangalore   2022-06-23   2022-06-23  Air India   AI-504         21   \n",
       "1  Delhi  Bangalore   2022-06-23   2022-06-23     IndiGo  6E-2131         21   \n",
       "\n",
       "   Arrival Duration     Stops   Price Traveling_cities  Early_booking  \n",
       "0        0   2h 50m  non-stop  ₹9,420  Delhi-Bangalore              0  \n",
       "1        0   2h 45m  non-stop  ₹9,419  Delhi-Bangalore              0  "
      ]
     },
     "execution_count": 395,
     "metadata": {},
     "output_type": "execute_result"
    }
   ],
   "source": [
    "df.head(2)"
   ]
  },
  {
   "cell_type": "code",
   "execution_count": null,
   "id": "70ef5021",
   "metadata": {},
   "outputs": [],
   "source": []
  },
  {
   "cell_type": "code",
   "execution_count": 396,
   "id": "37835c5c",
   "metadata": {},
   "outputs": [],
   "source": [
    "#bins=[-1,5,11,16,20,24]\n",
    "#name=['night','Morning','afternoon','evening','midnight']\n",
    "#df['incident_period_of_the_day']= pd.cut(df['incident_hour_of_the_day'],bins,labels=name)"
   ]
  },
  {
   "cell_type": "code",
   "execution_count": 397,
   "id": "3fd47135",
   "metadata": {},
   "outputs": [],
   "source": [
    "bins=[-1,5,11,16,19,22,24]\n",
    "depart=['Early_morning_departure','morning_departure','afternoon_departure','evening_departure','night_departure','late_night_departure']\n",
    "arri=['Early_morning_arrival','morning_arrival','afternoon_arrival','evening_arrival','night_arrival','late_night_arrival']"
   ]
  },
  {
   "cell_type": "code",
   "execution_count": 398,
   "id": "214741a9",
   "metadata": {},
   "outputs": [],
   "source": [
    "df['Departure']=pd.cut(df['Departure'],bins,labels=depart)\n",
    "df['Arrival']=pd.cut(df['Arrival'],bins,labels=arri)"
   ]
  },
  {
   "cell_type": "code",
   "execution_count": 399,
   "id": "165e008e",
   "metadata": {},
   "outputs": [
    {
     "data": {
      "text/html": [
       "<div>\n",
       "<style scoped>\n",
       "    .dataframe tbody tr th:only-of-type {\n",
       "        vertical-align: middle;\n",
       "    }\n",
       "\n",
       "    .dataframe tbody tr th {\n",
       "        vertical-align: top;\n",
       "    }\n",
       "\n",
       "    .dataframe thead th {\n",
       "        text-align: right;\n",
       "    }\n",
       "</style>\n",
       "<table border=\"1\" class=\"dataframe\">\n",
       "  <thead>\n",
       "    <tr style=\"text-align: right;\">\n",
       "      <th></th>\n",
       "      <th>From</th>\n",
       "      <th>To</th>\n",
       "      <th>Booking_date</th>\n",
       "      <th>Journey_date</th>\n",
       "      <th>Airline</th>\n",
       "      <th>Code</th>\n",
       "      <th>Departure</th>\n",
       "      <th>Arrival</th>\n",
       "      <th>Duration</th>\n",
       "      <th>Stops</th>\n",
       "      <th>Price</th>\n",
       "      <th>Traveling_cities</th>\n",
       "      <th>Early_booking</th>\n",
       "    </tr>\n",
       "  </thead>\n",
       "  <tbody>\n",
       "    <tr>\n",
       "      <th>0</th>\n",
       "      <td>Delhi</td>\n",
       "      <td>Bangalore</td>\n",
       "      <td>2022-06-23</td>\n",
       "      <td>2022-06-23</td>\n",
       "      <td>Air India</td>\n",
       "      <td>AI-504</td>\n",
       "      <td>night_departure</td>\n",
       "      <td>Early_morning_arrival</td>\n",
       "      <td>2h 50m</td>\n",
       "      <td>non-stop</td>\n",
       "      <td>₹9,420</td>\n",
       "      <td>Delhi-Bangalore</td>\n",
       "      <td>0</td>\n",
       "    </tr>\n",
       "    <tr>\n",
       "      <th>1</th>\n",
       "      <td>Delhi</td>\n",
       "      <td>Bangalore</td>\n",
       "      <td>2022-06-23</td>\n",
       "      <td>2022-06-23</td>\n",
       "      <td>IndiGo</td>\n",
       "      <td>6E-2131</td>\n",
       "      <td>night_departure</td>\n",
       "      <td>Early_morning_arrival</td>\n",
       "      <td>2h 45m</td>\n",
       "      <td>non-stop</td>\n",
       "      <td>₹9,419</td>\n",
       "      <td>Delhi-Bangalore</td>\n",
       "      <td>0</td>\n",
       "    </tr>\n",
       "    <tr>\n",
       "      <th>2</th>\n",
       "      <td>Delhi</td>\n",
       "      <td>Bangalore</td>\n",
       "      <td>2022-06-23</td>\n",
       "      <td>2022-06-23</td>\n",
       "      <td>IndiGo</td>\n",
       "      <td>6E-6565</td>\n",
       "      <td>night_departure</td>\n",
       "      <td>Early_morning_arrival</td>\n",
       "      <td>2h 50m</td>\n",
       "      <td>non-stop</td>\n",
       "      <td>₹9,419</td>\n",
       "      <td>Delhi-Bangalore</td>\n",
       "      <td>0</td>\n",
       "    </tr>\n",
       "    <tr>\n",
       "      <th>3</th>\n",
       "      <td>Delhi</td>\n",
       "      <td>Bangalore</td>\n",
       "      <td>2022-06-23</td>\n",
       "      <td>2022-06-23</td>\n",
       "      <td>Air India</td>\n",
       "      <td>AI-605</td>\n",
       "      <td>night_departure</td>\n",
       "      <td>morning_arrival</td>\n",
       "      <td>10h 35m</td>\n",
       "      <td>1 stop</td>\n",
       "      <td>₹14,775</td>\n",
       "      <td>Delhi-Bangalore</td>\n",
       "      <td>0</td>\n",
       "    </tr>\n",
       "    <tr>\n",
       "      <th>4</th>\n",
       "      <td>Delhi</td>\n",
       "      <td>Bangalore</td>\n",
       "      <td>2022-06-23</td>\n",
       "      <td>2022-06-23</td>\n",
       "      <td>Air India</td>\n",
       "      <td>AI-605</td>\n",
       "      <td>night_departure</td>\n",
       "      <td>evening_arrival</td>\n",
       "      <td>21h 5m</td>\n",
       "      <td>1 stop</td>\n",
       "      <td>₹14,985</td>\n",
       "      <td>Delhi-Bangalore</td>\n",
       "      <td>0</td>\n",
       "    </tr>\n",
       "  </tbody>\n",
       "</table>\n",
       "</div>"
      ],
      "text/plain": [
       "    From         To Booking_date Journey_date    Airline     Code  \\\n",
       "0  Delhi  Bangalore   2022-06-23   2022-06-23  Air India   AI-504   \n",
       "1  Delhi  Bangalore   2022-06-23   2022-06-23     IndiGo  6E-2131   \n",
       "2  Delhi  Bangalore   2022-06-23   2022-06-23     IndiGo  6E-6565   \n",
       "3  Delhi  Bangalore   2022-06-23   2022-06-23  Air India   AI-605   \n",
       "4  Delhi  Bangalore   2022-06-23   2022-06-23  Air India   AI-605   \n",
       "\n",
       "         Departure                Arrival Duration     Stops    Price  \\\n",
       "0  night_departure  Early_morning_arrival   2h 50m  non-stop   ₹9,420   \n",
       "1  night_departure  Early_morning_arrival   2h 45m  non-stop   ₹9,419   \n",
       "2  night_departure  Early_morning_arrival   2h 50m  non-stop   ₹9,419   \n",
       "3  night_departure        morning_arrival  10h 35m    1 stop  ₹14,775   \n",
       "4  night_departure        evening_arrival   21h 5m    1 stop  ₹14,985   \n",
       "\n",
       "  Traveling_cities  Early_booking  \n",
       "0  Delhi-Bangalore              0  \n",
       "1  Delhi-Bangalore              0  \n",
       "2  Delhi-Bangalore              0  \n",
       "3  Delhi-Bangalore              0  \n",
       "4  Delhi-Bangalore              0  "
      ]
     },
     "execution_count": 399,
     "metadata": {},
     "output_type": "execute_result"
    }
   ],
   "source": [
    "df.head()"
   ]
  },
  {
   "cell_type": "code",
   "execution_count": 400,
   "id": "8d1e8ed3",
   "metadata": {},
   "outputs": [
    {
     "data": {
      "text/plain": [
       "0        [2h, 50m]\n",
       "1        [2h, 45m]\n",
       "2        [2h, 50m]\n",
       "3       [10h, 35m]\n",
       "4        [21h, 5m]\n",
       "           ...    \n",
       "7543    [08h, 05m]\n",
       "7544    [08h, 20m]\n",
       "7545    [09h, 50m]\n",
       "7546    [11h, 15m]\n",
       "7547    [06h, 55m]\n",
       "Name: Duration, Length: 6062, dtype: object"
      ]
     },
     "execution_count": 400,
     "metadata": {},
     "output_type": "execute_result"
    }
   ],
   "source": [
    "# we have duration in hours and minutes, lets convert complete feature in minutes\n",
    "\n",
    "df['Duration'].str.split(' ')"
   ]
  },
  {
   "cell_type": "code",
   "execution_count": 401,
   "id": "e725dd91",
   "metadata": {},
   "outputs": [],
   "source": [
    "duration=list(df[\"Duration\"])\n",
    "\n",
    "for i in range(len(duration)):\n",
    "    if len(duration[i].split())!=2:\n",
    "        if \"h\" in duration[i]:\n",
    "            duration[i]=duration[i].strip() + \" 0m\"\n",
    "        else:\n",
    "            duration[i]=  \"0h \"  + duration[i]\n",
    "            \n",
    "duration_hours=[]\n",
    "duration_minutes=[]\n",
    "\n",
    "for  i in range(len(duration)):\n",
    "    duration_hours.append(int(duration[i].split(\"h\")[0]))\n",
    "    duration_minutes.append(int(duration[i].split(\"m\")[0].split()[-1]))\n",
    "    \n",
    "\n",
    "df[\"duration_hours\"]=duration_hours\n",
    "df[\"duration_minutes\"]=duration_minutes"
   ]
  },
  {
   "cell_type": "code",
   "execution_count": 402,
   "id": "55d38e49",
   "metadata": {},
   "outputs": [
    {
     "data": {
      "text/html": [
       "<div>\n",
       "<style scoped>\n",
       "    .dataframe tbody tr th:only-of-type {\n",
       "        vertical-align: middle;\n",
       "    }\n",
       "\n",
       "    .dataframe tbody tr th {\n",
       "        vertical-align: top;\n",
       "    }\n",
       "\n",
       "    .dataframe thead th {\n",
       "        text-align: right;\n",
       "    }\n",
       "</style>\n",
       "<table border=\"1\" class=\"dataframe\">\n",
       "  <thead>\n",
       "    <tr style=\"text-align: right;\">\n",
       "      <th></th>\n",
       "      <th>From</th>\n",
       "      <th>To</th>\n",
       "      <th>Booking_date</th>\n",
       "      <th>Journey_date</th>\n",
       "      <th>Airline</th>\n",
       "      <th>Code</th>\n",
       "      <th>Departure</th>\n",
       "      <th>Arrival</th>\n",
       "      <th>Duration</th>\n",
       "      <th>Stops</th>\n",
       "      <th>Price</th>\n",
       "      <th>Traveling_cities</th>\n",
       "      <th>Early_booking</th>\n",
       "      <th>duration_hours</th>\n",
       "      <th>duration_minutes</th>\n",
       "    </tr>\n",
       "  </thead>\n",
       "  <tbody>\n",
       "    <tr>\n",
       "      <th>0</th>\n",
       "      <td>Delhi</td>\n",
       "      <td>Bangalore</td>\n",
       "      <td>2022-06-23</td>\n",
       "      <td>2022-06-23</td>\n",
       "      <td>Air India</td>\n",
       "      <td>AI-504</td>\n",
       "      <td>night_departure</td>\n",
       "      <td>Early_morning_arrival</td>\n",
       "      <td>2h 50m</td>\n",
       "      <td>non-stop</td>\n",
       "      <td>₹9,420</td>\n",
       "      <td>Delhi-Bangalore</td>\n",
       "      <td>0</td>\n",
       "      <td>2</td>\n",
       "      <td>50</td>\n",
       "    </tr>\n",
       "    <tr>\n",
       "      <th>1</th>\n",
       "      <td>Delhi</td>\n",
       "      <td>Bangalore</td>\n",
       "      <td>2022-06-23</td>\n",
       "      <td>2022-06-23</td>\n",
       "      <td>IndiGo</td>\n",
       "      <td>6E-2131</td>\n",
       "      <td>night_departure</td>\n",
       "      <td>Early_morning_arrival</td>\n",
       "      <td>2h 45m</td>\n",
       "      <td>non-stop</td>\n",
       "      <td>₹9,419</td>\n",
       "      <td>Delhi-Bangalore</td>\n",
       "      <td>0</td>\n",
       "      <td>2</td>\n",
       "      <td>45</td>\n",
       "    </tr>\n",
       "    <tr>\n",
       "      <th>2</th>\n",
       "      <td>Delhi</td>\n",
       "      <td>Bangalore</td>\n",
       "      <td>2022-06-23</td>\n",
       "      <td>2022-06-23</td>\n",
       "      <td>IndiGo</td>\n",
       "      <td>6E-6565</td>\n",
       "      <td>night_departure</td>\n",
       "      <td>Early_morning_arrival</td>\n",
       "      <td>2h 50m</td>\n",
       "      <td>non-stop</td>\n",
       "      <td>₹9,419</td>\n",
       "      <td>Delhi-Bangalore</td>\n",
       "      <td>0</td>\n",
       "      <td>2</td>\n",
       "      <td>50</td>\n",
       "    </tr>\n",
       "    <tr>\n",
       "      <th>3</th>\n",
       "      <td>Delhi</td>\n",
       "      <td>Bangalore</td>\n",
       "      <td>2022-06-23</td>\n",
       "      <td>2022-06-23</td>\n",
       "      <td>Air India</td>\n",
       "      <td>AI-605</td>\n",
       "      <td>night_departure</td>\n",
       "      <td>morning_arrival</td>\n",
       "      <td>10h 35m</td>\n",
       "      <td>1 stop</td>\n",
       "      <td>₹14,775</td>\n",
       "      <td>Delhi-Bangalore</td>\n",
       "      <td>0</td>\n",
       "      <td>10</td>\n",
       "      <td>35</td>\n",
       "    </tr>\n",
       "    <tr>\n",
       "      <th>4</th>\n",
       "      <td>Delhi</td>\n",
       "      <td>Bangalore</td>\n",
       "      <td>2022-06-23</td>\n",
       "      <td>2022-06-23</td>\n",
       "      <td>Air India</td>\n",
       "      <td>AI-605</td>\n",
       "      <td>night_departure</td>\n",
       "      <td>evening_arrival</td>\n",
       "      <td>21h 5m</td>\n",
       "      <td>1 stop</td>\n",
       "      <td>₹14,985</td>\n",
       "      <td>Delhi-Bangalore</td>\n",
       "      <td>0</td>\n",
       "      <td>21</td>\n",
       "      <td>5</td>\n",
       "    </tr>\n",
       "  </tbody>\n",
       "</table>\n",
       "</div>"
      ],
      "text/plain": [
       "    From         To Booking_date Journey_date    Airline     Code  \\\n",
       "0  Delhi  Bangalore   2022-06-23   2022-06-23  Air India   AI-504   \n",
       "1  Delhi  Bangalore   2022-06-23   2022-06-23     IndiGo  6E-2131   \n",
       "2  Delhi  Bangalore   2022-06-23   2022-06-23     IndiGo  6E-6565   \n",
       "3  Delhi  Bangalore   2022-06-23   2022-06-23  Air India   AI-605   \n",
       "4  Delhi  Bangalore   2022-06-23   2022-06-23  Air India   AI-605   \n",
       "\n",
       "         Departure                Arrival Duration     Stops    Price  \\\n",
       "0  night_departure  Early_morning_arrival   2h 50m  non-stop   ₹9,420   \n",
       "1  night_departure  Early_morning_arrival   2h 45m  non-stop   ₹9,419   \n",
       "2  night_departure  Early_morning_arrival   2h 50m  non-stop   ₹9,419   \n",
       "3  night_departure        morning_arrival  10h 35m    1 stop  ₹14,775   \n",
       "4  night_departure        evening_arrival   21h 5m    1 stop  ₹14,985   \n",
       "\n",
       "  Traveling_cities  Early_booking  duration_hours  duration_minutes  \n",
       "0  Delhi-Bangalore              0               2                50  \n",
       "1  Delhi-Bangalore              0               2                45  \n",
       "2  Delhi-Bangalore              0               2                50  \n",
       "3  Delhi-Bangalore              0              10                35  \n",
       "4  Delhi-Bangalore              0              21                 5  "
      ]
     },
     "execution_count": 402,
     "metadata": {},
     "output_type": "execute_result"
    }
   ],
   "source": [
    "df.head()"
   ]
  },
  {
   "cell_type": "code",
   "execution_count": 403,
   "id": "5be44c03",
   "metadata": {},
   "outputs": [],
   "source": [
    "# Total time travel in hours\n",
    "\n",
    "df[\"total_travel_time\"]=np.round((df[\"duration_minutes\"]/60)+ df[\"duration_hours\"],2)"
   ]
  },
  {
   "cell_type": "code",
   "execution_count": 404,
   "id": "2cb3cff9",
   "metadata": {},
   "outputs": [
    {
     "data": {
      "text/html": [
       "<div>\n",
       "<style scoped>\n",
       "    .dataframe tbody tr th:only-of-type {\n",
       "        vertical-align: middle;\n",
       "    }\n",
       "\n",
       "    .dataframe tbody tr th {\n",
       "        vertical-align: top;\n",
       "    }\n",
       "\n",
       "    .dataframe thead th {\n",
       "        text-align: right;\n",
       "    }\n",
       "</style>\n",
       "<table border=\"1\" class=\"dataframe\">\n",
       "  <thead>\n",
       "    <tr style=\"text-align: right;\">\n",
       "      <th></th>\n",
       "      <th>From</th>\n",
       "      <th>To</th>\n",
       "      <th>Booking_date</th>\n",
       "      <th>Journey_date</th>\n",
       "      <th>Airline</th>\n",
       "      <th>Code</th>\n",
       "      <th>Departure</th>\n",
       "      <th>Arrival</th>\n",
       "      <th>Duration</th>\n",
       "      <th>Stops</th>\n",
       "      <th>Price</th>\n",
       "      <th>Traveling_cities</th>\n",
       "      <th>Early_booking</th>\n",
       "      <th>duration_hours</th>\n",
       "      <th>duration_minutes</th>\n",
       "      <th>total_travel_time</th>\n",
       "    </tr>\n",
       "  </thead>\n",
       "  <tbody>\n",
       "    <tr>\n",
       "      <th>0</th>\n",
       "      <td>Delhi</td>\n",
       "      <td>Bangalore</td>\n",
       "      <td>2022-06-23</td>\n",
       "      <td>2022-06-23</td>\n",
       "      <td>Air India</td>\n",
       "      <td>AI-504</td>\n",
       "      <td>night_departure</td>\n",
       "      <td>Early_morning_arrival</td>\n",
       "      <td>2h 50m</td>\n",
       "      <td>non-stop</td>\n",
       "      <td>₹9,420</td>\n",
       "      <td>Delhi-Bangalore</td>\n",
       "      <td>0</td>\n",
       "      <td>2</td>\n",
       "      <td>50</td>\n",
       "      <td>2.83</td>\n",
       "    </tr>\n",
       "    <tr>\n",
       "      <th>1</th>\n",
       "      <td>Delhi</td>\n",
       "      <td>Bangalore</td>\n",
       "      <td>2022-06-23</td>\n",
       "      <td>2022-06-23</td>\n",
       "      <td>IndiGo</td>\n",
       "      <td>6E-2131</td>\n",
       "      <td>night_departure</td>\n",
       "      <td>Early_morning_arrival</td>\n",
       "      <td>2h 45m</td>\n",
       "      <td>non-stop</td>\n",
       "      <td>₹9,419</td>\n",
       "      <td>Delhi-Bangalore</td>\n",
       "      <td>0</td>\n",
       "      <td>2</td>\n",
       "      <td>45</td>\n",
       "      <td>2.75</td>\n",
       "    </tr>\n",
       "    <tr>\n",
       "      <th>2</th>\n",
       "      <td>Delhi</td>\n",
       "      <td>Bangalore</td>\n",
       "      <td>2022-06-23</td>\n",
       "      <td>2022-06-23</td>\n",
       "      <td>IndiGo</td>\n",
       "      <td>6E-6565</td>\n",
       "      <td>night_departure</td>\n",
       "      <td>Early_morning_arrival</td>\n",
       "      <td>2h 50m</td>\n",
       "      <td>non-stop</td>\n",
       "      <td>₹9,419</td>\n",
       "      <td>Delhi-Bangalore</td>\n",
       "      <td>0</td>\n",
       "      <td>2</td>\n",
       "      <td>50</td>\n",
       "      <td>2.83</td>\n",
       "    </tr>\n",
       "    <tr>\n",
       "      <th>3</th>\n",
       "      <td>Delhi</td>\n",
       "      <td>Bangalore</td>\n",
       "      <td>2022-06-23</td>\n",
       "      <td>2022-06-23</td>\n",
       "      <td>Air India</td>\n",
       "      <td>AI-605</td>\n",
       "      <td>night_departure</td>\n",
       "      <td>morning_arrival</td>\n",
       "      <td>10h 35m</td>\n",
       "      <td>1 stop</td>\n",
       "      <td>₹14,775</td>\n",
       "      <td>Delhi-Bangalore</td>\n",
       "      <td>0</td>\n",
       "      <td>10</td>\n",
       "      <td>35</td>\n",
       "      <td>10.58</td>\n",
       "    </tr>\n",
       "    <tr>\n",
       "      <th>4</th>\n",
       "      <td>Delhi</td>\n",
       "      <td>Bangalore</td>\n",
       "      <td>2022-06-23</td>\n",
       "      <td>2022-06-23</td>\n",
       "      <td>Air India</td>\n",
       "      <td>AI-605</td>\n",
       "      <td>night_departure</td>\n",
       "      <td>evening_arrival</td>\n",
       "      <td>21h 5m</td>\n",
       "      <td>1 stop</td>\n",
       "      <td>₹14,985</td>\n",
       "      <td>Delhi-Bangalore</td>\n",
       "      <td>0</td>\n",
       "      <td>21</td>\n",
       "      <td>5</td>\n",
       "      <td>21.08</td>\n",
       "    </tr>\n",
       "  </tbody>\n",
       "</table>\n",
       "</div>"
      ],
      "text/plain": [
       "    From         To Booking_date Journey_date    Airline     Code  \\\n",
       "0  Delhi  Bangalore   2022-06-23   2022-06-23  Air India   AI-504   \n",
       "1  Delhi  Bangalore   2022-06-23   2022-06-23     IndiGo  6E-2131   \n",
       "2  Delhi  Bangalore   2022-06-23   2022-06-23     IndiGo  6E-6565   \n",
       "3  Delhi  Bangalore   2022-06-23   2022-06-23  Air India   AI-605   \n",
       "4  Delhi  Bangalore   2022-06-23   2022-06-23  Air India   AI-605   \n",
       "\n",
       "         Departure                Arrival Duration     Stops    Price  \\\n",
       "0  night_departure  Early_morning_arrival   2h 50m  non-stop   ₹9,420   \n",
       "1  night_departure  Early_morning_arrival   2h 45m  non-stop   ₹9,419   \n",
       "2  night_departure  Early_morning_arrival   2h 50m  non-stop   ₹9,419   \n",
       "3  night_departure        morning_arrival  10h 35m    1 stop  ₹14,775   \n",
       "4  night_departure        evening_arrival   21h 5m    1 stop  ₹14,985   \n",
       "\n",
       "  Traveling_cities  Early_booking  duration_hours  duration_minutes  \\\n",
       "0  Delhi-Bangalore              0               2                50   \n",
       "1  Delhi-Bangalore              0               2                45   \n",
       "2  Delhi-Bangalore              0               2                50   \n",
       "3  Delhi-Bangalore              0              10                35   \n",
       "4  Delhi-Bangalore              0              21                 5   \n",
       "\n",
       "   total_travel_time  \n",
       "0               2.83  \n",
       "1               2.75  \n",
       "2               2.83  \n",
       "3              10.58  \n",
       "4              21.08  "
      ]
     },
     "execution_count": 404,
     "metadata": {},
     "output_type": "execute_result"
    }
   ],
   "source": [
    "df.head()"
   ]
  },
  {
   "cell_type": "code",
   "execution_count": 405,
   "id": "4983b040",
   "metadata": {},
   "outputs": [],
   "source": [
    "# Here,  Duration feature extracted into duration hour and minute, then we have calculated total travel time in hours"
   ]
  },
  {
   "cell_type": "code",
   "execution_count": 406,
   "id": "ffc8bbad",
   "metadata": {},
   "outputs": [
    {
     "data": {
      "text/plain": [
       "array(['non-stop', '1 stop', '2 stops', '1-stop', '2+-stop',\n",
       "       '1-stop Via Mumbai'], dtype=object)"
      ]
     },
     "execution_count": 406,
     "metadata": {},
     "output_type": "execute_result"
    }
   ],
   "source": [
    "df['Stops'].unique()"
   ]
  },
  {
   "cell_type": "code",
   "execution_count": 407,
   "id": "1bdd04e9",
   "metadata": {},
   "outputs": [],
   "source": [
    "dic={'non-stop':0,'1 stop':1,'1-stop':1,'1-stop Via Mumbai':1,'2 stops':2,'2+-stop':2}"
   ]
  },
  {
   "cell_type": "code",
   "execution_count": 408,
   "id": "e2999921",
   "metadata": {},
   "outputs": [],
   "source": [
    "df['Stops']=df['Stops'].map(dic)"
   ]
  },
  {
   "cell_type": "markdown",
   "id": "988da799",
   "metadata": {},
   "source": [
    "## Dependent feature- Price"
   ]
  },
  {
   "cell_type": "code",
   "execution_count": 409,
   "id": "581e0c10",
   "metadata": {},
   "outputs": [],
   "source": [
    "df['Price']=df['Price'].str.replace(\"₹\",\"\")\n",
    "df['Price']=df['Price'].str.replace(\",\",\"\")\n",
    "df['Price']=df['Price'].astype(int)"
   ]
  },
  {
   "cell_type": "code",
   "execution_count": 410,
   "id": "4f69452d",
   "metadata": {},
   "outputs": [
    {
     "data": {
      "text/html": [
       "<div>\n",
       "<style scoped>\n",
       "    .dataframe tbody tr th:only-of-type {\n",
       "        vertical-align: middle;\n",
       "    }\n",
       "\n",
       "    .dataframe tbody tr th {\n",
       "        vertical-align: top;\n",
       "    }\n",
       "\n",
       "    .dataframe thead th {\n",
       "        text-align: right;\n",
       "    }\n",
       "</style>\n",
       "<table border=\"1\" class=\"dataframe\">\n",
       "  <thead>\n",
       "    <tr style=\"text-align: right;\">\n",
       "      <th></th>\n",
       "      <th>From</th>\n",
       "      <th>To</th>\n",
       "      <th>Booking_date</th>\n",
       "      <th>Journey_date</th>\n",
       "      <th>Airline</th>\n",
       "      <th>Code</th>\n",
       "      <th>Departure</th>\n",
       "      <th>Arrival</th>\n",
       "      <th>Duration</th>\n",
       "      <th>Stops</th>\n",
       "      <th>Price</th>\n",
       "      <th>Traveling_cities</th>\n",
       "      <th>Early_booking</th>\n",
       "      <th>duration_hours</th>\n",
       "      <th>duration_minutes</th>\n",
       "      <th>total_travel_time</th>\n",
       "    </tr>\n",
       "  </thead>\n",
       "  <tbody>\n",
       "    <tr>\n",
       "      <th>0</th>\n",
       "      <td>Delhi</td>\n",
       "      <td>Bangalore</td>\n",
       "      <td>2022-06-23</td>\n",
       "      <td>2022-06-23</td>\n",
       "      <td>Air India</td>\n",
       "      <td>AI-504</td>\n",
       "      <td>night_departure</td>\n",
       "      <td>Early_morning_arrival</td>\n",
       "      <td>2h 50m</td>\n",
       "      <td>0</td>\n",
       "      <td>9420</td>\n",
       "      <td>Delhi-Bangalore</td>\n",
       "      <td>0</td>\n",
       "      <td>2</td>\n",
       "      <td>50</td>\n",
       "      <td>2.83</td>\n",
       "    </tr>\n",
       "    <tr>\n",
       "      <th>1</th>\n",
       "      <td>Delhi</td>\n",
       "      <td>Bangalore</td>\n",
       "      <td>2022-06-23</td>\n",
       "      <td>2022-06-23</td>\n",
       "      <td>IndiGo</td>\n",
       "      <td>6E-2131</td>\n",
       "      <td>night_departure</td>\n",
       "      <td>Early_morning_arrival</td>\n",
       "      <td>2h 45m</td>\n",
       "      <td>0</td>\n",
       "      <td>9419</td>\n",
       "      <td>Delhi-Bangalore</td>\n",
       "      <td>0</td>\n",
       "      <td>2</td>\n",
       "      <td>45</td>\n",
       "      <td>2.75</td>\n",
       "    </tr>\n",
       "    <tr>\n",
       "      <th>2</th>\n",
       "      <td>Delhi</td>\n",
       "      <td>Bangalore</td>\n",
       "      <td>2022-06-23</td>\n",
       "      <td>2022-06-23</td>\n",
       "      <td>IndiGo</td>\n",
       "      <td>6E-6565</td>\n",
       "      <td>night_departure</td>\n",
       "      <td>Early_morning_arrival</td>\n",
       "      <td>2h 50m</td>\n",
       "      <td>0</td>\n",
       "      <td>9419</td>\n",
       "      <td>Delhi-Bangalore</td>\n",
       "      <td>0</td>\n",
       "      <td>2</td>\n",
       "      <td>50</td>\n",
       "      <td>2.83</td>\n",
       "    </tr>\n",
       "    <tr>\n",
       "      <th>3</th>\n",
       "      <td>Delhi</td>\n",
       "      <td>Bangalore</td>\n",
       "      <td>2022-06-23</td>\n",
       "      <td>2022-06-23</td>\n",
       "      <td>Air India</td>\n",
       "      <td>AI-605</td>\n",
       "      <td>night_departure</td>\n",
       "      <td>morning_arrival</td>\n",
       "      <td>10h 35m</td>\n",
       "      <td>1</td>\n",
       "      <td>14775</td>\n",
       "      <td>Delhi-Bangalore</td>\n",
       "      <td>0</td>\n",
       "      <td>10</td>\n",
       "      <td>35</td>\n",
       "      <td>10.58</td>\n",
       "    </tr>\n",
       "    <tr>\n",
       "      <th>4</th>\n",
       "      <td>Delhi</td>\n",
       "      <td>Bangalore</td>\n",
       "      <td>2022-06-23</td>\n",
       "      <td>2022-06-23</td>\n",
       "      <td>Air India</td>\n",
       "      <td>AI-605</td>\n",
       "      <td>night_departure</td>\n",
       "      <td>evening_arrival</td>\n",
       "      <td>21h 5m</td>\n",
       "      <td>1</td>\n",
       "      <td>14985</td>\n",
       "      <td>Delhi-Bangalore</td>\n",
       "      <td>0</td>\n",
       "      <td>21</td>\n",
       "      <td>5</td>\n",
       "      <td>21.08</td>\n",
       "    </tr>\n",
       "  </tbody>\n",
       "</table>\n",
       "</div>"
      ],
      "text/plain": [
       "    From         To Booking_date Journey_date    Airline     Code  \\\n",
       "0  Delhi  Bangalore   2022-06-23   2022-06-23  Air India   AI-504   \n",
       "1  Delhi  Bangalore   2022-06-23   2022-06-23     IndiGo  6E-2131   \n",
       "2  Delhi  Bangalore   2022-06-23   2022-06-23     IndiGo  6E-6565   \n",
       "3  Delhi  Bangalore   2022-06-23   2022-06-23  Air India   AI-605   \n",
       "4  Delhi  Bangalore   2022-06-23   2022-06-23  Air India   AI-605   \n",
       "\n",
       "         Departure                Arrival Duration  Stops  Price  \\\n",
       "0  night_departure  Early_morning_arrival   2h 50m      0   9420   \n",
       "1  night_departure  Early_morning_arrival   2h 45m      0   9419   \n",
       "2  night_departure  Early_morning_arrival   2h 50m      0   9419   \n",
       "3  night_departure        morning_arrival  10h 35m      1  14775   \n",
       "4  night_departure        evening_arrival   21h 5m      1  14985   \n",
       "\n",
       "  Traveling_cities  Early_booking  duration_hours  duration_minutes  \\\n",
       "0  Delhi-Bangalore              0               2                50   \n",
       "1  Delhi-Bangalore              0               2                45   \n",
       "2  Delhi-Bangalore              0               2                50   \n",
       "3  Delhi-Bangalore              0              10                35   \n",
       "4  Delhi-Bangalore              0              21                 5   \n",
       "\n",
       "   total_travel_time  \n",
       "0               2.83  \n",
       "1               2.75  \n",
       "2               2.83  \n",
       "3              10.58  \n",
       "4              21.08  "
      ]
     },
     "execution_count": 410,
     "metadata": {},
     "output_type": "execute_result"
    }
   ],
   "source": [
    "df.head()"
   ]
  },
  {
   "cell_type": "code",
   "execution_count": 411,
   "id": "c7073e1f",
   "metadata": {},
   "outputs": [],
   "source": [
    "# We have calculated total travel duration so we donot require Duration, duration_hours and duration_minutes\n",
    "df=df.drop(['Duration','duration_hours','duration_minutes'], axis=1)"
   ]
  },
  {
   "cell_type": "code",
   "execution_count": 412,
   "id": "e7da850c",
   "metadata": {},
   "outputs": [
    {
     "data": {
      "text/html": [
       "<div>\n",
       "<style scoped>\n",
       "    .dataframe tbody tr th:only-of-type {\n",
       "        vertical-align: middle;\n",
       "    }\n",
       "\n",
       "    .dataframe tbody tr th {\n",
       "        vertical-align: top;\n",
       "    }\n",
       "\n",
       "    .dataframe thead th {\n",
       "        text-align: right;\n",
       "    }\n",
       "</style>\n",
       "<table border=\"1\" class=\"dataframe\">\n",
       "  <thead>\n",
       "    <tr style=\"text-align: right;\">\n",
       "      <th></th>\n",
       "      <th>From</th>\n",
       "      <th>To</th>\n",
       "      <th>Booking_date</th>\n",
       "      <th>Journey_date</th>\n",
       "      <th>Airline</th>\n",
       "      <th>Code</th>\n",
       "      <th>Departure</th>\n",
       "      <th>Arrival</th>\n",
       "      <th>Stops</th>\n",
       "      <th>Price</th>\n",
       "      <th>Traveling_cities</th>\n",
       "      <th>Early_booking</th>\n",
       "      <th>total_travel_time</th>\n",
       "    </tr>\n",
       "  </thead>\n",
       "  <tbody>\n",
       "    <tr>\n",
       "      <th>0</th>\n",
       "      <td>Delhi</td>\n",
       "      <td>Bangalore</td>\n",
       "      <td>2022-06-23</td>\n",
       "      <td>2022-06-23</td>\n",
       "      <td>Air India</td>\n",
       "      <td>AI-504</td>\n",
       "      <td>night_departure</td>\n",
       "      <td>Early_morning_arrival</td>\n",
       "      <td>0</td>\n",
       "      <td>9420</td>\n",
       "      <td>Delhi-Bangalore</td>\n",
       "      <td>0</td>\n",
       "      <td>2.83</td>\n",
       "    </tr>\n",
       "    <tr>\n",
       "      <th>1</th>\n",
       "      <td>Delhi</td>\n",
       "      <td>Bangalore</td>\n",
       "      <td>2022-06-23</td>\n",
       "      <td>2022-06-23</td>\n",
       "      <td>IndiGo</td>\n",
       "      <td>6E-2131</td>\n",
       "      <td>night_departure</td>\n",
       "      <td>Early_morning_arrival</td>\n",
       "      <td>0</td>\n",
       "      <td>9419</td>\n",
       "      <td>Delhi-Bangalore</td>\n",
       "      <td>0</td>\n",
       "      <td>2.75</td>\n",
       "    </tr>\n",
       "    <tr>\n",
       "      <th>2</th>\n",
       "      <td>Delhi</td>\n",
       "      <td>Bangalore</td>\n",
       "      <td>2022-06-23</td>\n",
       "      <td>2022-06-23</td>\n",
       "      <td>IndiGo</td>\n",
       "      <td>6E-6565</td>\n",
       "      <td>night_departure</td>\n",
       "      <td>Early_morning_arrival</td>\n",
       "      <td>0</td>\n",
       "      <td>9419</td>\n",
       "      <td>Delhi-Bangalore</td>\n",
       "      <td>0</td>\n",
       "      <td>2.83</td>\n",
       "    </tr>\n",
       "    <tr>\n",
       "      <th>3</th>\n",
       "      <td>Delhi</td>\n",
       "      <td>Bangalore</td>\n",
       "      <td>2022-06-23</td>\n",
       "      <td>2022-06-23</td>\n",
       "      <td>Air India</td>\n",
       "      <td>AI-605</td>\n",
       "      <td>night_departure</td>\n",
       "      <td>morning_arrival</td>\n",
       "      <td>1</td>\n",
       "      <td>14775</td>\n",
       "      <td>Delhi-Bangalore</td>\n",
       "      <td>0</td>\n",
       "      <td>10.58</td>\n",
       "    </tr>\n",
       "    <tr>\n",
       "      <th>4</th>\n",
       "      <td>Delhi</td>\n",
       "      <td>Bangalore</td>\n",
       "      <td>2022-06-23</td>\n",
       "      <td>2022-06-23</td>\n",
       "      <td>Air India</td>\n",
       "      <td>AI-605</td>\n",
       "      <td>night_departure</td>\n",
       "      <td>evening_arrival</td>\n",
       "      <td>1</td>\n",
       "      <td>14985</td>\n",
       "      <td>Delhi-Bangalore</td>\n",
       "      <td>0</td>\n",
       "      <td>21.08</td>\n",
       "    </tr>\n",
       "  </tbody>\n",
       "</table>\n",
       "</div>"
      ],
      "text/plain": [
       "    From         To Booking_date Journey_date    Airline     Code  \\\n",
       "0  Delhi  Bangalore   2022-06-23   2022-06-23  Air India   AI-504   \n",
       "1  Delhi  Bangalore   2022-06-23   2022-06-23     IndiGo  6E-2131   \n",
       "2  Delhi  Bangalore   2022-06-23   2022-06-23     IndiGo  6E-6565   \n",
       "3  Delhi  Bangalore   2022-06-23   2022-06-23  Air India   AI-605   \n",
       "4  Delhi  Bangalore   2022-06-23   2022-06-23  Air India   AI-605   \n",
       "\n",
       "         Departure                Arrival  Stops  Price Traveling_cities  \\\n",
       "0  night_departure  Early_morning_arrival      0   9420  Delhi-Bangalore   \n",
       "1  night_departure  Early_morning_arrival      0   9419  Delhi-Bangalore   \n",
       "2  night_departure  Early_morning_arrival      0   9419  Delhi-Bangalore   \n",
       "3  night_departure        morning_arrival      1  14775  Delhi-Bangalore   \n",
       "4  night_departure        evening_arrival      1  14985  Delhi-Bangalore   \n",
       "\n",
       "   Early_booking  total_travel_time  \n",
       "0              0               2.83  \n",
       "1              0               2.75  \n",
       "2              0               2.83  \n",
       "3              0              10.58  \n",
       "4              0              21.08  "
      ]
     },
     "execution_count": 412,
     "metadata": {},
     "output_type": "execute_result"
    }
   ],
   "source": [
    "df.head()"
   ]
  },
  {
   "cell_type": "markdown",
   "id": "b0067ff4",
   "metadata": {},
   "source": [
    "## Lets Analyse the Data"
   ]
  },
  {
   "cell_type": "code",
   "execution_count": 413,
   "id": "f3459926",
   "metadata": {},
   "outputs": [
    {
     "data": {
      "text/plain": [
       "(6062, 13)"
      ]
     },
     "execution_count": 413,
     "metadata": {},
     "output_type": "execute_result"
    }
   ],
   "source": [
    "df.shape"
   ]
  },
  {
   "cell_type": "code",
   "execution_count": 414,
   "id": "d8de5f71",
   "metadata": {},
   "outputs": [],
   "source": [
    "#We have 6062 records and 13 features"
   ]
  },
  {
   "cell_type": "code",
   "execution_count": 415,
   "id": "6a288794",
   "metadata": {},
   "outputs": [
    {
     "data": {
      "text/html": [
       "<div>\n",
       "<style scoped>\n",
       "    .dataframe tbody tr th:only-of-type {\n",
       "        vertical-align: middle;\n",
       "    }\n",
       "\n",
       "    .dataframe tbody tr th {\n",
       "        vertical-align: top;\n",
       "    }\n",
       "\n",
       "    .dataframe thead th {\n",
       "        text-align: right;\n",
       "    }\n",
       "</style>\n",
       "<table border=\"1\" class=\"dataframe\">\n",
       "  <thead>\n",
       "    <tr style=\"text-align: right;\">\n",
       "      <th></th>\n",
       "      <th>count</th>\n",
       "      <th>mean</th>\n",
       "      <th>std</th>\n",
       "      <th>min</th>\n",
       "      <th>25%</th>\n",
       "      <th>50%</th>\n",
       "      <th>75%</th>\n",
       "      <th>max</th>\n",
       "    </tr>\n",
       "  </thead>\n",
       "  <tbody>\n",
       "    <tr>\n",
       "      <th>Stops</th>\n",
       "      <td>6062.0</td>\n",
       "      <td>0.860772</td>\n",
       "      <td>0.522153</td>\n",
       "      <td>0.00</td>\n",
       "      <td>1.00</td>\n",
       "      <td>1.00</td>\n",
       "      <td>1.00</td>\n",
       "      <td>2.0</td>\n",
       "    </tr>\n",
       "    <tr>\n",
       "      <th>Price</th>\n",
       "      <td>6062.0</td>\n",
       "      <td>12837.186407</td>\n",
       "      <td>4256.447984</td>\n",
       "      <td>7789.00</td>\n",
       "      <td>9419.00</td>\n",
       "      <td>11800.00</td>\n",
       "      <td>15555.00</td>\n",
       "      <td>47584.0</td>\n",
       "    </tr>\n",
       "    <tr>\n",
       "      <th>Early_booking</th>\n",
       "      <td>6062.0</td>\n",
       "      <td>3.521115</td>\n",
       "      <td>1.914989</td>\n",
       "      <td>0.00</td>\n",
       "      <td>2.00</td>\n",
       "      <td>3.00</td>\n",
       "      <td>5.00</td>\n",
       "      <td>7.0</td>\n",
       "    </tr>\n",
       "    <tr>\n",
       "      <th>total_travel_time</th>\n",
       "      <td>6062.0</td>\n",
       "      <td>9.550699</td>\n",
       "      <td>6.882557</td>\n",
       "      <td>1.83</td>\n",
       "      <td>4.75</td>\n",
       "      <td>7.42</td>\n",
       "      <td>12.83</td>\n",
       "      <td>35.5</td>\n",
       "    </tr>\n",
       "  </tbody>\n",
       "</table>\n",
       "</div>"
      ],
      "text/plain": [
       "                    count          mean          std      min      25%  \\\n",
       "Stops              6062.0      0.860772     0.522153     0.00     1.00   \n",
       "Price              6062.0  12837.186407  4256.447984  7789.00  9419.00   \n",
       "Early_booking      6062.0      3.521115     1.914989     0.00     2.00   \n",
       "total_travel_time  6062.0      9.550699     6.882557     1.83     4.75   \n",
       "\n",
       "                        50%       75%      max  \n",
       "Stops                  1.00      1.00      2.0  \n",
       "Price              11800.00  15555.00  47584.0  \n",
       "Early_booking          3.00      5.00      7.0  \n",
       "total_travel_time      7.42     12.83     35.5  "
      ]
     },
     "execution_count": 415,
     "metadata": {},
     "output_type": "execute_result"
    }
   ],
   "source": [
    "df.describe().T"
   ]
  },
  {
   "cell_type": "code",
   "execution_count": 416,
   "id": "6d81c5b8",
   "metadata": {},
   "outputs": [],
   "source": [
    "# We have all categoricals features"
   ]
  },
  {
   "cell_type": "code",
   "execution_count": 417,
   "id": "794c3ad4",
   "metadata": {},
   "outputs": [
    {
     "data": {
      "text/plain": [
       "<AxesSubplot:>"
      ]
     },
     "execution_count": 417,
     "metadata": {},
     "output_type": "execute_result"
    },
    {
     "data": {
      "image/png": "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\n",
      "text/plain": [
       "<Figure size 432x288 with 2 Axes>"
      ]
     },
     "metadata": {
      "needs_background": "light"
     },
     "output_type": "display_data"
    }
   ],
   "source": [
    "sns.heatmap(df.isnull())"
   ]
  },
  {
   "cell_type": "markdown",
   "id": "c8ceb900",
   "metadata": {},
   "source": [
    "# No Null values"
   ]
  },
  {
   "cell_type": "code",
   "execution_count": 418,
   "id": "480e4426",
   "metadata": {},
   "outputs": [
    {
     "data": {
      "text/html": [
       "<div>\n",
       "<style scoped>\n",
       "    .dataframe tbody tr th:only-of-type {\n",
       "        vertical-align: middle;\n",
       "    }\n",
       "\n",
       "    .dataframe tbody tr th {\n",
       "        vertical-align: top;\n",
       "    }\n",
       "\n",
       "    .dataframe thead th {\n",
       "        text-align: right;\n",
       "    }\n",
       "</style>\n",
       "<table border=\"1\" class=\"dataframe\">\n",
       "  <thead>\n",
       "    <tr style=\"text-align: right;\">\n",
       "      <th></th>\n",
       "      <th>From</th>\n",
       "      <th>To</th>\n",
       "      <th>Booking_date</th>\n",
       "      <th>Journey_date</th>\n",
       "      <th>Airline</th>\n",
       "      <th>Code</th>\n",
       "      <th>Departure</th>\n",
       "      <th>Arrival</th>\n",
       "      <th>Stops</th>\n",
       "      <th>Price</th>\n",
       "      <th>Traveling_cities</th>\n",
       "      <th>Early_booking</th>\n",
       "      <th>total_travel_time</th>\n",
       "    </tr>\n",
       "  </thead>\n",
       "  <tbody>\n",
       "    <tr>\n",
       "      <th>2735</th>\n",
       "      <td>Delhi</td>\n",
       "      <td>Goa</td>\n",
       "      <td>2022-06-24</td>\n",
       "      <td>2022-06-29</td>\n",
       "      <td>Vistara</td>\n",
       "      <td>UK-807</td>\n",
       "      <td>night_departure</td>\n",
       "      <td>afternoon_arrival</td>\n",
       "      <td>1</td>\n",
       "      <td>17505</td>\n",
       "      <td>Delhi-Goa</td>\n",
       "      <td>5</td>\n",
       "      <td>17.42</td>\n",
       "    </tr>\n",
       "  </tbody>\n",
       "</table>\n",
       "</div>"
      ],
      "text/plain": [
       "       From   To Booking_date Journey_date  Airline    Code        Departure  \\\n",
       "2735  Delhi  Goa   2022-06-24   2022-06-29  Vistara  UK-807  night_departure   \n",
       "\n",
       "                Arrival  Stops  Price Traveling_cities  Early_booking  \\\n",
       "2735  afternoon_arrival      1  17505        Delhi-Goa              5   \n",
       "\n",
       "      total_travel_time  \n",
       "2735              17.42  "
      ]
     },
     "execution_count": 418,
     "metadata": {},
     "output_type": "execute_result"
    }
   ],
   "source": [
    "df.sample(1)"
   ]
  },
  {
   "cell_type": "code",
   "execution_count": 419,
   "id": "c428bb4d",
   "metadata": {},
   "outputs": [
    {
     "data": {
      "text/plain": [
       "From\n",
       "Bangalore    12197.0\n",
       "Delhi        13567.0\n",
       "Goa          10997.0\n",
       "Kolkata      12046.0\n",
       "Mumbai        8883.0\n",
       "Name: Price, dtype: float64"
      ]
     },
     "execution_count": 419,
     "metadata": {},
     "output_type": "execute_result"
    }
   ],
   "source": [
    "df.groupby('From')['Price'].median()"
   ]
  },
  {
   "cell_type": "code",
   "execution_count": 420,
   "id": "ebdf7b23",
   "metadata": {},
   "outputs": [
    {
     "data": {
      "text/plain": [
       "<AxesSubplot:ylabel='From'>"
      ]
     },
     "execution_count": 420,
     "metadata": {},
     "output_type": "execute_result"
    },
    {
     "data": {
      "image/png": "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\n",
      "text/plain": [
       "<Figure size 432x288 with 1 Axes>"
      ]
     },
     "metadata": {
      "needs_background": "light"
     },
     "output_type": "display_data"
    }
   ],
   "source": [
    "df.groupby('From')['Price'].median().sort_values().plot.barh()"
   ]
  },
  {
   "cell_type": "code",
   "execution_count": 421,
   "id": "f89414da",
   "metadata": {},
   "outputs": [],
   "source": [
    "#Flights from Delhi are more expensive"
   ]
  },
  {
   "cell_type": "code",
   "execution_count": 422,
   "id": "8173bcdc",
   "metadata": {},
   "outputs": [
    {
     "data": {
      "text/plain": [
       "Vistara      2553\n",
       "IndiGo       1756\n",
       "GO FIRST      691\n",
       "Air India     458\n",
       "AirAsia       381\n",
       "SpiceJet      223\n",
       "Name: Airline, dtype: int64"
      ]
     },
     "execution_count": 422,
     "metadata": {},
     "output_type": "execute_result"
    }
   ],
   "source": [
    "\n",
    "\n",
    "df['Airline'].value_counts()"
   ]
  },
  {
   "cell_type": "code",
   "execution_count": 423,
   "id": "463f12db",
   "metadata": {},
   "outputs": [],
   "source": [
    "# In our dataset, most flights are from Vistara airways"
   ]
  },
  {
   "cell_type": "code",
   "execution_count": 424,
   "id": "bf5ca239",
   "metadata": {},
   "outputs": [
    {
     "data": {
      "text/plain": [
       "<AxesSubplot:xlabel='Airline'>"
      ]
     },
     "execution_count": 424,
     "metadata": {},
     "output_type": "execute_result"
    },
    {
     "data": {
      "image/png": "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\n",
      "text/plain": [
       "<Figure size 432x288 with 1 Axes>"
      ]
     },
     "metadata": {
      "needs_background": "light"
     },
     "output_type": "display_data"
    }
   ],
   "source": [
    "df.groupby('Airline')['Price'].median().sort_values(ascending=False).plot.bar()"
   ]
  },
  {
   "cell_type": "code",
   "execution_count": 425,
   "id": "b2c5e352",
   "metadata": {},
   "outputs": [],
   "source": [
    "# Despite Vistara have more flights, Air India Price are still high."
   ]
  },
  {
   "cell_type": "code",
   "execution_count": 426,
   "id": "6abb5186",
   "metadata": {},
   "outputs": [
    {
     "data": {
      "text/plain": [
       "Airline    Code  \n",
       "Air India  AI-401     5\n",
       "           AI-403     7\n",
       "           AI-406     7\n",
       "           AI-407     5\n",
       "           AI-411     2\n",
       "                     ..\n",
       "Vistara    UK-993    56\n",
       "           UK-994     6\n",
       "           UK-995    48\n",
       "           UK-996     6\n",
       "           UK-997     1\n",
       "Length: 603, dtype: int64"
      ]
     },
     "execution_count": 426,
     "metadata": {},
     "output_type": "execute_result"
    }
   ],
   "source": [
    "df.groupby(['Airline','Code']).size()"
   ]
  },
  {
   "cell_type": "code",
   "execution_count": 427,
   "id": "34fe12ba",
   "metadata": {},
   "outputs": [
    {
     "data": {
      "text/plain": [
       "Airline\n",
       "Air India     45\n",
       "AirAsia       73\n",
       "GO FIRST      83\n",
       "IndiGo       230\n",
       "SpiceJet      37\n",
       "Vistara      135\n",
       "Name: Code, dtype: int64"
      ]
     },
     "execution_count": 427,
     "metadata": {},
     "output_type": "execute_result"
    }
   ],
   "source": [
    "df.groupby('Airline')['Code'].nunique()"
   ]
  },
  {
   "cell_type": "code",
   "execution_count": 428,
   "id": "980bfda1",
   "metadata": {},
   "outputs": [
    {
     "data": {
      "image/png": "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\n",
      "text/plain": [
       "<Figure size 432x288 with 1 Axes>"
      ]
     },
     "metadata": {
      "needs_background": "light"
     },
     "output_type": "display_data"
    }
   ],
   "source": [
    "\n",
    "df.groupby('Airline')['Code'].nunique().sort_values(ascending=False).plot.bar()\n",
    "plt.grid()"
   ]
  },
  {
   "cell_type": "code",
   "execution_count": 429,
   "id": "9df19349",
   "metadata": {},
   "outputs": [
    {
     "ename": "SyntaxError",
     "evalue": "invalid syntax (3852167337.py, line 1)",
     "output_type": "error",
     "traceback": [
      "\u001b[1;36m  Input \u001b[1;32mIn [429]\u001b[1;36m\u001b[0m\n\u001b[1;33m    Indigo have more planes =230\u001b[0m\n\u001b[1;37m           ^\u001b[0m\n\u001b[1;31mSyntaxError\u001b[0m\u001b[1;31m:\u001b[0m invalid syntax\n"
     ]
    }
   ],
   "source": [
    "Indigo have more planes =230\n",
    "Vistara have planes = 135\n",
    "Go First have planes= 83\n"
   ]
  },
  {
   "cell_type": "code",
   "execution_count": 430,
   "id": "382eed7d",
   "metadata": {},
   "outputs": [
    {
     "data": {
      "text/plain": [
       "array(['AI-504', 'AI-605', 'AI-803', 'AI-506', 'AI-807', 'AI-502',\n",
       "       'AI-865', 'AI-665', 'AI-887', 'AI-636', 'AI-805', 'AI-624',\n",
       "       'AI-441', 'AI-863', 'AI-883', 'AI-479', 'AI-540', 'AI-762',\n",
       "       'AI-497', 'AI-469', 'AI-403', 'AI-560', 'AI-415', 'AI-473',\n",
       "       'AI-406', 'AI-407', 'AI-885', 'AI-451', 'AI-401', 'AI-764',\n",
       "       'AI-877', 'AI-767', 'AI-839', 'AI-801', 'AI-465', 'AI-425',\n",
       "       'AI-439', 'AI-542', 'AI-485', 'AI-481', 'AI-621', 'AI-411',\n",
       "       'AI-544', 'AI-429', 'AI-537'], dtype=object)"
      ]
     },
     "execution_count": 430,
     "metadata": {},
     "output_type": "execute_result"
    }
   ],
   "source": [
    "df[df['Airline']=='Air India']['Code'].unique()"
   ]
  },
  {
   "cell_type": "code",
   "execution_count": 431,
   "id": "621dc70b",
   "metadata": {},
   "outputs": [
    {
     "data": {
      "text/plain": [
       "array(['I5-740', 'I5-721', 'I5-1732', 'I5-713', 'I5-711', 'I5-744',\n",
       "       'I5-552', 'I5-768', 'I5-1529', 'I5-857', 'I5-710', 'I5-773',\n",
       "       'I5-783', 'I5-549', 'I5-764', 'I5-798', 'I5-753', 'I5-779',\n",
       "       'I5-472', 'I5-774', 'I5-1455', 'I5-974', 'I5-330', 'I5-776',\n",
       "       'I5-799', 'I5-315', 'I5-819', 'I5-1427', 'I5-749', 'I5-722',\n",
       "       'I5-817', 'I5-1453', 'I5-1451', 'I5-1621', 'I5-1981', 'I5-1781',\n",
       "       'I5-820', 'I5-942', 'I5-592', 'I5-972', 'I5-1622', 'I5-1426',\n",
       "       'I5-1782', 'I5-612', 'I5-991', 'I5-1562', 'I5-1528', 'I5-1731',\n",
       "       'I5-1982', 'I5-1780', 'I5-741', 'I5-818', 'I5-1983', 'I5-1569',\n",
       "       'I5-1784', 'I5-767', 'I5-679', 'I5-631', 'I5-678', 'I5-588',\n",
       "       'I5-2991', 'I5-1563', 'I5-319', 'I5-510', 'I5-541', 'I5-547',\n",
       "       'I5-830', 'I5-992', 'I5-1567', 'I5-1532', 'I5-2472', 'I5-611',\n",
       "       'I5-1576'], dtype=object)"
      ]
     },
     "execution_count": 431,
     "metadata": {},
     "output_type": "execute_result"
    }
   ],
   "source": [
    "df[df['Airline']=='AirAsia']['Code'].unique()"
   ]
  },
  {
   "cell_type": "code",
   "execution_count": 432,
   "id": "8307ee56",
   "metadata": {},
   "outputs": [
    {
     "data": {
      "text/plain": [
       "array(['G8-113', 'G8-119', 'G8-406', 'G8-338', 'G8-2513', 'G8-165',\n",
       "       'G8-286', 'G8-336', 'G8-171', 'G8-2501', 'G8-300', 'G8-346',\n",
       "       'G8-328', 'G8-354', 'G8-530', 'G8-323', 'G8-719', 'G8-190',\n",
       "       'G8-717', 'G8-213', 'G8-334', 'G8-713', 'G8-131', 'G8-8007',\n",
       "       'G8-237', 'G8- 354', 'G8- 328', 'G8- 346', 'G8- 338', 'G8- 717',\n",
       "       'G8- 334', 'G8- 713', 'G8- 323', 'G8- 113', 'G8- 286', 'G8- 300',\n",
       "       'G8- 914', 'G8- 285', 'G8- 381', 'G8- 372', 'G8- 332', 'G8- 315',\n",
       "       'G8- 380', 'G8-3022', 'G8- 301', 'G8- 312', 'G8- 116', 'G8- 118',\n",
       "       'G8- 803', 'G8- 320', 'G8- 399', 'G8- 395', 'G8- 283', 'G8- 873',\n",
       "       'G8- 241', 'G8- 322', 'G8-2611', 'G8- 329', 'G8- 339', 'G8- 330',\n",
       "       'G8- 327', 'G8- 391', 'G8- 341', 'G8- 287', 'G8- 383', 'G8-3184',\n",
       "       'G8- 398', 'G8- 364', 'G8- 344', 'G8- 510', 'G8-2504', 'G8- 575',\n",
       "       'G8- 331', 'G8- 345', 'G8- 363', 'G8- 351', 'G8- 311', 'G8- 319',\n",
       "       'G8- 317', 'G8- 520', 'G8- 519', 'G8- 102', 'G8- 393'],\n",
       "      dtype=object)"
      ]
     },
     "execution_count": 432,
     "metadata": {},
     "output_type": "execute_result"
    }
   ],
   "source": [
    "df[df['Airline']=='GO FIRST']['Code'].unique()"
   ]
  },
  {
   "cell_type": "code",
   "execution_count": 433,
   "id": "1075d7eb",
   "metadata": {},
   "outputs": [],
   "source": [
    "# SOme values have space inbetween, we need to remove that\n",
    "\n"
   ]
  },
  {
   "cell_type": "code",
   "execution_count": 434,
   "id": "9ac092d0",
   "metadata": {},
   "outputs": [
    {
     "data": {
      "text/plain": [
       "array(['6E-2131', '6E-6565', '6E-5036', '6E-2048', '6E-6612', '6E-5009',\n",
       "       '6E-308', '6E-2003', '6E-2188', '6E-2014', '6E-2187', '6E-2168',\n",
       "       '6E-5005', '6E-2697', '6E-6187', '6E-6827', '6E-2532', '6E-5186',\n",
       "       '6E-2004', '6E-2487', '6E-781', '6E-2015', '6E-6191', '6E-2774',\n",
       "       '6E-2114', '6E-2519', '6E-6261', '6E-153', '6E-5023', '6E-6814',\n",
       "       '6E-2129', '6E-6278', '6E-5328', '6E-5342', '6E-2138', '6E-2176',\n",
       "       '6E-5306', '6E-864', '6E-5318', '6E-2017', '6E-7403', '6E-761',\n",
       "       '6E-2033', '6E-2077', '6E-2141', '6E-6022', '6E-6373', '6E-2009',\n",
       "       '6E-6939', '6E-184', '6E-2112', '6E- 698', '6E- 505', '6E-2117',\n",
       "       '6E-2792', '6E-5161', '6E- 153', '6E-2104', '6E-2043', '6E- 864',\n",
       "       '6E-2143', '6E-6823', '6E-5024', '6E-2144', '6E- 184', '6E-2191',\n",
       "       '6E- 781', '6E-2331', '6E- 315', '6E-2325', '6E- 308', '6E-2336',\n",
       "       '6E- 589', '6E-6532', '6E-2332', '6E-2119', '6E-2044', '6E-2183',\n",
       "       '6E- 744', '6E-6955', '6E- 137', '6E-6097', '6E-6236', '6E- 714',\n",
       "       '6E-6877', '6E- 468', '6E-6811', '6E-5029', '6E- 418', '6E- 712',\n",
       "       '6E-6386', '6E- 637', '6E- 813', '6E- 948', '6E- 381', '6E- 921',\n",
       "       '6E-5281', '6E-6023', '6E- 617', '6E-6065', '6E-2053', '6E-6247',\n",
       "       '6E-6042', '6E- 855', '6E- 638', '6E- 232', '6E-6317', '6E- 469',\n",
       "       '6E- 415', '6E-6067', '6E-6257', '6E- 978', '6E- 486', '6E-6491',\n",
       "       '6E-5025', '6E-6404', '6E-6991', '6E-5021', '6E- 735', '6E- 699',\n",
       "       '6E-2174', '6E-2186', '6E- 537', '6E- 871', '6E- 484', '6E-2514',\n",
       "       '6E- 408', '6E-5039', '6E- 426', '6E- 528', '6E- 405', '6E-2401',\n",
       "       '6E- 869', '6E- 886', '6E- 959', '6E-6104', '6E- 522', '6E-6802',\n",
       "       '6E- 248', '6E- 624', '6E-6045', '6E-2111', '6E-5398', '6E-5332',\n",
       "       '6E-6821', '6E-5341', '6E-2172', '6E-2012', '6E- 993', '6E-2113',\n",
       "       '6E- 439', '6E-2103', '6E-2518', '6E- 168', '6E- 802', '6E-6993',\n",
       "       '6E-5273', '6E-6735', '6E-6515', '6E-5293', '6E-5334', '6E-5301',\n",
       "       '6E- 843', '6E-5378', '6E- 213', '6E-5247', '6E-5268', '6E-2047',\n",
       "       '6E- 164', '6E-2137', '6E- 814', '6E- 573', '6E- 946', '6E- 775',\n",
       "       '6E- 723', '6E-6438', '6E- 771', '6E- 496', '6E- 757', '6E-6314',\n",
       "       '6E- 764', '6E- 139', '6E- 989', '6E- 725', '6E- 417', '6E-6908',\n",
       "       '6E- 563', '6E- 892', '6E- 378', '6E-7583', '6E- 966', '6E-6513',\n",
       "       '6E- 512', '6E- 264', '6E- 958', '6E-6021', '6E- 455', '6E- 833',\n",
       "       '6E-6324', '6E-7623', '6E- 634', '6E-7243', '6E-6926', '6E-7177',\n",
       "       '6E-7305', '6E- 538', '6E- 952', '6E- 217', '6E- 676', '6E-6366',\n",
       "       '6E- 356', '6E- 841', '6E- 411', '6E- 684', '6E- 227', '6E- 442',\n",
       "       '6E-6825', '6E-6269', '6E- 172', '6E-6439', '6E-6572', '6E- 503',\n",
       "       '6E- 541', '6E-6212', '6E-7102', '6E- 255', '6E- 524', '6E-6535',\n",
       "       '6E- 342', '6E- 457'], dtype=object)"
      ]
     },
     "execution_count": 434,
     "metadata": {},
     "output_type": "execute_result"
    }
   ],
   "source": [
    "df[df['Airline']=='IndiGo']['Code'].unique()"
   ]
  },
  {
   "cell_type": "code",
   "execution_count": 435,
   "id": "c621f147",
   "metadata": {},
   "outputs": [],
   "source": [
    "# Lets remove space from Code feature\n",
    "df['Code']=df['Code'].str.replace(\" \",\"\")"
   ]
  },
  {
   "cell_type": "code",
   "execution_count": 436,
   "id": "d43cdbf7",
   "metadata": {},
   "outputs": [
    {
     "data": {
      "text/plain": [
       "Airline\n",
       "Air India     45\n",
       "AirAsia       73\n",
       "GO FIRST      72\n",
       "IndiGo       225\n",
       "SpiceJet      35\n",
       "Vistara      135\n",
       "Name: Code, dtype: int64"
      ]
     },
     "execution_count": 436,
     "metadata": {},
     "output_type": "execute_result"
    }
   ],
   "source": [
    "df.groupby('Airline')['Code'].nunique()"
   ]
  },
  {
   "cell_type": "code",
   "execution_count": 437,
   "id": "cc761f2e",
   "metadata": {},
   "outputs": [
    {
     "data": {
      "text/html": [
       "<div>\n",
       "<style scoped>\n",
       "    .dataframe tbody tr th:only-of-type {\n",
       "        vertical-align: middle;\n",
       "    }\n",
       "\n",
       "    .dataframe tbody tr th {\n",
       "        vertical-align: top;\n",
       "    }\n",
       "\n",
       "    .dataframe thead th {\n",
       "        text-align: right;\n",
       "    }\n",
       "</style>\n",
       "<table border=\"1\" class=\"dataframe\">\n",
       "  <thead>\n",
       "    <tr style=\"text-align: right;\">\n",
       "      <th></th>\n",
       "      <th>From</th>\n",
       "      <th>To</th>\n",
       "      <th>Booking_date</th>\n",
       "      <th>Journey_date</th>\n",
       "      <th>Airline</th>\n",
       "      <th>Code</th>\n",
       "      <th>Departure</th>\n",
       "      <th>Arrival</th>\n",
       "      <th>Stops</th>\n",
       "      <th>Price</th>\n",
       "      <th>Traveling_cities</th>\n",
       "      <th>Early_booking</th>\n",
       "      <th>total_travel_time</th>\n",
       "    </tr>\n",
       "  </thead>\n",
       "  <tbody>\n",
       "    <tr>\n",
       "      <th>0</th>\n",
       "      <td>Delhi</td>\n",
       "      <td>Bangalore</td>\n",
       "      <td>2022-06-23</td>\n",
       "      <td>2022-06-23</td>\n",
       "      <td>Air India</td>\n",
       "      <td>AI-504</td>\n",
       "      <td>night_departure</td>\n",
       "      <td>Early_morning_arrival</td>\n",
       "      <td>0</td>\n",
       "      <td>9420</td>\n",
       "      <td>Delhi-Bangalore</td>\n",
       "      <td>0</td>\n",
       "      <td>2.83</td>\n",
       "    </tr>\n",
       "    <tr>\n",
       "      <th>1</th>\n",
       "      <td>Delhi</td>\n",
       "      <td>Bangalore</td>\n",
       "      <td>2022-06-23</td>\n",
       "      <td>2022-06-23</td>\n",
       "      <td>IndiGo</td>\n",
       "      <td>6E-2131</td>\n",
       "      <td>night_departure</td>\n",
       "      <td>Early_morning_arrival</td>\n",
       "      <td>0</td>\n",
       "      <td>9419</td>\n",
       "      <td>Delhi-Bangalore</td>\n",
       "      <td>0</td>\n",
       "      <td>2.75</td>\n",
       "    </tr>\n",
       "    <tr>\n",
       "      <th>2</th>\n",
       "      <td>Delhi</td>\n",
       "      <td>Bangalore</td>\n",
       "      <td>2022-06-23</td>\n",
       "      <td>2022-06-23</td>\n",
       "      <td>IndiGo</td>\n",
       "      <td>6E-6565</td>\n",
       "      <td>night_departure</td>\n",
       "      <td>Early_morning_arrival</td>\n",
       "      <td>0</td>\n",
       "      <td>9419</td>\n",
       "      <td>Delhi-Bangalore</td>\n",
       "      <td>0</td>\n",
       "      <td>2.83</td>\n",
       "    </tr>\n",
       "    <tr>\n",
       "      <th>3</th>\n",
       "      <td>Delhi</td>\n",
       "      <td>Bangalore</td>\n",
       "      <td>2022-06-23</td>\n",
       "      <td>2022-06-23</td>\n",
       "      <td>Air India</td>\n",
       "      <td>AI-605</td>\n",
       "      <td>night_departure</td>\n",
       "      <td>morning_arrival</td>\n",
       "      <td>1</td>\n",
       "      <td>14775</td>\n",
       "      <td>Delhi-Bangalore</td>\n",
       "      <td>0</td>\n",
       "      <td>10.58</td>\n",
       "    </tr>\n",
       "    <tr>\n",
       "      <th>4</th>\n",
       "      <td>Delhi</td>\n",
       "      <td>Bangalore</td>\n",
       "      <td>2022-06-23</td>\n",
       "      <td>2022-06-23</td>\n",
       "      <td>Air India</td>\n",
       "      <td>AI-605</td>\n",
       "      <td>night_departure</td>\n",
       "      <td>evening_arrival</td>\n",
       "      <td>1</td>\n",
       "      <td>14985</td>\n",
       "      <td>Delhi-Bangalore</td>\n",
       "      <td>0</td>\n",
       "      <td>21.08</td>\n",
       "    </tr>\n",
       "  </tbody>\n",
       "</table>\n",
       "</div>"
      ],
      "text/plain": [
       "    From         To Booking_date Journey_date    Airline     Code  \\\n",
       "0  Delhi  Bangalore   2022-06-23   2022-06-23  Air India   AI-504   \n",
       "1  Delhi  Bangalore   2022-06-23   2022-06-23     IndiGo  6E-2131   \n",
       "2  Delhi  Bangalore   2022-06-23   2022-06-23     IndiGo  6E-6565   \n",
       "3  Delhi  Bangalore   2022-06-23   2022-06-23  Air India   AI-605   \n",
       "4  Delhi  Bangalore   2022-06-23   2022-06-23  Air India   AI-605   \n",
       "\n",
       "         Departure                Arrival  Stops  Price Traveling_cities  \\\n",
       "0  night_departure  Early_morning_arrival      0   9420  Delhi-Bangalore   \n",
       "1  night_departure  Early_morning_arrival      0   9419  Delhi-Bangalore   \n",
       "2  night_departure  Early_morning_arrival      0   9419  Delhi-Bangalore   \n",
       "3  night_departure        morning_arrival      1  14775  Delhi-Bangalore   \n",
       "4  night_departure        evening_arrival      1  14985  Delhi-Bangalore   \n",
       "\n",
       "   Early_booking  total_travel_time  \n",
       "0              0               2.83  \n",
       "1              0               2.75  \n",
       "2              0               2.83  \n",
       "3              0              10.58  \n",
       "4              0              21.08  "
      ]
     },
     "execution_count": 437,
     "metadata": {},
     "output_type": "execute_result"
    }
   ],
   "source": [
    "df.head()"
   ]
  },
  {
   "cell_type": "markdown",
   "id": "95003261",
   "metadata": {},
   "source": [
    "### Departure"
   ]
  },
  {
   "cell_type": "code",
   "execution_count": 438,
   "id": "42abc55a",
   "metadata": {},
   "outputs": [
    {
     "data": {
      "text/plain": [
       "<AxesSubplot:xlabel='Departure', ylabel='count'>"
      ]
     },
     "execution_count": 438,
     "metadata": {},
     "output_type": "execute_result"
    },
    {
     "data": {
      "image/png": "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\n",
      "text/plain": [
       "<Figure size 1080x504 with 1 Axes>"
      ]
     },
     "metadata": {
      "needs_background": "light"
     },
     "output_type": "display_data"
    }
   ],
   "source": [
    "plt.figure(figsize=(15,7))\n",
    "sns.countplot(df['Departure'], order=df['Departure'].value_counts(ascending=False).index)"
   ]
  },
  {
   "cell_type": "code",
   "execution_count": 439,
   "id": "c18ee2e7",
   "metadata": {},
   "outputs": [],
   "source": [
    "# Most flight were booked for the Morning departure"
   ]
  },
  {
   "cell_type": "code",
   "execution_count": 440,
   "id": "43154244",
   "metadata": {},
   "outputs": [
    {
     "data": {
      "text/plain": [
       "Departure\n",
       "morning_departure          13137.462644\n",
       "afternoon_departure        13109.740028\n",
       "night_departure            12791.619687\n",
       "evening_departure          12769.685073\n",
       "Early_morning_departure    11417.483796\n",
       "late_night_departure        9574.129412\n",
       "Name: Price, dtype: float64"
      ]
     },
     "execution_count": 440,
     "metadata": {},
     "output_type": "execute_result"
    }
   ],
   "source": [
    "df.groupby('Departure')['Price'].mean().sort_values(ascending=False)"
   ]
  },
  {
   "cell_type": "code",
   "execution_count": 441,
   "id": "172e9520",
   "metadata": {},
   "outputs": [
    {
     "data": {
      "text/plain": [
       "<AxesSubplot:xlabel='Departure'>"
      ]
     },
     "execution_count": 441,
     "metadata": {},
     "output_type": "execute_result"
    },
    {
     "data": {
      "image/png": "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\n",
      "text/plain": [
       "<Figure size 432x288 with 1 Axes>"
      ]
     },
     "metadata": {
      "needs_background": "light"
     },
     "output_type": "display_data"
    }
   ],
   "source": [
    "df.groupby('Departure')['Price'].mean().sort_values(ascending=False).plot.bar()"
   ]
  },
  {
   "cell_type": "code",
   "execution_count": 442,
   "id": "df5b4a5d",
   "metadata": {},
   "outputs": [
    {
     "ename": "SyntaxError",
     "evalue": "invalid syntax (2455491285.py, line 3)",
     "output_type": "error",
     "traceback": [
      "\u001b[1;36m  Input \u001b[1;32mIn [442]\u001b[1;36m\u001b[0m\n\u001b[1;33m    Early_Morning_Departure and late_night_departure have less fare because of less demand.\u001b[0m\n\u001b[1;37m                                                     ^\u001b[0m\n\u001b[1;31mSyntaxError\u001b[0m\u001b[1;31m:\u001b[0m invalid syntax\n"
     ]
    }
   ],
   "source": [
    "# However, we have more flights for morning departure but afternoon_departure have approx  same price\n",
    "\n",
    "Early_Morning_Departure and late_night_departure have less fare because of less demand."
   ]
  },
  {
   "cell_type": "markdown",
   "id": "ba3d7ed9",
   "metadata": {},
   "source": [
    "### Arrival"
   ]
  },
  {
   "cell_type": "code",
   "execution_count": 443,
   "id": "542cecc4",
   "metadata": {},
   "outputs": [
    {
     "data": {
      "text/plain": [
       "<AxesSubplot:xlabel='Arrival', ylabel='count'>"
      ]
     },
     "execution_count": 443,
     "metadata": {},
     "output_type": "execute_result"
    },
    {
     "data": {
      "image/png": "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\n",
      "text/plain": [
       "<Figure size 1080x504 with 1 Axes>"
      ]
     },
     "metadata": {
      "needs_background": "light"
     },
     "output_type": "display_data"
    }
   ],
   "source": [
    "plt.figure(figsize=(15,7))\n",
    "sns.countplot(df['Arrival'], order=df['Arrival'].value_counts(ascending=False).index)"
   ]
  },
  {
   "cell_type": "code",
   "execution_count": 444,
   "id": "cdd66509",
   "metadata": {},
   "outputs": [],
   "source": [
    "# Same as Departure, every one wants arrival in day time\n"
   ]
  },
  {
   "cell_type": "code",
   "execution_count": 445,
   "id": "b8f5cec3",
   "metadata": {},
   "outputs": [
    {
     "data": {
      "text/plain": [
       "Arrival\n",
       "afternoon_arrival        13599.354745\n",
       "evening_arrival          13431.309975\n",
       "night_arrival            12853.918489\n",
       "morning_arrival          12596.035915\n",
       "late_night_arrival       12395.048246\n",
       "Early_morning_arrival    10764.110553\n",
       "Name: Price, dtype: float64"
      ]
     },
     "execution_count": 445,
     "metadata": {},
     "output_type": "execute_result"
    }
   ],
   "source": [
    "df.groupby('Arrival')['Price'].mean().sort_values(ascending=False)"
   ]
  },
  {
   "cell_type": "code",
   "execution_count": 446,
   "id": "065452ff",
   "metadata": {},
   "outputs": [
    {
     "data": {
      "text/plain": [
       "<AxesSubplot:xlabel='Departure'>"
      ]
     },
     "execution_count": 446,
     "metadata": {},
     "output_type": "execute_result"
    },
    {
     "data": {
      "image/png": "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\n",
      "text/plain": [
       "<Figure size 432x288 with 1 Axes>"
      ]
     },
     "metadata": {
      "needs_background": "light"
     },
     "output_type": "display_data"
    }
   ],
   "source": [
    "df.groupby('Departure')['Price'].mean().sort_values(ascending=False).plot.bar()"
   ]
  },
  {
   "cell_type": "code",
   "execution_count": 447,
   "id": "f69e9214",
   "metadata": {},
   "outputs": [
    {
     "data": {
      "text/plain": [
       "<AxesSubplot:xlabel='total_travel_time', ylabel='Price'>"
      ]
     },
     "execution_count": 447,
     "metadata": {},
     "output_type": "execute_result"
    },
    {
     "data": {
      "image/png": "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\n",
      "text/plain": [
       "<Figure size 432x288 with 1 Axes>"
      ]
     },
     "metadata": {
      "needs_background": "light"
     },
     "output_type": "display_data"
    }
   ],
   "source": [
    "sns.scatterplot(df['total_travel_time'], df['Price'], hue=df['Stops'], size=df['Early_booking'])"
   ]
  },
  {
   "cell_type": "code",
   "execution_count": 448,
   "id": "f59535df",
   "metadata": {},
   "outputs": [],
   "source": [
    "# As number of stops increases, total travel time increases accordingly\n",
    "# Most flights are having 1 stops in travel with maximum fare as well\n",
    "\n"
   ]
  },
  {
   "cell_type": "code",
   "execution_count": 449,
   "id": "fc43f7d4",
   "metadata": {},
   "outputs": [
    {
     "data": {
      "text/html": [
       "<div>\n",
       "<style scoped>\n",
       "    .dataframe tbody tr th:only-of-type {\n",
       "        vertical-align: middle;\n",
       "    }\n",
       "\n",
       "    .dataframe tbody tr th {\n",
       "        vertical-align: top;\n",
       "    }\n",
       "\n",
       "    .dataframe thead th {\n",
       "        text-align: right;\n",
       "    }\n",
       "</style>\n",
       "<table border=\"1\" class=\"dataframe\">\n",
       "  <thead>\n",
       "    <tr style=\"text-align: right;\">\n",
       "      <th></th>\n",
       "      <th>From</th>\n",
       "      <th>To</th>\n",
       "      <th>Booking_date</th>\n",
       "      <th>Journey_date</th>\n",
       "      <th>Airline</th>\n",
       "      <th>Code</th>\n",
       "      <th>Departure</th>\n",
       "      <th>Arrival</th>\n",
       "      <th>Stops</th>\n",
       "      <th>Price</th>\n",
       "      <th>Traveling_cities</th>\n",
       "      <th>Early_booking</th>\n",
       "      <th>total_travel_time</th>\n",
       "    </tr>\n",
       "  </thead>\n",
       "  <tbody>\n",
       "    <tr>\n",
       "      <th>0</th>\n",
       "      <td>Delhi</td>\n",
       "      <td>Bangalore</td>\n",
       "      <td>2022-06-23</td>\n",
       "      <td>2022-06-23</td>\n",
       "      <td>Air India</td>\n",
       "      <td>AI-504</td>\n",
       "      <td>night_departure</td>\n",
       "      <td>Early_morning_arrival</td>\n",
       "      <td>0</td>\n",
       "      <td>9420</td>\n",
       "      <td>Delhi-Bangalore</td>\n",
       "      <td>0</td>\n",
       "      <td>2.83</td>\n",
       "    </tr>\n",
       "    <tr>\n",
       "      <th>1</th>\n",
       "      <td>Delhi</td>\n",
       "      <td>Bangalore</td>\n",
       "      <td>2022-06-23</td>\n",
       "      <td>2022-06-23</td>\n",
       "      <td>IndiGo</td>\n",
       "      <td>6E-2131</td>\n",
       "      <td>night_departure</td>\n",
       "      <td>Early_morning_arrival</td>\n",
       "      <td>0</td>\n",
       "      <td>9419</td>\n",
       "      <td>Delhi-Bangalore</td>\n",
       "      <td>0</td>\n",
       "      <td>2.75</td>\n",
       "    </tr>\n",
       "  </tbody>\n",
       "</table>\n",
       "</div>"
      ],
      "text/plain": [
       "    From         To Booking_date Journey_date    Airline     Code  \\\n",
       "0  Delhi  Bangalore   2022-06-23   2022-06-23  Air India   AI-504   \n",
       "1  Delhi  Bangalore   2022-06-23   2022-06-23     IndiGo  6E-2131   \n",
       "\n",
       "         Departure                Arrival  Stops  Price Traveling_cities  \\\n",
       "0  night_departure  Early_morning_arrival      0   9420  Delhi-Bangalore   \n",
       "1  night_departure  Early_morning_arrival      0   9419  Delhi-Bangalore   \n",
       "\n",
       "   Early_booking  total_travel_time  \n",
       "0              0               2.83  \n",
       "1              0               2.75  "
      ]
     },
     "execution_count": 449,
     "metadata": {},
     "output_type": "execute_result"
    }
   ],
   "source": [
    "df.head(2)"
   ]
  },
  {
   "cell_type": "code",
   "execution_count": 450,
   "id": "5a781c82",
   "metadata": {},
   "outputs": [
    {
     "data": {
      "text/plain": [
       "<AxesSubplot:xlabel='Traveling_cities', ylabel='count'>"
      ]
     },
     "execution_count": 450,
     "metadata": {},
     "output_type": "execute_result"
    },
    {
     "data": {
      "image/png": "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\n",
      "text/plain": [
       "<Figure size 432x288 with 1 Axes>"
      ]
     },
     "metadata": {
      "needs_background": "light"
     },
     "output_type": "display_data"
    }
   ],
   "source": [
    "sns.countplot(df['Traveling_cities'])"
   ]
  },
  {
   "cell_type": "code",
   "execution_count": 451,
   "id": "7d6cbf93",
   "metadata": {},
   "outputs": [],
   "source": [
    "# Most flights are between  Delhi <-> Banglore   and Delhi<-> Mumbai"
   ]
  },
  {
   "cell_type": "code",
   "execution_count": 452,
   "id": "a955e34a",
   "metadata": {},
   "outputs": [
    {
     "data": {
      "text/plain": [
       "Traveling_cities\n",
       "Bangalore-kolkata    13314.224110\n",
       "Delhi-Bangalore      13380.058919\n",
       "Delhi-Goa            12909.355035\n",
       "Delhi-Mumbai         11917.739583\n",
       "Name: Price, dtype: float64"
      ]
     },
     "execution_count": 452,
     "metadata": {},
     "output_type": "execute_result"
    }
   ],
   "source": [
    "df.groupby('Traveling_cities')['Price'].mean()"
   ]
  },
  {
   "cell_type": "code",
   "execution_count": 453,
   "id": "b9d0bb5b",
   "metadata": {},
   "outputs": [],
   "source": [
    "# Average Fares between Bangalore-kolkata and Delhi-Bangalore are high"
   ]
  },
  {
   "cell_type": "code",
   "execution_count": 454,
   "id": "e97f7492",
   "metadata": {},
   "outputs": [
    {
     "data": {
      "text/plain": [
       "<seaborn.axisgrid.FacetGrid at 0x2002eb61940>"
      ]
     },
     "execution_count": 454,
     "metadata": {},
     "output_type": "execute_result"
    },
    {
     "data": {
      "image/png": "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\n",
      "text/plain": [
       "<Figure size 1296x432 with 1 Axes>"
      ]
     },
     "metadata": {
      "needs_background": "light"
     },
     "output_type": "display_data"
    }
   ],
   "source": [
    "sns.catplot(y=\"Price\",x=\"Airline\",data=df.sort_values(\"Price\",ascending=False),kind=\"boxen\",height=6,aspect=3)"
   ]
  },
  {
   "cell_type": "code",
   "execution_count": 455,
   "id": "3cfad72b",
   "metadata": {},
   "outputs": [],
   "source": [
    "# Airlines have outliers in Price. that may be the last moment booking at high price.\n",
    "# Because of Price is our Target variable we will not handle outlier in this feature"
   ]
  },
  {
   "cell_type": "code",
   "execution_count": 456,
   "id": "48588c20",
   "metadata": {},
   "outputs": [
    {
     "data": {
      "text/plain": [
       "<seaborn.axisgrid.PairGrid at 0x2002eb3e0a0>"
      ]
     },
     "execution_count": 456,
     "metadata": {},
     "output_type": "execute_result"
    },
    {
     "data": {
      "image/png": "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\n",
      "text/plain": [
       "<Figure size 720x720 with 20 Axes>"
      ]
     },
     "metadata": {
      "needs_background": "light"
     },
     "output_type": "display_data"
    }
   ],
   "source": [
    "sns.pairplot(df)"
   ]
  },
  {
   "cell_type": "code",
   "execution_count": 457,
   "id": "a8a7e045",
   "metadata": {},
   "outputs": [
    {
     "data": {
      "text/plain": [
       "<AxesSubplot:xlabel='Early_booking', ylabel='Price'>"
      ]
     },
     "execution_count": 457,
     "metadata": {},
     "output_type": "execute_result"
    },
    {
     "data": {
      "image/png": "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\n",
      "text/plain": [
       "<Figure size 432x288 with 1 Axes>"
      ]
     },
     "metadata": {
      "needs_background": "light"
     },
     "output_type": "display_data"
    }
   ],
   "source": [
    "sns.scatterplot(df['Early_booking'],df['Price'])"
   ]
  },
  {
   "cell_type": "code",
   "execution_count": 458,
   "id": "cf8e8f16",
   "metadata": {},
   "outputs": [],
   "source": [
    "# Early booking doesn't seems to be having any good relationship with price"
   ]
  },
  {
   "cell_type": "code",
   "execution_count": 459,
   "id": "6432de21",
   "metadata": {},
   "outputs": [
    {
     "data": {
      "text/html": [
       "<div>\n",
       "<style scoped>\n",
       "    .dataframe tbody tr th:only-of-type {\n",
       "        vertical-align: middle;\n",
       "    }\n",
       "\n",
       "    .dataframe tbody tr th {\n",
       "        vertical-align: top;\n",
       "    }\n",
       "\n",
       "    .dataframe thead th {\n",
       "        text-align: right;\n",
       "    }\n",
       "</style>\n",
       "<table border=\"1\" class=\"dataframe\">\n",
       "  <thead>\n",
       "    <tr style=\"text-align: right;\">\n",
       "      <th></th>\n",
       "      <th>From</th>\n",
       "      <th>To</th>\n",
       "      <th>Booking_date</th>\n",
       "      <th>Journey_date</th>\n",
       "      <th>Airline</th>\n",
       "      <th>Code</th>\n",
       "      <th>Departure</th>\n",
       "      <th>Arrival</th>\n",
       "      <th>Stops</th>\n",
       "      <th>Price</th>\n",
       "      <th>Traveling_cities</th>\n",
       "      <th>Early_booking</th>\n",
       "      <th>total_travel_time</th>\n",
       "    </tr>\n",
       "  </thead>\n",
       "  <tbody>\n",
       "    <tr>\n",
       "      <th>0</th>\n",
       "      <td>Delhi</td>\n",
       "      <td>Bangalore</td>\n",
       "      <td>2022-06-23</td>\n",
       "      <td>2022-06-23</td>\n",
       "      <td>Air India</td>\n",
       "      <td>AI-504</td>\n",
       "      <td>night_departure</td>\n",
       "      <td>Early_morning_arrival</td>\n",
       "      <td>0</td>\n",
       "      <td>9420</td>\n",
       "      <td>Delhi-Bangalore</td>\n",
       "      <td>0</td>\n",
       "      <td>2.83</td>\n",
       "    </tr>\n",
       "    <tr>\n",
       "      <th>1</th>\n",
       "      <td>Delhi</td>\n",
       "      <td>Bangalore</td>\n",
       "      <td>2022-06-23</td>\n",
       "      <td>2022-06-23</td>\n",
       "      <td>IndiGo</td>\n",
       "      <td>6E-2131</td>\n",
       "      <td>night_departure</td>\n",
       "      <td>Early_morning_arrival</td>\n",
       "      <td>0</td>\n",
       "      <td>9419</td>\n",
       "      <td>Delhi-Bangalore</td>\n",
       "      <td>0</td>\n",
       "      <td>2.75</td>\n",
       "    </tr>\n",
       "    <tr>\n",
       "      <th>2</th>\n",
       "      <td>Delhi</td>\n",
       "      <td>Bangalore</td>\n",
       "      <td>2022-06-23</td>\n",
       "      <td>2022-06-23</td>\n",
       "      <td>IndiGo</td>\n",
       "      <td>6E-6565</td>\n",
       "      <td>night_departure</td>\n",
       "      <td>Early_morning_arrival</td>\n",
       "      <td>0</td>\n",
       "      <td>9419</td>\n",
       "      <td>Delhi-Bangalore</td>\n",
       "      <td>0</td>\n",
       "      <td>2.83</td>\n",
       "    </tr>\n",
       "    <tr>\n",
       "      <th>3</th>\n",
       "      <td>Delhi</td>\n",
       "      <td>Bangalore</td>\n",
       "      <td>2022-06-23</td>\n",
       "      <td>2022-06-23</td>\n",
       "      <td>Air India</td>\n",
       "      <td>AI-605</td>\n",
       "      <td>night_departure</td>\n",
       "      <td>morning_arrival</td>\n",
       "      <td>1</td>\n",
       "      <td>14775</td>\n",
       "      <td>Delhi-Bangalore</td>\n",
       "      <td>0</td>\n",
       "      <td>10.58</td>\n",
       "    </tr>\n",
       "    <tr>\n",
       "      <th>4</th>\n",
       "      <td>Delhi</td>\n",
       "      <td>Bangalore</td>\n",
       "      <td>2022-06-23</td>\n",
       "      <td>2022-06-23</td>\n",
       "      <td>Air India</td>\n",
       "      <td>AI-605</td>\n",
       "      <td>night_departure</td>\n",
       "      <td>evening_arrival</td>\n",
       "      <td>1</td>\n",
       "      <td>14985</td>\n",
       "      <td>Delhi-Bangalore</td>\n",
       "      <td>0</td>\n",
       "      <td>21.08</td>\n",
       "    </tr>\n",
       "  </tbody>\n",
       "</table>\n",
       "</div>"
      ],
      "text/plain": [
       "    From         To Booking_date Journey_date    Airline     Code  \\\n",
       "0  Delhi  Bangalore   2022-06-23   2022-06-23  Air India   AI-504   \n",
       "1  Delhi  Bangalore   2022-06-23   2022-06-23     IndiGo  6E-2131   \n",
       "2  Delhi  Bangalore   2022-06-23   2022-06-23     IndiGo  6E-6565   \n",
       "3  Delhi  Bangalore   2022-06-23   2022-06-23  Air India   AI-605   \n",
       "4  Delhi  Bangalore   2022-06-23   2022-06-23  Air India   AI-605   \n",
       "\n",
       "         Departure                Arrival  Stops  Price Traveling_cities  \\\n",
       "0  night_departure  Early_morning_arrival      0   9420  Delhi-Bangalore   \n",
       "1  night_departure  Early_morning_arrival      0   9419  Delhi-Bangalore   \n",
       "2  night_departure  Early_morning_arrival      0   9419  Delhi-Bangalore   \n",
       "3  night_departure        morning_arrival      1  14775  Delhi-Bangalore   \n",
       "4  night_departure        evening_arrival      1  14985  Delhi-Bangalore   \n",
       "\n",
       "   Early_booking  total_travel_time  \n",
       "0              0               2.83  \n",
       "1              0               2.75  \n",
       "2              0               2.83  \n",
       "3              0              10.58  \n",
       "4              0              21.08  "
      ]
     },
     "execution_count": 459,
     "metadata": {},
     "output_type": "execute_result"
    }
   ],
   "source": [
    "df.head()"
   ]
  },
  {
   "cell_type": "code",
   "execution_count": 460,
   "id": "e80ea449",
   "metadata": {},
   "outputs": [],
   "source": [
    "# From and To feature are no more required as we have extracted Traveling_cities feature which have both to-from name\n",
    "\n",
    "# Booking_date and journey date is not required as we have calculated how many days before ticket booked before travel\n",
    "\n",
    "\n",
    "df=df.drop(['From','To','Booking_date','Journey_date'], axis=1)"
   ]
  },
  {
   "cell_type": "code",
   "execution_count": 461,
   "id": "60cee25b",
   "metadata": {},
   "outputs": [
    {
     "data": {
      "text/html": [
       "<div>\n",
       "<style scoped>\n",
       "    .dataframe tbody tr th:only-of-type {\n",
       "        vertical-align: middle;\n",
       "    }\n",
       "\n",
       "    .dataframe tbody tr th {\n",
       "        vertical-align: top;\n",
       "    }\n",
       "\n",
       "    .dataframe thead th {\n",
       "        text-align: right;\n",
       "    }\n",
       "</style>\n",
       "<table border=\"1\" class=\"dataframe\">\n",
       "  <thead>\n",
       "    <tr style=\"text-align: right;\">\n",
       "      <th></th>\n",
       "      <th>Airline</th>\n",
       "      <th>Code</th>\n",
       "      <th>Departure</th>\n",
       "      <th>Arrival</th>\n",
       "      <th>Stops</th>\n",
       "      <th>Price</th>\n",
       "      <th>Traveling_cities</th>\n",
       "      <th>Early_booking</th>\n",
       "      <th>total_travel_time</th>\n",
       "    </tr>\n",
       "  </thead>\n",
       "  <tbody>\n",
       "    <tr>\n",
       "      <th>0</th>\n",
       "      <td>Air India</td>\n",
       "      <td>AI-504</td>\n",
       "      <td>night_departure</td>\n",
       "      <td>Early_morning_arrival</td>\n",
       "      <td>0</td>\n",
       "      <td>9420</td>\n",
       "      <td>Delhi-Bangalore</td>\n",
       "      <td>0</td>\n",
       "      <td>2.83</td>\n",
       "    </tr>\n",
       "    <tr>\n",
       "      <th>1</th>\n",
       "      <td>IndiGo</td>\n",
       "      <td>6E-2131</td>\n",
       "      <td>night_departure</td>\n",
       "      <td>Early_morning_arrival</td>\n",
       "      <td>0</td>\n",
       "      <td>9419</td>\n",
       "      <td>Delhi-Bangalore</td>\n",
       "      <td>0</td>\n",
       "      <td>2.75</td>\n",
       "    </tr>\n",
       "  </tbody>\n",
       "</table>\n",
       "</div>"
      ],
      "text/plain": [
       "     Airline     Code        Departure                Arrival  Stops  Price  \\\n",
       "0  Air India   AI-504  night_departure  Early_morning_arrival      0   9420   \n",
       "1     IndiGo  6E-2131  night_departure  Early_morning_arrival      0   9419   \n",
       "\n",
       "  Traveling_cities  Early_booking  total_travel_time  \n",
       "0  Delhi-Bangalore              0               2.83  \n",
       "1  Delhi-Bangalore              0               2.75  "
      ]
     },
     "execution_count": 461,
     "metadata": {},
     "output_type": "execute_result"
    }
   ],
   "source": [
    "df.head(2)"
   ]
  },
  {
   "cell_type": "code",
   "execution_count": 462,
   "id": "6c3044ec",
   "metadata": {},
   "outputs": [
    {
     "data": {
      "text/plain": [
       "585"
      ]
     },
     "execution_count": 462,
     "metadata": {},
     "output_type": "execute_result"
    }
   ],
   "source": [
    "df['Code'].nunique()"
   ]
  },
  {
   "cell_type": "code",
   "execution_count": 463,
   "id": "a7fe2891",
   "metadata": {},
   "outputs": [],
   "source": [
    "# Airline code have many distinct values 585, as we have Airline name we can drop this feature"
   ]
  },
  {
   "cell_type": "code",
   "execution_count": 464,
   "id": "18bc2ae3",
   "metadata": {},
   "outputs": [],
   "source": [
    "df=df.drop('Code', axis=1)"
   ]
  },
  {
   "cell_type": "code",
   "execution_count": 465,
   "id": "0a6f3480",
   "metadata": {},
   "outputs": [
    {
     "data": {
      "text/html": [
       "<div>\n",
       "<style scoped>\n",
       "    .dataframe tbody tr th:only-of-type {\n",
       "        vertical-align: middle;\n",
       "    }\n",
       "\n",
       "    .dataframe tbody tr th {\n",
       "        vertical-align: top;\n",
       "    }\n",
       "\n",
       "    .dataframe thead th {\n",
       "        text-align: right;\n",
       "    }\n",
       "</style>\n",
       "<table border=\"1\" class=\"dataframe\">\n",
       "  <thead>\n",
       "    <tr style=\"text-align: right;\">\n",
       "      <th></th>\n",
       "      <th>Airline</th>\n",
       "      <th>Departure</th>\n",
       "      <th>Arrival</th>\n",
       "      <th>Stops</th>\n",
       "      <th>Price</th>\n",
       "      <th>Traveling_cities</th>\n",
       "      <th>Early_booking</th>\n",
       "      <th>total_travel_time</th>\n",
       "    </tr>\n",
       "  </thead>\n",
       "  <tbody>\n",
       "    <tr>\n",
       "      <th>0</th>\n",
       "      <td>Air India</td>\n",
       "      <td>night_departure</td>\n",
       "      <td>Early_morning_arrival</td>\n",
       "      <td>0</td>\n",
       "      <td>9420</td>\n",
       "      <td>Delhi-Bangalore</td>\n",
       "      <td>0</td>\n",
       "      <td>2.83</td>\n",
       "    </tr>\n",
       "    <tr>\n",
       "      <th>1</th>\n",
       "      <td>IndiGo</td>\n",
       "      <td>night_departure</td>\n",
       "      <td>Early_morning_arrival</td>\n",
       "      <td>0</td>\n",
       "      <td>9419</td>\n",
       "      <td>Delhi-Bangalore</td>\n",
       "      <td>0</td>\n",
       "      <td>2.75</td>\n",
       "    </tr>\n",
       "    <tr>\n",
       "      <th>2</th>\n",
       "      <td>IndiGo</td>\n",
       "      <td>night_departure</td>\n",
       "      <td>Early_morning_arrival</td>\n",
       "      <td>0</td>\n",
       "      <td>9419</td>\n",
       "      <td>Delhi-Bangalore</td>\n",
       "      <td>0</td>\n",
       "      <td>2.83</td>\n",
       "    </tr>\n",
       "    <tr>\n",
       "      <th>3</th>\n",
       "      <td>Air India</td>\n",
       "      <td>night_departure</td>\n",
       "      <td>morning_arrival</td>\n",
       "      <td>1</td>\n",
       "      <td>14775</td>\n",
       "      <td>Delhi-Bangalore</td>\n",
       "      <td>0</td>\n",
       "      <td>10.58</td>\n",
       "    </tr>\n",
       "    <tr>\n",
       "      <th>4</th>\n",
       "      <td>Air India</td>\n",
       "      <td>night_departure</td>\n",
       "      <td>evening_arrival</td>\n",
       "      <td>1</td>\n",
       "      <td>14985</td>\n",
       "      <td>Delhi-Bangalore</td>\n",
       "      <td>0</td>\n",
       "      <td>21.08</td>\n",
       "    </tr>\n",
       "  </tbody>\n",
       "</table>\n",
       "</div>"
      ],
      "text/plain": [
       "     Airline        Departure                Arrival  Stops  Price  \\\n",
       "0  Air India  night_departure  Early_morning_arrival      0   9420   \n",
       "1     IndiGo  night_departure  Early_morning_arrival      0   9419   \n",
       "2     IndiGo  night_departure  Early_morning_arrival      0   9419   \n",
       "3  Air India  night_departure        morning_arrival      1  14775   \n",
       "4  Air India  night_departure        evening_arrival      1  14985   \n",
       "\n",
       "  Traveling_cities  Early_booking  total_travel_time  \n",
       "0  Delhi-Bangalore              0               2.83  \n",
       "1  Delhi-Bangalore              0               2.75  \n",
       "2  Delhi-Bangalore              0               2.83  \n",
       "3  Delhi-Bangalore              0              10.58  \n",
       "4  Delhi-Bangalore              0              21.08  "
      ]
     },
     "execution_count": 465,
     "metadata": {},
     "output_type": "execute_result"
    }
   ],
   "source": [
    "df.head()"
   ]
  },
  {
   "cell_type": "code",
   "execution_count": 466,
   "id": "6bbef3b2",
   "metadata": {},
   "outputs": [
    {
     "data": {
      "text/plain": [
       "<AxesSubplot:xlabel='total_travel_time', ylabel='Density'>"
      ]
     },
     "execution_count": 466,
     "metadata": {},
     "output_type": "execute_result"
    },
    {
     "data": {
      "image/png": "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\n",
      "text/plain": [
       "<Figure size 432x288 with 1 Axes>"
      ]
     },
     "metadata": {
      "needs_background": "light"
     },
     "output_type": "display_data"
    }
   ],
   "source": [
    "sns.distplot(df['total_travel_time'])"
   ]
  },
  {
   "cell_type": "code",
   "execution_count": 467,
   "id": "7e80966c",
   "metadata": {},
   "outputs": [],
   "source": [
    "# total_travel_time have right skewed data distribution"
   ]
  },
  {
   "cell_type": "code",
   "execution_count": 468,
   "id": "d9ed048f",
   "metadata": {},
   "outputs": [
    {
     "data": {
      "text/plain": [
       "<AxesSubplot:>"
      ]
     },
     "execution_count": 468,
     "metadata": {},
     "output_type": "execute_result"
    },
    {
     "data": {
      "image/png": "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\n",
      "text/plain": [
       "<Figure size 432x288 with 2 Axes>"
      ]
     },
     "metadata": {
      "needs_background": "light"
     },
     "output_type": "display_data"
    }
   ],
   "source": [
    "sns.heatmap(df.corr(), annot=True)"
   ]
  },
  {
   "cell_type": "code",
   "execution_count": 469,
   "id": "1f214909",
   "metadata": {},
   "outputs": [],
   "source": [
    "# Pearson correlaton tells that Stops and Total_travel_time have a average relationship with Price"
   ]
  },
  {
   "cell_type": "code",
   "execution_count": 470,
   "id": "f383d7e0",
   "metadata": {},
   "outputs": [
    {
     "data": {
      "text/plain": [
       "Stops               -0.159315\n",
       "Price                1.168514\n",
       "Early_booking        0.072079\n",
       "total_travel_time    1.152422\n",
       "dtype: float64"
      ]
     },
     "execution_count": 470,
     "metadata": {},
     "output_type": "execute_result"
    }
   ],
   "source": [
    "df.skew()"
   ]
  },
  {
   "cell_type": "markdown",
   "id": "fbc6ecc4",
   "metadata": {},
   "source": [
    "### Do airfares change frequently? Do they move in small increments or in large jumps? Do they tend to go up or down over time?"
   ]
  },
  {
   "cell_type": "code",
   "execution_count": 472,
   "id": "b50be936",
   "metadata": {},
   "outputs": [
    {
     "data": {
      "text/html": [
       "<div>\n",
       "<style scoped>\n",
       "    .dataframe tbody tr th:only-of-type {\n",
       "        vertical-align: middle;\n",
       "    }\n",
       "\n",
       "    .dataframe tbody tr th {\n",
       "        vertical-align: top;\n",
       "    }\n",
       "\n",
       "    .dataframe thead th {\n",
       "        text-align: right;\n",
       "    }\n",
       "</style>\n",
       "<table border=\"1\" class=\"dataframe\">\n",
       "  <thead>\n",
       "    <tr style=\"text-align: right;\">\n",
       "      <th></th>\n",
       "      <th>Airline</th>\n",
       "      <th>Departure</th>\n",
       "      <th>Arrival</th>\n",
       "      <th>Stops</th>\n",
       "      <th>Price</th>\n",
       "      <th>Traveling_cities</th>\n",
       "      <th>Early_booking</th>\n",
       "      <th>total_travel_time</th>\n",
       "    </tr>\n",
       "  </thead>\n",
       "  <tbody>\n",
       "    <tr>\n",
       "      <th>0</th>\n",
       "      <td>Air India</td>\n",
       "      <td>night_departure</td>\n",
       "      <td>Early_morning_arrival</td>\n",
       "      <td>0</td>\n",
       "      <td>9420</td>\n",
       "      <td>Delhi-Bangalore</td>\n",
       "      <td>0</td>\n",
       "      <td>2.83</td>\n",
       "    </tr>\n",
       "    <tr>\n",
       "      <th>1</th>\n",
       "      <td>IndiGo</td>\n",
       "      <td>night_departure</td>\n",
       "      <td>Early_morning_arrival</td>\n",
       "      <td>0</td>\n",
       "      <td>9419</td>\n",
       "      <td>Delhi-Bangalore</td>\n",
       "      <td>0</td>\n",
       "      <td>2.75</td>\n",
       "    </tr>\n",
       "  </tbody>\n",
       "</table>\n",
       "</div>"
      ],
      "text/plain": [
       "     Airline        Departure                Arrival  Stops  Price  \\\n",
       "0  Air India  night_departure  Early_morning_arrival      0   9420   \n",
       "1     IndiGo  night_departure  Early_morning_arrival      0   9419   \n",
       "\n",
       "  Traveling_cities  Early_booking  total_travel_time  \n",
       "0  Delhi-Bangalore              0               2.83  \n",
       "1  Delhi-Bangalore              0               2.75  "
      ]
     },
     "execution_count": 472,
     "metadata": {},
     "output_type": "execute_result"
    }
   ],
   "source": [
    "df.head(2)"
   ]
  },
  {
   "cell_type": "code",
   "execution_count": 474,
   "id": "c5df795a",
   "metadata": {},
   "outputs": [
    {
     "data": {
      "text/plain": [
       "<AxesSubplot:xlabel='Early_booking', ylabel='Price'>"
      ]
     },
     "execution_count": 474,
     "metadata": {},
     "output_type": "execute_result"
    },
    {
     "data": {
      "image/png": "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\n",
      "text/plain": [
       "<Figure size 432x288 with 1 Axes>"
      ]
     },
     "metadata": {
      "needs_background": "light"
     },
     "output_type": "display_data"
    }
   ],
   "source": [
    "sns.scatterplot(df['Early_booking'],df['Price'])"
   ]
  },
  {
   "cell_type": "raw",
   "id": "94568ebb",
   "metadata": {},
   "source": [
    "Airfares changes frequently: Yes\n",
    "Small and large increment jumps\n",
    "It may go up or down over time\n",
    "\n",
    "Early_booking have not direct relationship with Price"
   ]
  },
  {
   "cell_type": "markdown",
   "id": "7015409e",
   "metadata": {},
   "source": [
    "### What is the best time to buy so that the consumer can save the most by taking the least risk?"
   ]
  },
  {
   "cell_type": "code",
   "execution_count": 485,
   "id": "745dbe50",
   "metadata": {},
   "outputs": [
    {
     "data": {
      "text/plain": [
       "Early_booking\n",
       "5     9994.0\n",
       "6    10130.0\n",
       "4    10199.5\n",
       "1    11753.0\n",
       "3    11753.0\n",
       "2    13769.0\n",
       "7    14140.0\n",
       "0    15720.0\n",
       "Name: Price, dtype: float64"
      ]
     },
     "execution_count": 485,
     "metadata": {},
     "output_type": "execute_result"
    }
   ],
   "source": [
    "df.groupby('Early_booking')['Price'].median().sort_values()"
   ]
  },
  {
   "cell_type": "code",
   "execution_count": 486,
   "id": "1b523737",
   "metadata": {},
   "outputs": [
    {
     "data": {
      "text/plain": [
       "Departure\n",
       "late_night_departure        9447.0\n",
       "Early_morning_departure     9679.0\n",
       "night_departure            11753.0\n",
       "evening_departure          12046.0\n",
       "morning_departure          12490.0\n",
       "afternoon_departure        12640.5\n",
       "Name: Price, dtype: float64"
      ]
     },
     "execution_count": 486,
     "metadata": {},
     "output_type": "execute_result"
    }
   ],
   "source": [
    "df.groupby('Departure')['Price'].median().sort_values()"
   ]
  },
  {
   "cell_type": "code",
   "execution_count": 487,
   "id": "ea66f40b",
   "metadata": {},
   "outputs": [
    {
     "data": {
      "text/plain": [
       "Arrival\n",
       "Early_morning_arrival     9679.0\n",
       "late_night_arrival        9994.0\n",
       "night_arrival            10572.5\n",
       "morning_arrival          12046.0\n",
       "afternoon_arrival        13584.0\n",
       "evening_arrival          13769.0\n",
       "Name: Price, dtype: float64"
      ]
     },
     "execution_count": 487,
     "metadata": {},
     "output_type": "execute_result"
    }
   ],
   "source": [
    "df.groupby('Arrival')['Price'].median().sort_values()"
   ]
  },
  {
   "cell_type": "markdown",
   "id": "804677b8",
   "metadata": {},
   "source": [
    "Best time to buy ticket is approx 5-6 days before travel date. Late_night and early_morning departure and arrival flights are less expensive"
   ]
  },
  {
   "cell_type": "code",
   "execution_count": null,
   "id": "7d7b45e4",
   "metadata": {},
   "outputs": [],
   "source": []
  },
  {
   "cell_type": "markdown",
   "id": "5205ec83",
   "metadata": {},
   "source": [
    "### Does price increase as we get near to departure date? Is Indigo cheaper than Air India? Are morning flights expensive?"
   ]
  },
  {
   "cell_type": "code",
   "execution_count": 475,
   "id": "1f1f8237",
   "metadata": {},
   "outputs": [
    {
     "data": {
      "text/plain": [
       "Early_booking\n",
       "0    15318.156863\n",
       "1    12861.460843\n",
       "2    13854.391431\n",
       "3    12717.087659\n",
       "4    12350.076923\n",
       "5    12213.422520\n",
       "6    12445.065574\n",
       "7    12895.323232\n",
       "Name: Price, dtype: float64"
      ]
     },
     "execution_count": 475,
     "metadata": {},
     "output_type": "execute_result"
    }
   ],
   "source": [
    "df.groupby('Early_booking')['Price'].mean()"
   ]
  },
  {
   "cell_type": "code",
   "execution_count": null,
   "id": "eecb1b7e",
   "metadata": {},
   "outputs": [],
   "source": [
    "Does price increase as we get near to departure date  : Yes"
   ]
  },
  {
   "cell_type": "code",
   "execution_count": null,
   "id": "84a1f78c",
   "metadata": {},
   "outputs": [],
   "source": []
  },
  {
   "cell_type": "markdown",
   "id": "2b2a7ef5",
   "metadata": {},
   "source": [
    "Is Indigo cheaper than Air India?"
   ]
  },
  {
   "cell_type": "code",
   "execution_count": 476,
   "id": "83bec2f7",
   "metadata": {},
   "outputs": [
    {
     "data": {
      "text/plain": [
       "Airline\n",
       "Air India    15165.786026\n",
       "AirAsia      11551.761155\n",
       "GO FIRST     10961.345876\n",
       "IndiGo       10140.129271\n",
       "SpiceJet      9828.076233\n",
       "Vistara      15236.919311\n",
       "Name: Price, dtype: float64"
      ]
     },
     "execution_count": 476,
     "metadata": {},
     "output_type": "execute_result"
    }
   ],
   "source": [
    "df.groupby('Airline')['Price'].mean()"
   ]
  },
  {
   "cell_type": "markdown",
   "id": "6f8cb3b3",
   "metadata": {},
   "source": [
    "Indigo average price is 10140 while Air India average price is 15165\n",
    "Yes, Indigo is cheaper than Air India"
   ]
  },
  {
   "cell_type": "markdown",
   "id": "df5bb12d",
   "metadata": {},
   "source": [
    "Are morning flights expensive?"
   ]
  },
  {
   "cell_type": "code",
   "execution_count": 482,
   "id": "96d1c674",
   "metadata": {},
   "outputs": [
    {
     "data": {
      "text/plain": [
       "Departure\n",
       "afternoon_departure        12640.5\n",
       "morning_departure          12490.0\n",
       "evening_departure          12046.0\n",
       "night_departure            11753.0\n",
       "Early_morning_departure     9679.0\n",
       "late_night_departure        9447.0\n",
       "Name: Price, dtype: float64"
      ]
     },
     "execution_count": 482,
     "metadata": {},
     "output_type": "execute_result"
    }
   ],
   "source": [
    "df.groupby('Departure')['Price'].median().sort_values(ascending=False)"
   ]
  },
  {
   "cell_type": "code",
   "execution_count": 483,
   "id": "ff27c9dc",
   "metadata": {},
   "outputs": [
    {
     "data": {
      "text/plain": [
       "Arrival\n",
       "evening_arrival          13769.0\n",
       "afternoon_arrival        13584.0\n",
       "morning_arrival          12046.0\n",
       "night_arrival            10572.5\n",
       "late_night_arrival        9994.0\n",
       "Early_morning_arrival     9679.0\n",
       "Name: Price, dtype: float64"
      ]
     },
     "execution_count": 483,
     "metadata": {},
     "output_type": "execute_result"
    }
   ],
   "source": [
    "df.groupby('Arrival')['Price'].median().sort_values(ascending=False)"
   ]
  },
  {
   "cell_type": "markdown",
   "id": "5457860c",
   "metadata": {},
   "source": [
    "morning_departure flight is expensive while morning_arrival flight is less expensive"
   ]
  },
  {
   "cell_type": "code",
   "execution_count": null,
   "id": "f6ed6e2b",
   "metadata": {},
   "outputs": [],
   "source": []
  },
  {
   "cell_type": "code",
   "execution_count": null,
   "id": "0cecf6a9",
   "metadata": {},
   "outputs": [],
   "source": []
  },
  {
   "cell_type": "code",
   "execution_count": null,
   "id": "578124c0",
   "metadata": {},
   "outputs": [],
   "source": []
  },
  {
   "cell_type": "code",
   "execution_count": null,
   "id": "e135bd24",
   "metadata": {},
   "outputs": [],
   "source": []
  },
  {
   "cell_type": "code",
   "execution_count": null,
   "id": "8908800c",
   "metadata": {},
   "outputs": [],
   "source": []
  },
  {
   "cell_type": "markdown",
   "id": "15dfeb4a",
   "metadata": {},
   "source": [
    "# Seprate X and Y"
   ]
  },
  {
   "cell_type": "code",
   "execution_count": 304,
   "id": "af88f7aa",
   "metadata": {},
   "outputs": [],
   "source": [
    "X= df.drop('Price', axis=1)\n",
    "Y=df['Price']"
   ]
  },
  {
   "cell_type": "code",
   "execution_count": 305,
   "id": "0a476249",
   "metadata": {},
   "outputs": [
    {
     "data": {
      "text/plain": [
       "((6062, 7), (6062,))"
      ]
     },
     "execution_count": 305,
     "metadata": {},
     "output_type": "execute_result"
    }
   ],
   "source": [
    "X.shape  , Y.shape"
   ]
  },
  {
   "cell_type": "code",
   "execution_count": 311,
   "id": "ff26e945",
   "metadata": {},
   "outputs": [],
   "source": [
    "from sklearn.compose import ColumnTransformer\n",
    "from sklearn.preprocessing import OneHotEncoder\n",
    "from sklearn.preprocessing import StandardScaler"
   ]
  },
  {
   "cell_type": "code",
   "execution_count": 312,
   "id": "0feaa267",
   "metadata": {},
   "outputs": [],
   "source": [
    "transformers=ColumnTransformer(transformers=[('tnf1',StandardScaler(),['total_travel_time']),('tnf2',OneHotEncoder(sparse=False,drop='first'),['Airline','Departure','Arrival','Traveling_cities'])],remainder='passthrough')"
   ]
  },
  {
   "cell_type": "code",
   "execution_count": 316,
   "id": "38b9d950",
   "metadata": {},
   "outputs": [],
   "source": [
    "X=transformers.fit_transform(X)"
   ]
  },
  {
   "cell_type": "code",
   "execution_count": 317,
   "id": "68740f1a",
   "metadata": {},
   "outputs": [
    {
     "data": {
      "text/plain": [
       "(6062, 21)"
      ]
     },
     "execution_count": 317,
     "metadata": {},
     "output_type": "execute_result"
    }
   ],
   "source": [
    "X.shape"
   ]
  },
  {
   "cell_type": "markdown",
   "id": "bfeac2e4",
   "metadata": {},
   "source": [
    "# Machine Learning"
   ]
  },
  {
   "cell_type": "code",
   "execution_count": 324,
   "id": "88e0abb1",
   "metadata": {},
   "outputs": [],
   "source": [
    "# Its a Regression problem coz output variable have continuous data, sales prediction\n",
    "from sklearn.model_selection import train_test_split\n",
    "from sklearn.linear_model import LinearRegression\n",
    "from sklearn.metrics import r2_score,mean_absolute_error,mean_squared_error\n",
    "\n",
    "LR= LinearRegression()"
   ]
  },
  {
   "cell_type": "code",
   "execution_count": 325,
   "id": "5547da82",
   "metadata": {},
   "outputs": [
    {
     "name": "stdout",
     "output_type": "stream",
     "text": [
      "At random state  74 The model performance very well\n",
      "At random state:  74\n",
      "Test R2 score is:  0.44\n",
      "Train R2 score is:  0.44\n",
      "XXXXXXXXXXXXXXXXXXXXXXXXXXXXXXXXXXXXXXXXXXXXXXXXXX \n",
      "\n",
      "At random state  93 The model performance very well\n",
      "At random state:  93\n",
      "Test R2 score is:  0.44\n",
      "Train R2 score is:  0.44\n",
      "XXXXXXXXXXXXXXXXXXXXXXXXXXXXXXXXXXXXXXXXXXXXXXXXXX \n",
      "\n",
      "At random state  161 The model performance very well\n",
      "At random state:  161\n",
      "Test R2 score is:  0.44\n",
      "Train R2 score is:  0.44\n",
      "XXXXXXXXXXXXXXXXXXXXXXXXXXXXXXXXXXXXXXXXXXXXXXXXXX \n",
      "\n"
     ]
    }
   ],
   "source": [
    "# Train Test Split / finding best random_state for my model\n",
    "\n",
    "for i in range(0,200):\n",
    "    x_train,x_test,y_train,y_test= train_test_split(X,Y,random_state=i,test_size=.2)\n",
    "    LR.fit(x_train,y_train)\n",
    "    train_pred=LR.predict(x_train)\n",
    "    test_pred=LR.predict(x_test)\n",
    "    if round(r2_score(y_test,test_pred),2)==round(r2_score(y_train,train_pred),2):\n",
    "        print(\"At random state \", i, \"The model performance very well\")\n",
    "        print(\"At random state: \",i)\n",
    "        print(\"Test R2 score is: \", round(r2_score(y_test,test_pred),2))\n",
    "        print('Train R2 score is: ', round(r2_score(y_train,train_pred),2))\n",
    "        print('X'*50,'\\n')"
   ]
  },
  {
   "cell_type": "code",
   "execution_count": 326,
   "id": "225f3000",
   "metadata": {},
   "outputs": [
    {
     "data": {
      "text/plain": [
       "LinearRegression()"
      ]
     },
     "execution_count": 326,
     "metadata": {},
     "output_type": "execute_result"
    }
   ],
   "source": [
    "# Select Random state= 44\n",
    "\n",
    "x_train,x_test,y_train,y_test= train_test_split(X,Y,random_state=44,test_size=.3)\n",
    "LR.fit(x_train,y_train)"
   ]
  },
  {
   "cell_type": "code",
   "execution_count": 328,
   "id": "f9c8bcf5",
   "metadata": {},
   "outputs": [
    {
     "name": "stdout",
     "output_type": "stream",
     "text": [
      "Collecting xgboost\n",
      "  Downloading xgboost-1.6.1-py3-none-win_amd64.whl (125.4 MB)\n",
      "Requirement already satisfied: scipy in c:\\users\\bank of america\\anaconda3\\lib\\site-packages (from xgboost) (1.7.3)\n",
      "Requirement already satisfied: numpy in c:\\users\\bank of america\\anaconda3\\lib\\site-packages (from xgboost) (1.21.5)\n",
      "Installing collected packages: xgboost\n",
      "Successfully installed xgboost-1.6.1\n",
      "Note: you may need to restart the kernel to use updated packages.\n"
     ]
    }
   ],
   "source": [
    "pip install xgboost"
   ]
  },
  {
   "cell_type": "code",
   "execution_count": 329,
   "id": "de35ef4d",
   "metadata": {},
   "outputs": [],
   "source": [
    "from sklearn.linear_model import LinearRegression\n",
    "from sklearn.linear_model import Ridge, Lasso\n",
    "from sklearn.tree import DecisionTreeRegressor\n",
    "from sklearn.svm import SVR\n",
    "from sklearn.neighbors import KNeighborsRegressor\n",
    "from sklearn.ensemble import RandomForestRegressor\n",
    "from xgboost import XGBRegressor\n",
    "from sklearn.linear_model import ElasticNet\n",
    "from sklearn.linear_model import SGDRegressor\n",
    "from sklearn.ensemble import BaggingRegressor\n",
    "from sklearn.ensemble import AdaBoostRegressor\n",
    "from sklearn.ensemble import GradientBoostingRegressor"
   ]
  },
  {
   "cell_type": "code",
   "execution_count": 330,
   "id": "db79ffba",
   "metadata": {},
   "outputs": [],
   "source": [
    "LR_model= LinearRegression()\n",
    "RD_model= Ridge()\n",
    "LS_model= Lasso()\n",
    "DT_model= DecisionTreeRegressor()\n",
    "SV_model= SVR()\n",
    "KNR_model= KNeighborsRegressor()\n",
    "RFR_model= RandomForestRegressor()\n",
    "XGB_model= XGBRegressor()\n",
    "Elastic_model= ElasticNet()\n",
    "SGH_model= SGDRegressor()\n",
    "Bag_model=BaggingRegressor()\n",
    "ADA_model=AdaBoostRegressor()\n",
    "GB_model= GradientBoostingRegressor()\n",
    "\n",
    "model=[LR_model,RD_model,LS_model,DT_model,SV_model,KNR_model,RFR_model,XGB_model,Elastic_model,SGH_model,Bag_model,ADA_model,GB_model ]"
   ]
  },
  {
   "cell_type": "code",
   "execution_count": 333,
   "id": "ffcf4035",
   "metadata": {},
   "outputs": [
    {
     "ename": "IndentationError",
     "evalue": "unexpected indent (3838004541.py, line 2)",
     "output_type": "error",
     "traceback": [
      "\u001b[1;36m  Input \u001b[1;32mIn [333]\u001b[1;36m\u001b[0m\n\u001b[1;33m    m.fit(x_train,y_train)\u001b[0m\n\u001b[1;37m    ^\u001b[0m\n\u001b[1;31mIndentationError\u001b[0m\u001b[1;31m:\u001b[0m unexpected indent\n"
     ]
    }
   ],
   "source": [
    "#for m in model:\n",
    "    m.fit(x_train,y_train)\n",
    "    print('mean_absolute_error of ',m ,'model', mean_absolute_error(y_test,m.predict(x_test)))\n",
    "    print('mean_square_error of',m,'model' , np.sqrt(mean_squared_error(y_test,m.predict(x_test))))\n",
    "    print('R2 Score of',m,'model', r2_score(y_test,m.predict(x_test) )*100)\n",
    "    print('X' * 50, '\\n\\n')"
   ]
  },
  {
   "cell_type": "markdown",
   "id": "b126d3ca",
   "metadata": {},
   "source": [
    "## Random FOrest Regressor"
   ]
  },
  {
   "cell_type": "code",
   "execution_count": 335,
   "id": "115a8224",
   "metadata": {},
   "outputs": [
    {
     "data": {
      "text/plain": [
       "RandomForestRegressor()"
      ]
     },
     "execution_count": 335,
     "metadata": {},
     "output_type": "execute_result"
    }
   ],
   "source": [
    "from sklearn.ensemble import RandomForestRegressor\n",
    "rgf_rf=RandomForestRegressor()\n",
    "rgf_rf.fit(x_train,y_train)"
   ]
  },
  {
   "cell_type": "code",
   "execution_count": 336,
   "id": "64e92924",
   "metadata": {},
   "outputs": [],
   "source": [
    "y_pred=rgf_rf.predict(x_test)"
   ]
  },
  {
   "cell_type": "code",
   "execution_count": 339,
   "id": "d55ae0b7",
   "metadata": {},
   "outputs": [
    {
     "data": {
      "text/plain": [
       "0.9410740092350391"
      ]
     },
     "execution_count": 339,
     "metadata": {},
     "output_type": "execute_result"
    }
   ],
   "source": [
    "rgf_rf.score(x_train,y_train)"
   ]
  },
  {
   "cell_type": "code",
   "execution_count": 340,
   "id": "df007265",
   "metadata": {},
   "outputs": [
    {
     "data": {
      "text/plain": [
       "0.6254452994331086"
      ]
     },
     "execution_count": 340,
     "metadata": {},
     "output_type": "execute_result"
    }
   ],
   "source": [
    "rgf_rf.score(x_test,y_test)"
   ]
  },
  {
   "cell_type": "code",
   "execution_count": 341,
   "id": "180bc917",
   "metadata": {},
   "outputs": [
    {
     "data": {
      "text/plain": [
       "<AxesSubplot:xlabel='Price', ylabel='Density'>"
      ]
     },
     "execution_count": 341,
     "metadata": {},
     "output_type": "execute_result"
    },
    {
     "data": {
      "image/png": "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\n",
      "text/plain": [
       "<Figure size 432x288 with 1 Axes>"
      ]
     },
     "metadata": {
      "needs_background": "light"
     },
     "output_type": "display_data"
    }
   ],
   "source": [
    "sns.distplot(y_test-y_pred)"
   ]
  },
  {
   "cell_type": "code",
   "execution_count": 342,
   "id": "b38934a7",
   "metadata": {},
   "outputs": [
    {
     "data": {
      "image/png": "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\n",
      "text/plain": [
       "<Figure size 432x288 with 1 Axes>"
      ]
     },
     "metadata": {
      "needs_background": "light"
     },
     "output_type": "display_data"
    }
   ],
   "source": [
    "plt.scatter(y_test,y_pred,alpha=0.5)\n",
    "plt.xlabel(\"y_test\")\n",
    "plt.ylabel(\"y_pred\")\n",
    "plt.show()"
   ]
  },
  {
   "cell_type": "code",
   "execution_count": 343,
   "id": "36eb3c4e",
   "metadata": {},
   "outputs": [
    {
     "data": {
      "text/plain": [
       "1460.5050940987269"
      ]
     },
     "execution_count": 343,
     "metadata": {},
     "output_type": "execute_result"
    }
   ],
   "source": [
    "mean_absolute_error(y_test,y_pred)"
   ]
  },
  {
   "cell_type": "code",
   "execution_count": 344,
   "id": "eb178848",
   "metadata": {},
   "outputs": [
    {
     "data": {
      "text/plain": [
       "2603.782415213395"
      ]
     },
     "execution_count": 344,
     "metadata": {},
     "output_type": "execute_result"
    }
   ],
   "source": [
    "np.sqrt(mean_squared_error(y_test,y_pred))"
   ]
  },
  {
   "cell_type": "code",
   "execution_count": 345,
   "id": "c5b1ce80",
   "metadata": {},
   "outputs": [
    {
     "data": {
      "text/plain": [
       "0.6254452994331086"
      ]
     },
     "execution_count": 345,
     "metadata": {},
     "output_type": "execute_result"
    }
   ],
   "source": [
    "r2_score(y_test,y_pred)"
   ]
  },
  {
   "cell_type": "markdown",
   "id": "ef2e54ce",
   "metadata": {},
   "source": [
    "### Hypertuning"
   ]
  },
  {
   "cell_type": "code",
   "execution_count": 346,
   "id": "5a964951",
   "metadata": {},
   "outputs": [],
   "source": [
    "# Randomised search cv\n",
    "n_estimators=[int(x) for x in np.linspace(start=100,stop=1200,num=12)]\n",
    "max_features=[\"auto\",\"sqrt\"]\n",
    "max_depth=[int(x) for x in np.linspace(5,30,num=6)]\n",
    "min_samples_split=[2,5,10,15,100]\n",
    "min_samples_leaf=[1,2,5,10]"
   ]
  },
  {
   "cell_type": "code",
   "execution_count": 347,
   "id": "90d404e5",
   "metadata": {},
   "outputs": [],
   "source": [
    "# create the random grid\n",
    "random_grid={\n",
    "    \"n_estimators\":n_estimators,\n",
    "     \"max_features\":max_features,\n",
    "     \"max_depth\":max_depth,\n",
    "    \"min_samples_split\":min_samples_split,\n",
    "    \"min_samples_leaf\":min_samples_leaf\n",
    "}"
   ]
  },
  {
   "cell_type": "code",
   "execution_count": 348,
   "id": "abefe808",
   "metadata": {},
   "outputs": [],
   "source": [
    "from sklearn.model_selection import cross_val_score,RandomizedSearchCV,GridSearchCV\n",
    "from sklearn.model_selection import train_test_split"
   ]
  },
  {
   "cell_type": "code",
   "execution_count": 350,
   "id": "f15dc9e8",
   "metadata": {},
   "outputs": [
    {
     "data": {
      "text/plain": [
       "array([0.0389814 , 0.42673871, 0.33035528, 0.10180137, 0.36942732])"
      ]
     },
     "execution_count": 350,
     "metadata": {},
     "output_type": "execute_result"
    }
   ],
   "source": [
    "cross_val_score(rgf_rf,X,Y)"
   ]
  },
  {
   "cell_type": "code",
   "execution_count": 352,
   "id": "072486af",
   "metadata": {},
   "outputs": [],
   "source": [
    "# Random search of parameters,using 5 fold cross validation\n",
    "# search across 100 different combinations\n",
    "rf_random=RandomizedSearchCV(estimator=rgf_rf,param_distributions=random_grid,scoring=\"neg_mean_squared_error\",n_iter=10,cv=5,verbose=2,random_state=42,n_jobs=1)"
   ]
  },
  {
   "cell_type": "code",
   "execution_count": 353,
   "id": "f4a7b771",
   "metadata": {},
   "outputs": [
    {
     "name": "stdout",
     "output_type": "stream",
     "text": [
      "Fitting 5 folds for each of 10 candidates, totalling 50 fits\n",
      "[CV] END max_depth=10, max_features=sqrt, min_samples_leaf=5, min_samples_split=5, n_estimators=900; total time=   2.6s\n",
      "[CV] END max_depth=10, max_features=sqrt, min_samples_leaf=5, min_samples_split=5, n_estimators=900; total time=   2.5s\n",
      "[CV] END max_depth=10, max_features=sqrt, min_samples_leaf=5, min_samples_split=5, n_estimators=900; total time=   2.2s\n",
      "[CV] END max_depth=10, max_features=sqrt, min_samples_leaf=5, min_samples_split=5, n_estimators=900; total time=   2.2s\n",
      "[CV] END max_depth=10, max_features=sqrt, min_samples_leaf=5, min_samples_split=5, n_estimators=900; total time=   2.2s\n",
      "[CV] END max_depth=15, max_features=sqrt, min_samples_leaf=2, min_samples_split=10, n_estimators=1100; total time=   3.2s\n",
      "[CV] END max_depth=15, max_features=sqrt, min_samples_leaf=2, min_samples_split=10, n_estimators=1100; total time=   3.2s\n",
      "[CV] END max_depth=15, max_features=sqrt, min_samples_leaf=2, min_samples_split=10, n_estimators=1100; total time=   3.2s\n",
      "[CV] END max_depth=15, max_features=sqrt, min_samples_leaf=2, min_samples_split=10, n_estimators=1100; total time=   3.1s\n",
      "[CV] END max_depth=15, max_features=sqrt, min_samples_leaf=2, min_samples_split=10, n_estimators=1100; total time=   3.2s\n",
      "[CV] END max_depth=15, max_features=auto, min_samples_leaf=5, min_samples_split=100, n_estimators=300; total time=   1.3s\n",
      "[CV] END max_depth=15, max_features=auto, min_samples_leaf=5, min_samples_split=100, n_estimators=300; total time=   1.3s\n",
      "[CV] END max_depth=15, max_features=auto, min_samples_leaf=5, min_samples_split=100, n_estimators=300; total time=   1.3s\n",
      "[CV] END max_depth=15, max_features=auto, min_samples_leaf=5, min_samples_split=100, n_estimators=300; total time=   1.3s\n",
      "[CV] END max_depth=15, max_features=auto, min_samples_leaf=5, min_samples_split=100, n_estimators=300; total time=   1.3s\n",
      "[CV] END max_depth=15, max_features=auto, min_samples_leaf=5, min_samples_split=5, n_estimators=400; total time=   2.4s\n",
      "[CV] END max_depth=15, max_features=auto, min_samples_leaf=5, min_samples_split=5, n_estimators=400; total time=   2.5s\n",
      "[CV] END max_depth=15, max_features=auto, min_samples_leaf=5, min_samples_split=5, n_estimators=400; total time=   2.5s\n",
      "[CV] END max_depth=15, max_features=auto, min_samples_leaf=5, min_samples_split=5, n_estimators=400; total time=   2.4s\n",
      "[CV] END max_depth=15, max_features=auto, min_samples_leaf=5, min_samples_split=5, n_estimators=400; total time=   2.5s\n",
      "[CV] END max_depth=20, max_features=auto, min_samples_leaf=10, min_samples_split=5, n_estimators=700; total time=   3.8s\n",
      "[CV] END max_depth=20, max_features=auto, min_samples_leaf=10, min_samples_split=5, n_estimators=700; total time=   3.8s\n",
      "[CV] END max_depth=20, max_features=auto, min_samples_leaf=10, min_samples_split=5, n_estimators=700; total time=   3.8s\n",
      "[CV] END max_depth=20, max_features=auto, min_samples_leaf=10, min_samples_split=5, n_estimators=700; total time=   3.8s\n",
      "[CV] END max_depth=20, max_features=auto, min_samples_leaf=10, min_samples_split=5, n_estimators=700; total time=   4.0s\n",
      "[CV] END max_depth=25, max_features=sqrt, min_samples_leaf=1, min_samples_split=2, n_estimators=1000; total time=   5.9s\n",
      "[CV] END max_depth=25, max_features=sqrt, min_samples_leaf=1, min_samples_split=2, n_estimators=1000; total time=   4.8s\n",
      "[CV] END max_depth=25, max_features=sqrt, min_samples_leaf=1, min_samples_split=2, n_estimators=1000; total time=   5.0s\n",
      "[CV] END max_depth=25, max_features=sqrt, min_samples_leaf=1, min_samples_split=2, n_estimators=1000; total time=   5.4s\n",
      "[CV] END max_depth=25, max_features=sqrt, min_samples_leaf=1, min_samples_split=2, n_estimators=1000; total time=   6.1s\n",
      "[CV] END max_depth=5, max_features=sqrt, min_samples_leaf=10, min_samples_split=15, n_estimators=1100; total time=   2.4s\n",
      "[CV] END max_depth=5, max_features=sqrt, min_samples_leaf=10, min_samples_split=15, n_estimators=1100; total time=   2.2s\n",
      "[CV] END max_depth=5, max_features=sqrt, min_samples_leaf=10, min_samples_split=15, n_estimators=1100; total time=   2.6s\n",
      "[CV] END max_depth=5, max_features=sqrt, min_samples_leaf=10, min_samples_split=15, n_estimators=1100; total time=   2.4s\n",
      "[CV] END max_depth=5, max_features=sqrt, min_samples_leaf=10, min_samples_split=15, n_estimators=1100; total time=   2.7s\n",
      "[CV] END max_depth=15, max_features=sqrt, min_samples_leaf=1, min_samples_split=15, n_estimators=300; total time=   0.8s\n",
      "[CV] END max_depth=15, max_features=sqrt, min_samples_leaf=1, min_samples_split=15, n_estimators=300; total time=   0.8s\n",
      "[CV] END max_depth=15, max_features=sqrt, min_samples_leaf=1, min_samples_split=15, n_estimators=300; total time=   0.8s\n",
      "[CV] END max_depth=15, max_features=sqrt, min_samples_leaf=1, min_samples_split=15, n_estimators=300; total time=   0.8s\n",
      "[CV] END max_depth=15, max_features=sqrt, min_samples_leaf=1, min_samples_split=15, n_estimators=300; total time=   1.0s\n",
      "[CV] END max_depth=5, max_features=sqrt, min_samples_leaf=2, min_samples_split=10, n_estimators=700; total time=   1.3s\n",
      "[CV] END max_depth=5, max_features=sqrt, min_samples_leaf=2, min_samples_split=10, n_estimators=700; total time=   1.3s\n",
      "[CV] END max_depth=5, max_features=sqrt, min_samples_leaf=2, min_samples_split=10, n_estimators=700; total time=   1.3s\n",
      "[CV] END max_depth=5, max_features=sqrt, min_samples_leaf=2, min_samples_split=10, n_estimators=700; total time=   1.3s\n",
      "[CV] END max_depth=5, max_features=sqrt, min_samples_leaf=2, min_samples_split=10, n_estimators=700; total time=   1.3s\n",
      "[CV] END max_depth=20, max_features=auto, min_samples_leaf=1, min_samples_split=15, n_estimators=700; total time=   4.6s\n",
      "[CV] END max_depth=20, max_features=auto, min_samples_leaf=1, min_samples_split=15, n_estimators=700; total time=   4.9s\n",
      "[CV] END max_depth=20, max_features=auto, min_samples_leaf=1, min_samples_split=15, n_estimators=700; total time=   4.5s\n",
      "[CV] END max_depth=20, max_features=auto, min_samples_leaf=1, min_samples_split=15, n_estimators=700; total time=   4.6s\n",
      "[CV] END max_depth=20, max_features=auto, min_samples_leaf=1, min_samples_split=15, n_estimators=700; total time=   4.5s\n"
     ]
    },
    {
     "data": {
      "text/plain": [
       "RandomizedSearchCV(cv=5, estimator=RandomForestRegressor(), n_jobs=1,\n",
       "                   param_distributions={'max_depth': [5, 10, 15, 20, 25, 30],\n",
       "                                        'max_features': ['auto', 'sqrt'],\n",
       "                                        'min_samples_leaf': [1, 2, 5, 10],\n",
       "                                        'min_samples_split': [2, 5, 10, 15,\n",
       "                                                              100],\n",
       "                                        'n_estimators': [100, 200, 300, 400,\n",
       "                                                         500, 600, 700, 800,\n",
       "                                                         900, 1000, 1100,\n",
       "                                                         1200]},\n",
       "                   random_state=42, scoring='neg_mean_squared_error',\n",
       "                   verbose=2)"
      ]
     },
     "execution_count": 353,
     "metadata": {},
     "output_type": "execute_result"
    }
   ],
   "source": [
    "rf_random.fit(x_train,y_train)"
   ]
  },
  {
   "cell_type": "code",
   "execution_count": 354,
   "id": "c1616463",
   "metadata": {},
   "outputs": [
    {
     "data": {
      "text/plain": [
       "RandomForestRegressor(max_depth=25, max_features='sqrt', n_estimators=1000)"
      ]
     },
     "execution_count": 354,
     "metadata": {},
     "output_type": "execute_result"
    }
   ],
   "source": [
    "rf_random.best_estimator_"
   ]
  },
  {
   "cell_type": "code",
   "execution_count": 355,
   "id": "132511e1",
   "metadata": {},
   "outputs": [
    {
     "data": {
      "text/plain": [
       "{'n_estimators': 1000,\n",
       " 'min_samples_split': 2,\n",
       " 'min_samples_leaf': 1,\n",
       " 'max_features': 'sqrt',\n",
       " 'max_depth': 25}"
      ]
     },
     "execution_count": 355,
     "metadata": {},
     "output_type": "execute_result"
    }
   ],
   "source": [
    "rf_random.best_params_"
   ]
  },
  {
   "cell_type": "code",
   "execution_count": 356,
   "id": "89abc532",
   "metadata": {},
   "outputs": [],
   "source": [
    "prediction=rf_random.predict(x_test)"
   ]
  },
  {
   "cell_type": "code",
   "execution_count": 357,
   "id": "e349c582",
   "metadata": {},
   "outputs": [
    {
     "data": {
      "text/plain": [
       "0.6160501564657015"
      ]
     },
     "execution_count": 357,
     "metadata": {},
     "output_type": "execute_result"
    }
   ],
   "source": [
    "r2_score(y_test,prediction)"
   ]
  },
  {
   "cell_type": "code",
   "execution_count": 358,
   "id": "a89fff1b",
   "metadata": {},
   "outputs": [
    {
     "data": {
      "image/png": "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\n",
      "text/plain": [
       "<Figure size 288x288 with 1 Axes>"
      ]
     },
     "metadata": {
      "needs_background": "light"
     },
     "output_type": "display_data"
    }
   ],
   "source": [
    "plt.figure(figsize=(4,4))\n",
    "sns.distplot(y_test-prediction)\n",
    "plt.show()"
   ]
  },
  {
   "cell_type": "code",
   "execution_count": 359,
   "id": "eb64da05",
   "metadata": {},
   "outputs": [
    {
     "data": {
      "text/plain": [
       "1480.5140891533786"
      ]
     },
     "execution_count": 359,
     "metadata": {},
     "output_type": "execute_result"
    }
   ],
   "source": [
    "mean_absolute_error(y_test,prediction)"
   ]
  },
  {
   "cell_type": "markdown",
   "id": "592cad82",
   "metadata": {},
   "source": [
    "## Save the Model"
   ]
  },
  {
   "cell_type": "code",
   "execution_count": 360,
   "id": "1c9a0c30",
   "metadata": {},
   "outputs": [
    {
     "data": {
      "text/plain": [
       "['flight_price_Prediction.pkl']"
      ]
     },
     "execution_count": 360,
     "metadata": {},
     "output_type": "execute_result"
    }
   ],
   "source": [
    "import joblib\n",
    "joblib.dump(rf_random.best_estimator_,\"flight_price_Prediction.pkl\")"
   ]
  },
  {
   "cell_type": "code",
   "execution_count": null,
   "id": "b7db9edc",
   "metadata": {},
   "outputs": [],
   "source": []
  }
 ],
 "metadata": {
  "kernelspec": {
   "display_name": "Python 3 (ipykernel)",
   "language": "python",
   "name": "python3"
  },
  "language_info": {
   "codemirror_mode": {
    "name": "ipython",
    "version": 3
   },
   "file_extension": ".py",
   "mimetype": "text/x-python",
   "name": "python",
   "nbconvert_exporter": "python",
   "pygments_lexer": "ipython3",
   "version": "3.9.12"
  }
 },
 "nbformat": 4,
 "nbformat_minor": 5
}
