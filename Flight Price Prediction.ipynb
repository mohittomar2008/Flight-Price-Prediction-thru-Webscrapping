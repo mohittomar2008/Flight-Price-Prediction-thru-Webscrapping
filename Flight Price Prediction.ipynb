{
 "cells": [
  {
   "cell_type": "raw",
   "id": "a9b56f20",
   "metadata": {},
   "source": [
    "We have scrapped the flight data from many popular websites between major cities for many days\n",
    "Del-Mum\n",
    "Mum-Del\n",
    "Del-Banglore\n",
    "Banglore-Delhi\n",
    "Del-Goa\n",
    "Goa-Del\n",
    "Banglore-Kolkata\n",
    "Kolkata-Banglore\n"
   ]
  },
  {
   "cell_type": "code",
   "execution_count": 1,
   "id": "f0bc4cf5",
   "metadata": {},
   "outputs": [],
   "source": [
    "# Import required libraries\n",
    "\n",
    "import pandas as pd\n",
    "import numpy as np\n",
    "import seaborn as sns\n",
    "import matplotlib.pyplot as plt\n",
    "%matplotlib inline\n",
    "\n",
    "import warnings\n",
    "warnings.filterwarnings('ignore')\n"
   ]
  },
  {
   "cell_type": "code",
   "execution_count": 28,
   "id": "3c24e5ad",
   "metadata": {},
   "outputs": [],
   "source": [
    "# Load dataset\n",
    "df=pd.read_csv('flight.csv', index_col=[0], parse_dates=['Booking_date','Journey_date'])"
   ]
  },
  {
   "cell_type": "code",
   "execution_count": 29,
   "id": "17d7d4b2",
   "metadata": {},
   "outputs": [
    {
     "data": {
      "text/html": [
       "<div>\n",
       "<style scoped>\n",
       "    .dataframe tbody tr th:only-of-type {\n",
       "        vertical-align: middle;\n",
       "    }\n",
       "\n",
       "    .dataframe tbody tr th {\n",
       "        vertical-align: top;\n",
       "    }\n",
       "\n",
       "    .dataframe thead th {\n",
       "        text-align: right;\n",
       "    }\n",
       "</style>\n",
       "<table border=\"1\" class=\"dataframe\">\n",
       "  <thead>\n",
       "    <tr style=\"text-align: right;\">\n",
       "      <th></th>\n",
       "      <th>From</th>\n",
       "      <th>To</th>\n",
       "      <th>Booking_date</th>\n",
       "      <th>Journey_date</th>\n",
       "      <th>Airline</th>\n",
       "      <th>Code</th>\n",
       "      <th>Departure</th>\n",
       "      <th>Arrival</th>\n",
       "      <th>Duration</th>\n",
       "      <th>Stops</th>\n",
       "      <th>Price</th>\n",
       "    </tr>\n",
       "  </thead>\n",
       "  <tbody>\n",
       "    <tr>\n",
       "      <th>2527</th>\n",
       "      <td>Delhi</td>\n",
       "      <td>Goa</td>\n",
       "      <td>2022-06-24</td>\n",
       "      <td>2022-06-28</td>\n",
       "      <td>Indigo</td>\n",
       "      <td>6E- 184</td>\n",
       "      <td>09:50</td>\n",
       "      <td>14:45</td>\n",
       "      <td>04h 55m</td>\n",
       "      <td>1-stop</td>\n",
       "      <td>9,734</td>\n",
       "    </tr>\n",
       "    <tr>\n",
       "      <th>5269</th>\n",
       "      <td>Mumbai</td>\n",
       "      <td>Delhi</td>\n",
       "      <td>2022-06-24</td>\n",
       "      <td>2022-06-27</td>\n",
       "      <td>Indigo</td>\n",
       "      <td>6E-5293</td>\n",
       "      <td>00:35</td>\n",
       "      <td>07:30</td>\n",
       "      <td>06h 55m</td>\n",
       "      <td>1-stop</td>\n",
       "      <td>8,883</td>\n",
       "    </tr>\n",
       "    <tr>\n",
       "      <th>6050</th>\n",
       "      <td>Kolkata</td>\n",
       "      <td>Bangalore</td>\n",
       "      <td>2022-06-24</td>\n",
       "      <td>2022-06-25</td>\n",
       "      <td>AirAsia</td>\n",
       "      <td>I5-319</td>\n",
       "      <td>13:15</td>\n",
       "      <td>01:20</td>\n",
       "      <td>12h 05m</td>\n",
       "      <td>1-stop</td>\n",
       "      <td>11,426</td>\n",
       "    </tr>\n",
       "    <tr>\n",
       "      <th>807</th>\n",
       "      <td>Delhi</td>\n",
       "      <td>Bangalore</td>\n",
       "      <td>2022-06-23</td>\n",
       "      <td>2022-06-29</td>\n",
       "      <td>Vistara</td>\n",
       "      <td>UK-871</td>\n",
       "      <td>20:35</td>\n",
       "      <td>08:45\\n+1D</td>\n",
       "      <td>12h 10m</td>\n",
       "      <td>1 stop</td>\n",
       "      <td>₹14,140</td>\n",
       "    </tr>\n",
       "    <tr>\n",
       "      <th>3479</th>\n",
       "      <td>Goa</td>\n",
       "      <td>Delhi</td>\n",
       "      <td>2022-06-24</td>\n",
       "      <td>2022-06-29</td>\n",
       "      <td>Indigo</td>\n",
       "      <td>6E-6386</td>\n",
       "      <td>18:40</td>\n",
       "      <td>01:40</td>\n",
       "      <td>07h 00m</td>\n",
       "      <td>1-stop</td>\n",
       "      <td>9,936</td>\n",
       "    </tr>\n",
       "  </tbody>\n",
       "</table>\n",
       "</div>"
      ],
      "text/plain": [
       "         From         To Booking_date Journey_date  Airline     Code  \\\n",
       "2527    Delhi        Goa   2022-06-24   2022-06-28   Indigo  6E- 184   \n",
       "5269   Mumbai      Delhi   2022-06-24   2022-06-27   Indigo  6E-5293   \n",
       "6050  Kolkata  Bangalore   2022-06-24   2022-06-25  AirAsia   I5-319   \n",
       "807     Delhi  Bangalore   2022-06-23   2022-06-29  Vistara   UK-871   \n",
       "3479      Goa      Delhi   2022-06-24   2022-06-29   Indigo  6E-6386   \n",
       "\n",
       "     Departure     Arrival Duration   Stops    Price  \n",
       "2527     09:50       14:45  04h 55m  1-stop    9,734  \n",
       "5269     00:35       07:30  06h 55m  1-stop    8,883  \n",
       "6050     13:15       01:20  12h 05m  1-stop   11,426  \n",
       "807      20:35  08:45\\n+1D  12h 10m  1 stop  ₹14,140  \n",
       "3479     18:40       01:40  07h 00m  1-stop    9,936  "
      ]
     },
     "execution_count": 29,
     "metadata": {},
     "output_type": "execute_result"
    }
   ],
   "source": [
    "# Dataset random sample\n",
    "df.sample(5)"
   ]
  },
  {
   "cell_type": "code",
   "execution_count": 30,
   "id": "cb42ec26",
   "metadata": {},
   "outputs": [
    {
     "data": {
      "text/plain": [
       "(7548, 11)"
      ]
     },
     "execution_count": 30,
     "metadata": {},
     "output_type": "execute_result"
    }
   ],
   "source": [
    "df.shape"
   ]
  },
  {
   "cell_type": "code",
   "execution_count": 32,
   "id": "2c299d89",
   "metadata": {},
   "outputs": [
    {
     "data": {
      "text/plain": [
       "From               0\n",
       "To                 0\n",
       "Booking_date       0\n",
       "Journey_date       0\n",
       "Airline            0\n",
       "Code               0\n",
       "Departure          0\n",
       "Arrival            0\n",
       "Duration           0\n",
       "Stops              0\n",
       "Price           1486\n",
       "dtype: int64"
      ]
     },
     "execution_count": 32,
     "metadata": {},
     "output_type": "execute_result"
    }
   ],
   "source": [
    "df.isnull().sum() # target feature have some Null values, so better to ignore those records"
   ]
  },
  {
   "cell_type": "code",
   "execution_count": 33,
   "id": "ef5a5b0e",
   "metadata": {},
   "outputs": [],
   "source": [
    "df.dropna(inplace=True)"
   ]
  },
  {
   "cell_type": "code",
   "execution_count": 34,
   "id": "a1f2c644",
   "metadata": {},
   "outputs": [
    {
     "data": {
      "text/plain": [
       "(6062, 11)"
      ]
     },
     "execution_count": 34,
     "metadata": {},
     "output_type": "execute_result"
    }
   ],
   "source": [
    "df.shape\n"
   ]
  },
  {
   "cell_type": "markdown",
   "id": "1db36aed",
   "metadata": {},
   "source": [
    "# Feature Preprocessing on features"
   ]
  },
  {
   "cell_type": "code",
   "execution_count": 35,
   "id": "5a589d5f",
   "metadata": {},
   "outputs": [
    {
     "name": "stdout",
     "output_type": "stream",
     "text": [
      "<class 'pandas.core.frame.DataFrame'>\n",
      "Int64Index: 6062 entries, 0 to 7547\n",
      "Data columns (total 11 columns):\n",
      " #   Column        Non-Null Count  Dtype         \n",
      "---  ------        --------------  -----         \n",
      " 0   From          6062 non-null   object        \n",
      " 1   To            6062 non-null   object        \n",
      " 2   Booking_date  6062 non-null   datetime64[ns]\n",
      " 3   Journey_date  6062 non-null   datetime64[ns]\n",
      " 4   Airline       6062 non-null   object        \n",
      " 5   Code          6062 non-null   object        \n",
      " 6   Departure     6062 non-null   object        \n",
      " 7   Arrival       6062 non-null   object        \n",
      " 8   Duration      6062 non-null   object        \n",
      " 9   Stops         6062 non-null   object        \n",
      " 10  Price         6062 non-null   object        \n",
      "dtypes: datetime64[ns](2), object(9)\n",
      "memory usage: 568.3+ KB\n"
     ]
    }
   ],
   "source": [
    "df.info()"
   ]
  },
  {
   "cell_type": "code",
   "execution_count": 36,
   "id": "0a800962",
   "metadata": {},
   "outputs": [
    {
     "data": {
      "text/html": [
       "<div>\n",
       "<style scoped>\n",
       "    .dataframe tbody tr th:only-of-type {\n",
       "        vertical-align: middle;\n",
       "    }\n",
       "\n",
       "    .dataframe tbody tr th {\n",
       "        vertical-align: top;\n",
       "    }\n",
       "\n",
       "    .dataframe thead th {\n",
       "        text-align: right;\n",
       "    }\n",
       "</style>\n",
       "<table border=\"1\" class=\"dataframe\">\n",
       "  <thead>\n",
       "    <tr style=\"text-align: right;\">\n",
       "      <th></th>\n",
       "      <th>From</th>\n",
       "      <th>To</th>\n",
       "      <th>Booking_date</th>\n",
       "      <th>Journey_date</th>\n",
       "      <th>Airline</th>\n",
       "      <th>Code</th>\n",
       "      <th>Departure</th>\n",
       "      <th>Arrival</th>\n",
       "      <th>Duration</th>\n",
       "      <th>Stops</th>\n",
       "      <th>Price</th>\n",
       "    </tr>\n",
       "  </thead>\n",
       "  <tbody>\n",
       "    <tr>\n",
       "      <th>0</th>\n",
       "      <td>Delhi</td>\n",
       "      <td>Bangalore</td>\n",
       "      <td>2022-06-23</td>\n",
       "      <td>2022-06-23</td>\n",
       "      <td>Air India</td>\n",
       "      <td>AI-504</td>\n",
       "      <td>21:15</td>\n",
       "      <td>00:05\\n+1D</td>\n",
       "      <td>2h 50m</td>\n",
       "      <td>non-stop</td>\n",
       "      <td>₹9,420</td>\n",
       "    </tr>\n",
       "    <tr>\n",
       "      <th>1</th>\n",
       "      <td>Delhi</td>\n",
       "      <td>Bangalore</td>\n",
       "      <td>2022-06-23</td>\n",
       "      <td>2022-06-23</td>\n",
       "      <td>IndiGo</td>\n",
       "      <td>6E-2131</td>\n",
       "      <td>21:30</td>\n",
       "      <td>00:15\\n+1D</td>\n",
       "      <td>2h 45m</td>\n",
       "      <td>non-stop</td>\n",
       "      <td>₹9,419</td>\n",
       "    </tr>\n",
       "  </tbody>\n",
       "</table>\n",
       "</div>"
      ],
      "text/plain": [
       "    From         To Booking_date Journey_date    Airline     Code Departure  \\\n",
       "0  Delhi  Bangalore   2022-06-23   2022-06-23  Air India   AI-504     21:15   \n",
       "1  Delhi  Bangalore   2022-06-23   2022-06-23     IndiGo  6E-2131     21:30   \n",
       "\n",
       "      Arrival Duration     Stops   Price  \n",
       "0  00:05\\n+1D   2h 50m  non-stop  ₹9,420  \n",
       "1  00:15\\n+1D   2h 45m  non-stop  ₹9,419  "
      ]
     },
     "execution_count": 36,
     "metadata": {},
     "output_type": "execute_result"
    }
   ],
   "source": [
    "df.head(2)"
   ]
  },
  {
   "cell_type": "code",
   "execution_count": null,
   "id": "7e270a3d",
   "metadata": {},
   "outputs": [],
   "source": []
  }
 ],
 "metadata": {
  "kernelspec": {
   "display_name": "Python 3 (ipykernel)",
   "language": "python",
   "name": "python3"
  },
  "language_info": {
   "codemirror_mode": {
    "name": "ipython",
    "version": 3
   },
   "file_extension": ".py",
   "mimetype": "text/x-python",
   "name": "python",
   "nbconvert_exporter": "python",
   "pygments_lexer": "ipython3",
   "version": "3.9.12"
  }
 },
 "nbformat": 4,
 "nbformat_minor": 5
}
