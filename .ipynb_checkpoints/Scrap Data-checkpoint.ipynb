{
 "cells": [
  {
   "cell_type": "code",
   "execution_count": 51,
   "id": "398a2cfd",
   "metadata": {},
   "outputs": [],
   "source": [
    "# import libraraies\n",
    "\n",
    "import selenium\n",
    "from selenium import webdriver\n",
    "import pandas as pd\n",
    "\n",
    "# Importing required Exceptions which needs to handled\n",
    "from selenium.common.exceptions import StaleElementReferenceException, NoSuchElementException\n",
    "\n",
    "#Importing requests\n",
    "import requests\n",
    "\n",
    "import numpy as np\n",
    "import pandas as pd\n",
    "\n",
    "# importing regex\n",
    "import re\n",
    "\n",
    "import warnings\n",
    "warnings.filterwarnings('ignore')\n",
    "import time"
   ]
  },
  {
   "cell_type": "code",
   "execution_count": 123,
   "id": "a4169943",
   "metadata": {},
   "outputs": [],
   "source": [
    "# lets connect to driver\n",
    "\n",
    "driver= webdriver.Chrome(r'C:\\working\\chromedriver.exe')\n",
    "driver.maximize_window()\n",
    "\n",
    "url='https://flight.yatra.com/air-search-ui/dom2/trigger?type=O&viewName=normal&flexi=0&noOfSegments=1&origin=DEL&originCountry=IN&destination=BOM&destinationCountry=IN&flight_depart_date=23%2F06%2F2022&ADT=1&CHD=0&INF=0&class=Economy&source=fresco-home&unqvaldesktop=1391813285025'\n",
    "driver.get(url)"
   ]
  },
  {
   "cell_type": "code",
   "execution_count": 3,
   "id": "d4d99c72",
   "metadata": {},
   "outputs": [],
   "source": [
    "airline=[]\n",
    "code=[]\n",
    "dep_time=[]\n",
    "title= driver.find_elements_by_xpath('//div[@class=\"fs-13 airline-name no-pad col-8\"]/span')\n",
    "for i in title:\n",
    "    airline.append(i.text)\n",
    "\n",
    "title= driver.find_elements_by_xpath('//div[@class=\"fs-13 airline-name no-pad col-8\"]/p')\n",
    "for i in title:\n",
    "    code.append(i.text)\n",
    "    \n",
    "title= driver.find_elements_by_xpath('//div[@class=\"i-b pr\"]')\n",
    "for i in title:\n",
    "    dep_time.append(i.text)\n"
   ]
  },
  {
   "cell_type": "code",
   "execution_count": 4,
   "id": "23036ce4",
   "metadata": {},
   "outputs": [
    {
     "data": {
      "text/plain": [
       "(25, 25, 25)"
      ]
     },
     "execution_count": 4,
     "metadata": {},
     "output_type": "execute_result"
    }
   ],
   "source": [
    "len(airline) , len(code) , len(dep_time)"
   ]
  },
  {
   "cell_type": "code",
   "execution_count": 124,
   "id": "caa1a078",
   "metadata": {},
   "outputs": [
    {
     "data": {
      "text/plain": [
       "[]"
      ]
     },
     "execution_count": 124,
     "metadata": {},
     "output_type": "execute_result"
    }
   ],
   "source": [
    "temp= driver.find_elements_by_xpath('//div[class=\"i-b tipsy fare-summary-tooltip fs-18\"]')\n",
    "temp"
   ]
  },
  {
   "cell_type": "code",
   "execution_count": null,
   "id": "c7695148",
   "metadata": {},
   "outputs": [],
   "source": []
  },
  {
   "cell_type": "code",
   "execution_count": null,
   "id": "e6a27f2a",
   "metadata": {},
   "outputs": [],
   "source": []
  },
  {
   "cell_type": "code",
   "execution_count": null,
   "id": "d5397514",
   "metadata": {},
   "outputs": [],
   "source": []
  },
  {
   "cell_type": "code",
   "execution_count": null,
   "id": "7c920f48",
   "metadata": {},
   "outputs": [],
   "source": []
  },
  {
   "cell_type": "code",
   "execution_count": null,
   "id": "b1b757e2",
   "metadata": {},
   "outputs": [],
   "source": []
  },
  {
   "cell_type": "code",
   "execution_count": null,
   "id": "bbc45863",
   "metadata": {},
   "outputs": [],
   "source": []
  },
  {
   "cell_type": "code",
   "execution_count": null,
   "id": "2c6aba64",
   "metadata": {},
   "outputs": [],
   "source": []
  },
  {
   "cell_type": "markdown",
   "id": "0527a5a5",
   "metadata": {},
   "source": [
    "# Clear Trip"
   ]
  },
  {
   "cell_type": "code",
   "execution_count": 149,
   "id": "5cafc5c2",
   "metadata": {},
   "outputs": [],
   "source": [
    "# lets connect to driver\n",
    "\n",
    "driver= webdriver.Chrome(r'C:\\working\\chromedriver.exe')\n",
    "driver.maximize_window()\n",
    "\n",
    "url='https://www.cleartrip.com/flights'\n",
    "driver.get(url)"
   ]
  },
  {
   "cell_type": "code",
   "execution_count": null,
   "id": "c9d8e4a5",
   "metadata": {},
   "outputs": [],
   "source": []
  },
  {
   "cell_type": "code",
   "execution_count": 144,
   "id": "e509c740",
   "metadata": {},
   "outputs": [],
   "source": [
    "airline=[]\n",
    "code=[]\n",
    "dep_time=[]\n",
    "arrival=[]\n",
    "price=[]\n",
    "duration=[]\n",
    "stops=[]\n",
    "title= driver.find_elements_by_xpath('//p[@class=\"fw-500 fs-2 c-neutral-900\"]')\n",
    "for i in title:\n",
    "    airline.append(i.text)\n",
    "\n",
    "title= driver.find_elements_by_xpath('//p[@class=\"fs-1 c-neutral-400 pt-1\"]')\n",
    "for i in title:\n",
    "    code.append(i.text)\n",
    "    \n",
    "title= driver.find_elements_by_xpath('//p[@class=\"m-0 fs-5 fw-400 c-neutral-900\"]')\n",
    "for i in title:\n",
    "    dep_time.append(i.text)\n",
    "    \n",
    "title= driver.find_elements_by_xpath('//p[@class=\"m-0 fs-5 fw-400 c-neutral-900 ta-center p-relative\"]')\n",
    "for i in title:\n",
    "    arrival.append(i.text)\n",
    "    \n",
    "    \n",
    "title= driver.find_elements_by_xpath('//p[@class=\"m-0 fs-5 fw-700 c-neutral-900 false\"]')\n",
    "for i in title:\n",
    "    price.append(i.text)\n",
    "    \n",
    "title= driver.find_elements_by_xpath('//p[@class=\"m-0 fs-2 fw-400 c-neutral-400 ta-center lh-copy\"]')\n",
    "for i in title:\n",
    "    duration.append(i.text)\n",
    "title= driver.find_elements_by_xpath('//p[@class=\"m-0 fs-2 c-neutral-400 lh-copy\"]')\n",
    "for i in title:\n",
    "    stops.append(i.text)"
   ]
  },
  {
   "cell_type": "code",
   "execution_count": 145,
   "id": "491f9461",
   "metadata": {},
   "outputs": [
    {
     "data": {
      "text/plain": [
       "(155, 155, 155, 155, 155, 155, 155)"
      ]
     },
     "execution_count": 145,
     "metadata": {},
     "output_type": "execute_result"
    }
   ],
   "source": [
    "len(airline) , len(code) , len(dep_time) , len(arrival) , len(price) , len(duration) , len(stops)"
   ]
  },
  {
   "cell_type": "code",
   "execution_count": 146,
   "id": "90aaef11",
   "metadata": {},
   "outputs": [],
   "source": [
    "b7=pd.DataFrame({'From':'Delhi','To':'Bangalore','Booking_date':pd.to_datetime('2022-06-23'),'Journey_date':pd.to_datetime('2022-06-29'),'Airline':airline,'Code':code,'Departure':dep_time,'Arrival':arrival,'Duration':duration,'Stops':stops,'Price':price})"
   ]
  },
  {
   "cell_type": "code",
   "execution_count": 63,
   "id": "874cab8f",
   "metadata": {},
   "outputs": [
    {
     "data": {
      "text/plain": [
       "(135, 11)"
      ]
     },
     "execution_count": 63,
     "metadata": {},
     "output_type": "execute_result"
    }
   ],
   "source": []
  },
  {
   "cell_type": "code",
   "execution_count": 107,
   "id": "c47fda42",
   "metadata": {},
   "outputs": [
    {
     "data": {
      "text/plain": [
       "((42, 11), (14, 11))"
      ]
     },
     "execution_count": 107,
     "metadata": {},
     "output_type": "execute_result"
    }
   ],
   "source": [
    "t1.shape , b1.shape #23 ,"
   ]
  },
  {
   "cell_type": "code",
   "execution_count": 131,
   "id": "c2a80a4c",
   "metadata": {},
   "outputs": [
    {
     "data": {
      "text/plain": [
       "((135, 11), (135, 11))"
      ]
     },
     "execution_count": 131,
     "metadata": {},
     "output_type": "execute_result"
    }
   ],
   "source": [
    "t2.shape , b2.shape #24"
   ]
  },
  {
   "cell_type": "code",
   "execution_count": 135,
   "id": "71a81e58",
   "metadata": {},
   "outputs": [
    {
     "data": {
      "text/plain": [
       "((127, 11), (160, 11))"
      ]
     },
     "execution_count": 135,
     "metadata": {},
     "output_type": "execute_result"
    }
   ],
   "source": [
    "t3.shape  , b3.shape# 25"
   ]
  },
  {
   "cell_type": "code",
   "execution_count": 139,
   "id": "1b737898",
   "metadata": {},
   "outputs": [
    {
     "data": {
      "text/plain": [
       "((109, 11), (139, 11))"
      ]
     },
     "execution_count": 139,
     "metadata": {},
     "output_type": "execute_result"
    }
   ],
   "source": [
    "t4.shape, b4.shape #26"
   ]
  },
  {
   "cell_type": "code",
   "execution_count": 143,
   "id": "5e248889",
   "metadata": {},
   "outputs": [
    {
     "data": {
      "text/plain": [
       "((135, 11), (144, 11))"
      ]
     },
     "execution_count": 143,
     "metadata": {},
     "output_type": "execute_result"
    }
   ],
   "source": [
    "t5.shape  ,b5.shape  #27"
   ]
  },
  {
   "cell_type": "code",
   "execution_count": 147,
   "id": "49e4f7e1",
   "metadata": {},
   "outputs": [
    {
     "data": {
      "text/plain": [
       "((122, 11), (155, 11))"
      ]
     },
     "execution_count": 147,
     "metadata": {},
     "output_type": "execute_result"
    }
   ],
   "source": [
    "t6.shape , b6.shape  #28"
   ]
  },
  {
   "cell_type": "code",
   "execution_count": 93,
   "id": "64da0fa3",
   "metadata": {},
   "outputs": [
    {
     "data": {
      "text/plain": [
       "(133, 11)"
      ]
     },
     "execution_count": 93,
     "metadata": {},
     "output_type": "execute_result"
    }
   ],
   "source": [
    "t7.shape # 29"
   ]
  },
  {
   "cell_type": "code",
   "execution_count": 97,
   "id": "409d33ad",
   "metadata": {},
   "outputs": [
    {
     "data": {
      "text/plain": [
       "(136, 11)"
      ]
     },
     "execution_count": 97,
     "metadata": {},
     "output_type": "execute_result"
    }
   ],
   "source": [
    "t8.shape #30"
   ]
  },
  {
   "cell_type": "code",
   "execution_count": null,
   "id": "815c6fec",
   "metadata": {},
   "outputs": [],
   "source": []
  },
  {
   "cell_type": "code",
   "execution_count": 120,
   "id": "fa9bd9b1",
   "metadata": {},
   "outputs": [],
   "source": [
    "pd.concat([t1, t2,t3,t4,t5,t6,t7,t8], ignore_index = True).to_csv('t.csv')"
   ]
  },
  {
   "cell_type": "code",
   "execution_count": 150,
   "id": "b5f6abe0",
   "metadata": {},
   "outputs": [],
   "source": [
    "pd.concat([b1,b2,b3,b4,b5,b6], ignore_index = True).to_csv('b.csv')"
   ]
  },
  {
   "cell_type": "code",
   "execution_count": null,
   "id": "5c108564",
   "metadata": {},
   "outputs": [],
   "source": []
  }
 ],
 "metadata": {
  "kernelspec": {
   "display_name": "Python 3 (ipykernel)",
   "language": "python",
   "name": "python3"
  },
  "language_info": {
   "codemirror_mode": {
    "name": "ipython",
    "version": 3
   },
   "file_extension": ".py",
   "mimetype": "text/x-python",
   "name": "python",
   "nbconvert_exporter": "python",
   "pygments_lexer": "ipython3",
   "version": "3.9.12"
  }
 },
 "nbformat": 4,
 "nbformat_minor": 5
}
