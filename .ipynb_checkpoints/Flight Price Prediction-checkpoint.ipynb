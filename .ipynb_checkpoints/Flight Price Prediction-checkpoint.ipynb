{
 "cells": [
  {
   "cell_type": "raw",
   "id": "a9b56f20",
   "metadata": {},
   "source": [
    "We have scrapped the flight data from many popular websites between major cities for many days\n",
    "Del-Mum\n",
    "Mum-Del\n",
    "Del-Banglore\n",
    "Banglore-Delhi\n",
    "Del-Goa\n",
    "Goa-Del\n",
    "Banglore-Kolkata\n",
    "Kolkata-Banglore\n"
   ]
  },
  {
   "cell_type": "code",
   "execution_count": 2,
   "id": "f0bc4cf5",
   "metadata": {},
   "outputs": [],
   "source": [
    "# Import required libraries\n",
    "\n",
    "import pandas as pd\n",
    "import numpy as np\n",
    "import seaborn as sns\n",
    "import matplotlib.pyplot as plt\n",
    "%matplotlib inline\n",
    "\n",
    "import warnings\n",
    "warnings.filterwarnings('ignore')\n"
   ]
  },
  {
   "cell_type": "code",
   "execution_count": 3,
   "id": "3c24e5ad",
   "metadata": {},
   "outputs": [],
   "source": [
    "# Load dataset\n",
    "df=pd.read_csv('https://raw.githubusercontent.com/mohittomar2008/Flight-Price-Prediction-thru-Webscrapping/main/flight.csv', index_col=[0], parse_dates=['Booking_date','Journey_date'])"
   ]
  },
  {
   "cell_type": "code",
   "execution_count": 4,
   "id": "17d7d4b2",
   "metadata": {},
   "outputs": [
    {
     "data": {
      "text/html": [
       "<div>\n",
       "<style scoped>\n",
       "    .dataframe tbody tr th:only-of-type {\n",
       "        vertical-align: middle;\n",
       "    }\n",
       "\n",
       "    .dataframe tbody tr th {\n",
       "        vertical-align: top;\n",
       "    }\n",
       "\n",
       "    .dataframe thead th {\n",
       "        text-align: right;\n",
       "    }\n",
       "</style>\n",
       "<table border=\"1\" class=\"dataframe\">\n",
       "  <thead>\n",
       "    <tr style=\"text-align: right;\">\n",
       "      <th></th>\n",
       "      <th>From</th>\n",
       "      <th>To</th>\n",
       "      <th>Booking_date</th>\n",
       "      <th>Journey_date</th>\n",
       "      <th>Airline</th>\n",
       "      <th>Code</th>\n",
       "      <th>Departure</th>\n",
       "      <th>Arrival</th>\n",
       "      <th>Duration</th>\n",
       "      <th>Stops</th>\n",
       "      <th>Price</th>\n",
       "    </tr>\n",
       "  </thead>\n",
       "  <tbody>\n",
       "    <tr>\n",
       "      <th>4702</th>\n",
       "      <td>Bangalore</td>\n",
       "      <td>Delhi</td>\n",
       "      <td>2022-06-24</td>\n",
       "      <td>2022-06-30</td>\n",
       "      <td>Vistara</td>\n",
       "      <td>UK-846</td>\n",
       "      <td>08:30</td>\n",
       "      <td>14:30</td>\n",
       "      <td>06h 00m</td>\n",
       "      <td>2+-stop</td>\n",
       "      <td>15,872</td>\n",
       "    </tr>\n",
       "    <tr>\n",
       "      <th>6176</th>\n",
       "      <td>Kolkata</td>\n",
       "      <td>Bangalore</td>\n",
       "      <td>2022-06-24</td>\n",
       "      <td>2022-06-26</td>\n",
       "      <td>Vistara</td>\n",
       "      <td>UK-774</td>\n",
       "      <td>20:35</td>\n",
       "      <td>19:15</td>\n",
       "      <td>22h 40m</td>\n",
       "      <td>1-stop</td>\n",
       "      <td>12,046</td>\n",
       "    </tr>\n",
       "    <tr>\n",
       "      <th>3878</th>\n",
       "      <td>Bangalore</td>\n",
       "      <td>Delhi</td>\n",
       "      <td>2022-06-24</td>\n",
       "      <td>2022-06-26</td>\n",
       "      <td>GO FIRST</td>\n",
       "      <td>G8- 116</td>\n",
       "      <td>05:45</td>\n",
       "      <td>08:40</td>\n",
       "      <td>02h 55m</td>\n",
       "      <td>non-stop</td>\n",
       "      <td>9,679</td>\n",
       "    </tr>\n",
       "    <tr>\n",
       "      <th>6899</th>\n",
       "      <td>Bangalore</td>\n",
       "      <td>kolkata</td>\n",
       "      <td>2022-06-24</td>\n",
       "      <td>2022-06-26</td>\n",
       "      <td>AirAsia</td>\n",
       "      <td>I5-992</td>\n",
       "      <td>23:30</td>\n",
       "      <td>02:05</td>\n",
       "      <td>02h 35m</td>\n",
       "      <td>non-stop</td>\n",
       "      <td>7,789</td>\n",
       "    </tr>\n",
       "    <tr>\n",
       "      <th>6052</th>\n",
       "      <td>Kolkata</td>\n",
       "      <td>Bangalore</td>\n",
       "      <td>2022-06-24</td>\n",
       "      <td>2022-06-25</td>\n",
       "      <td>Vistara</td>\n",
       "      <td>UK-776</td>\n",
       "      <td>17:35</td>\n",
       "      <td>23:10</td>\n",
       "      <td>05h 35m</td>\n",
       "      <td>1-stop</td>\n",
       "      <td>12,046</td>\n",
       "    </tr>\n",
       "  </tbody>\n",
       "</table>\n",
       "</div>"
      ],
      "text/plain": [
       "           From         To Booking_date Journey_date   Airline     Code  \\\n",
       "4702  Bangalore      Delhi   2022-06-24   2022-06-30   Vistara   UK-846   \n",
       "6176    Kolkata  Bangalore   2022-06-24   2022-06-26   Vistara   UK-774   \n",
       "3878  Bangalore      Delhi   2022-06-24   2022-06-26  GO FIRST  G8- 116   \n",
       "6899  Bangalore    kolkata   2022-06-24   2022-06-26   AirAsia   I5-992   \n",
       "6052    Kolkata  Bangalore   2022-06-24   2022-06-25   Vistara   UK-776   \n",
       "\n",
       "     Departure Arrival Duration     Stops   Price  \n",
       "4702     08:30   14:30  06h 00m   2+-stop  15,872  \n",
       "6176     20:35   19:15  22h 40m    1-stop  12,046  \n",
       "3878     05:45   08:40  02h 55m  non-stop   9,679  \n",
       "6899     23:30   02:05  02h 35m  non-stop   7,789  \n",
       "6052     17:35   23:10  05h 35m    1-stop  12,046  "
      ]
     },
     "execution_count": 4,
     "metadata": {},
     "output_type": "execute_result"
    }
   ],
   "source": [
    "# Dataset random sample\n",
    "df.sample(5)"
   ]
  },
  {
   "cell_type": "code",
   "execution_count": 5,
   "id": "cb42ec26",
   "metadata": {},
   "outputs": [
    {
     "data": {
      "text/plain": [
       "(7548, 11)"
      ]
     },
     "execution_count": 5,
     "metadata": {},
     "output_type": "execute_result"
    }
   ],
   "source": [
    "df.shape"
   ]
  },
  {
   "cell_type": "code",
   "execution_count": 6,
   "id": "2c299d89",
   "metadata": {},
   "outputs": [
    {
     "data": {
      "text/plain": [
       "From               0\n",
       "To                 0\n",
       "Booking_date       0\n",
       "Journey_date       0\n",
       "Airline            0\n",
       "Code               0\n",
       "Departure          0\n",
       "Arrival            0\n",
       "Duration           0\n",
       "Stops              0\n",
       "Price           1486\n",
       "dtype: int64"
      ]
     },
     "execution_count": 6,
     "metadata": {},
     "output_type": "execute_result"
    }
   ],
   "source": [
    "df.isnull().sum() # target feature have some Null values, so better to ignore those records"
   ]
  },
  {
   "cell_type": "code",
   "execution_count": 7,
   "id": "ef5a5b0e",
   "metadata": {},
   "outputs": [],
   "source": [
    "df.dropna(inplace=True)"
   ]
  },
  {
   "cell_type": "code",
   "execution_count": 8,
   "id": "a1f2c644",
   "metadata": {},
   "outputs": [
    {
     "data": {
      "text/plain": [
       "(6062, 11)"
      ]
     },
     "execution_count": 8,
     "metadata": {},
     "output_type": "execute_result"
    }
   ],
   "source": [
    "df.shape\n"
   ]
  },
  {
   "cell_type": "markdown",
   "id": "1db36aed",
   "metadata": {},
   "source": [
    "# Feature Preprocessing on features"
   ]
  },
  {
   "cell_type": "code",
   "execution_count": 9,
   "id": "5a589d5f",
   "metadata": {},
   "outputs": [
    {
     "name": "stdout",
     "output_type": "stream",
     "text": [
      "<class 'pandas.core.frame.DataFrame'>\n",
      "Int64Index: 6062 entries, 0 to 7547\n",
      "Data columns (total 11 columns):\n",
      " #   Column        Non-Null Count  Dtype         \n",
      "---  ------        --------------  -----         \n",
      " 0   From          6062 non-null   object        \n",
      " 1   To            6062 non-null   object        \n",
      " 2   Booking_date  6062 non-null   datetime64[ns]\n",
      " 3   Journey_date  6062 non-null   datetime64[ns]\n",
      " 4   Airline       6062 non-null   object        \n",
      " 5   Code          6062 non-null   object        \n",
      " 6   Departure     6062 non-null   object        \n",
      " 7   Arrival       6062 non-null   object        \n",
      " 8   Duration      6062 non-null   object        \n",
      " 9   Stops         6062 non-null   object        \n",
      " 10  Price         6062 non-null   object        \n",
      "dtypes: datetime64[ns](2), object(9)\n",
      "memory usage: 568.3+ KB\n"
     ]
    }
   ],
   "source": [
    "df.info()"
   ]
  },
  {
   "cell_type": "code",
   "execution_count": 10,
   "id": "0a800962",
   "metadata": {},
   "outputs": [
    {
     "data": {
      "text/html": [
       "<div>\n",
       "<style scoped>\n",
       "    .dataframe tbody tr th:only-of-type {\n",
       "        vertical-align: middle;\n",
       "    }\n",
       "\n",
       "    .dataframe tbody tr th {\n",
       "        vertical-align: top;\n",
       "    }\n",
       "\n",
       "    .dataframe thead th {\n",
       "        text-align: right;\n",
       "    }\n",
       "</style>\n",
       "<table border=\"1\" class=\"dataframe\">\n",
       "  <thead>\n",
       "    <tr style=\"text-align: right;\">\n",
       "      <th></th>\n",
       "      <th>From</th>\n",
       "      <th>To</th>\n",
       "      <th>Booking_date</th>\n",
       "      <th>Journey_date</th>\n",
       "      <th>Airline</th>\n",
       "      <th>Code</th>\n",
       "      <th>Departure</th>\n",
       "      <th>Arrival</th>\n",
       "      <th>Duration</th>\n",
       "      <th>Stops</th>\n",
       "      <th>Price</th>\n",
       "    </tr>\n",
       "  </thead>\n",
       "  <tbody>\n",
       "    <tr>\n",
       "      <th>0</th>\n",
       "      <td>Delhi</td>\n",
       "      <td>Bangalore</td>\n",
       "      <td>2022-06-23</td>\n",
       "      <td>2022-06-23</td>\n",
       "      <td>Air India</td>\n",
       "      <td>AI-504</td>\n",
       "      <td>21:15</td>\n",
       "      <td>00:05\\n+1D</td>\n",
       "      <td>2h 50m</td>\n",
       "      <td>non-stop</td>\n",
       "      <td>₹9,420</td>\n",
       "    </tr>\n",
       "    <tr>\n",
       "      <th>1</th>\n",
       "      <td>Delhi</td>\n",
       "      <td>Bangalore</td>\n",
       "      <td>2022-06-23</td>\n",
       "      <td>2022-06-23</td>\n",
       "      <td>IndiGo</td>\n",
       "      <td>6E-2131</td>\n",
       "      <td>21:30</td>\n",
       "      <td>00:15\\n+1D</td>\n",
       "      <td>2h 45m</td>\n",
       "      <td>non-stop</td>\n",
       "      <td>₹9,419</td>\n",
       "    </tr>\n",
       "  </tbody>\n",
       "</table>\n",
       "</div>"
      ],
      "text/plain": [
       "    From         To Booking_date Journey_date    Airline     Code Departure  \\\n",
       "0  Delhi  Bangalore   2022-06-23   2022-06-23  Air India   AI-504     21:15   \n",
       "1  Delhi  Bangalore   2022-06-23   2022-06-23     IndiGo  6E-2131     21:30   \n",
       "\n",
       "      Arrival Duration     Stops   Price  \n",
       "0  00:05\\n+1D   2h 50m  non-stop  ₹9,420  \n",
       "1  00:15\\n+1D   2h 45m  non-stop  ₹9,419  "
      ]
     },
     "execution_count": 10,
     "metadata": {},
     "output_type": "execute_result"
    }
   ],
   "source": [
    "df.head(2)"
   ]
  },
  {
   "cell_type": "code",
   "execution_count": 11,
   "id": "7e270a3d",
   "metadata": {},
   "outputs": [
    {
     "data": {
      "text/plain": [
       "Airline   Code   \n",
       "Air Asia  I5-1529     4\n",
       "          I5-1732    10\n",
       "          I5-549      8\n",
       "          I5-552     14\n",
       "          I5-710      1\n",
       "                     ..\n",
       "Vistara   UK-993     56\n",
       "          UK-994      6\n",
       "          UK-995     48\n",
       "          UK-996      6\n",
       "          UK-997      1\n",
       "Name: Code, Length: 632, dtype: int64"
      ]
     },
     "execution_count": 11,
     "metadata": {},
     "output_type": "execute_result"
    }
   ],
   "source": [
    "df.groupby(['Airline','Code'])['Code'].count()"
   ]
  },
  {
   "cell_type": "code",
   "execution_count": null,
   "id": "09a66914",
   "metadata": {},
   "outputs": [],
   "source": [
    "# We are arrangine the flight in between cities"
   ]
  },
  {
   "cell_type": "code",
   "execution_count": 14,
   "id": "5912ebc1",
   "metadata": {},
   "outputs": [],
   "source": [
    "df['Traveling_cities']= df['From']+'-'+df['To']"
   ]
  },
  {
   "cell_type": "code",
   "execution_count": 17,
   "id": "cb1b3b77",
   "metadata": {},
   "outputs": [
    {
     "data": {
      "text/plain": [
       "Delhi-Bangalore      1074\n",
       "Delhi-Mumbai          939\n",
       "Mumbai-Delhi          885\n",
       "Bangalore-Delhi       776\n",
       "Bangalore-kolkata     646\n",
       "Kolkata-Bangalore     590\n",
       "Delhi-Goa             588\n",
       "Goa-Delhi             564\n",
       "Name: Traveling_cities, dtype: int64"
      ]
     },
     "execution_count": 17,
     "metadata": {},
     "output_type": "execute_result"
    }
   ],
   "source": [
    "df['Traveling_cities'].value_counts()"
   ]
  },
  {
   "cell_type": "code",
   "execution_count": 19,
   "id": "fabd1b41",
   "metadata": {},
   "outputs": [],
   "source": [
    "df['Traveling_cities']=df['Traveling_cities'].replace('Bangalore-Delhi','Delhi-Bangalore')\n",
    "df['Traveling_cities']=df['Traveling_cities'].replace('Mumbai-Delhi','Delhi-Mumbai')\n",
    "df['Traveling_cities']=df['Traveling_cities'].replace('Kolkata-Bangalore','Bangalore-kolkata')\n",
    "df['Traveling_cities']=df['Traveling_cities'].replace('Goa-Delhi','Delhi-Goa')\n"
   ]
  },
  {
   "cell_type": "code",
   "execution_count": 20,
   "id": "a28aa50b",
   "metadata": {},
   "outputs": [
    {
     "data": {
      "text/plain": [
       "Delhi-Bangalore      1850\n",
       "Delhi-Mumbai         1824\n",
       "Bangalore-kolkata    1236\n",
       "Delhi-Goa            1152\n",
       "Name: Traveling_cities, dtype: int64"
      ]
     },
     "execution_count": 20,
     "metadata": {},
     "output_type": "execute_result"
    }
   ],
   "source": [
    "df['Traveling_cities'].value_counts()"
   ]
  },
  {
   "cell_type": "code",
   "execution_count": null,
   "id": "60995e74",
   "metadata": {},
   "outputs": [],
   "source": [
    "# Create new column with hoe many days early we booked ticket because it has been seen the early you book ticket, the cheaper you get\n",
    "# Last minute ticket is always expensive"
   ]
  },
  {
   "cell_type": "code",
   "execution_count": 24,
   "id": "77177fc2",
   "metadata": {},
   "outputs": [],
   "source": [
    "df['Early_booking']=df['Journey_date'].dt.day-  df['Booking_date'].dt.day"
   ]
  },
  {
   "cell_type": "code",
   "execution_count": 26,
   "id": "be554bd2",
   "metadata": {},
   "outputs": [
    {
     "data": {
      "text/html": [
       "<div>\n",
       "<style scoped>\n",
       "    .dataframe tbody tr th:only-of-type {\n",
       "        vertical-align: middle;\n",
       "    }\n",
       "\n",
       "    .dataframe tbody tr th {\n",
       "        vertical-align: top;\n",
       "    }\n",
       "\n",
       "    .dataframe thead th {\n",
       "        text-align: right;\n",
       "    }\n",
       "</style>\n",
       "<table border=\"1\" class=\"dataframe\">\n",
       "  <thead>\n",
       "    <tr style=\"text-align: right;\">\n",
       "      <th></th>\n",
       "      <th>From</th>\n",
       "      <th>To</th>\n",
       "      <th>Booking_date</th>\n",
       "      <th>Journey_date</th>\n",
       "      <th>Airline</th>\n",
       "      <th>Code</th>\n",
       "      <th>Departure</th>\n",
       "      <th>Arrival</th>\n",
       "      <th>Duration</th>\n",
       "      <th>Stops</th>\n",
       "      <th>Price</th>\n",
       "      <th>Traveling_cities</th>\n",
       "      <th>Early_booking</th>\n",
       "    </tr>\n",
       "  </thead>\n",
       "  <tbody>\n",
       "    <tr>\n",
       "      <th>0</th>\n",
       "      <td>Delhi</td>\n",
       "      <td>Bangalore</td>\n",
       "      <td>2022-06-23</td>\n",
       "      <td>2022-06-23</td>\n",
       "      <td>Air India</td>\n",
       "      <td>AI-504</td>\n",
       "      <td>21:15</td>\n",
       "      <td>00:05\\n+1D</td>\n",
       "      <td>2h 50m</td>\n",
       "      <td>non-stop</td>\n",
       "      <td>₹9,420</td>\n",
       "      <td>Delhi-Bangalore</td>\n",
       "      <td>0</td>\n",
       "    </tr>\n",
       "    <tr>\n",
       "      <th>1</th>\n",
       "      <td>Delhi</td>\n",
       "      <td>Bangalore</td>\n",
       "      <td>2022-06-23</td>\n",
       "      <td>2022-06-23</td>\n",
       "      <td>IndiGo</td>\n",
       "      <td>6E-2131</td>\n",
       "      <td>21:30</td>\n",
       "      <td>00:15\\n+1D</td>\n",
       "      <td>2h 45m</td>\n",
       "      <td>non-stop</td>\n",
       "      <td>₹9,419</td>\n",
       "      <td>Delhi-Bangalore</td>\n",
       "      <td>0</td>\n",
       "    </tr>\n",
       "  </tbody>\n",
       "</table>\n",
       "</div>"
      ],
      "text/plain": [
       "    From         To Booking_date Journey_date    Airline     Code Departure  \\\n",
       "0  Delhi  Bangalore   2022-06-23   2022-06-23  Air India   AI-504     21:15   \n",
       "1  Delhi  Bangalore   2022-06-23   2022-06-23     IndiGo  6E-2131     21:30   \n",
       "\n",
       "      Arrival Duration     Stops   Price Traveling_cities  Early_booking  \n",
       "0  00:05\\n+1D   2h 50m  non-stop  ₹9,420  Delhi-Bangalore              0  \n",
       "1  00:15\\n+1D   2h 45m  non-stop  ₹9,419  Delhi-Bangalore              0  "
      ]
     },
     "execution_count": 26,
     "metadata": {},
     "output_type": "execute_result"
    }
   ],
   "source": [
    "df.head(2)"
   ]
  },
  {
   "cell_type": "code",
   "execution_count": 33,
   "id": "e6bba41a",
   "metadata": {},
   "outputs": [
    {
     "data": {
      "text/plain": [
       "array(['Air India', 'IndiGo', 'Vistara', 'GO FIRST', 'SpiceJet',\n",
       "       'Air Asia', 'Indigo', 'AirAsia'], dtype=object)"
      ]
     },
     "execution_count": 33,
     "metadata": {},
     "output_type": "execute_result"
    }
   ],
   "source": [
    "df['Airline'].unique()"
   ]
  },
  {
   "cell_type": "code",
   "execution_count": 35,
   "id": "9b84c50a",
   "metadata": {},
   "outputs": [],
   "source": [
    "df['Airline']=df['Airline'].replace('Air Asia','AirAsia')"
   ]
  },
  {
   "cell_type": "code",
   "execution_count": 36,
   "id": "43b4dc90",
   "metadata": {},
   "outputs": [
    {
     "data": {
      "text/plain": [
       "array(['Air India', 'IndiGo', 'Vistara', 'GO FIRST', 'SpiceJet',\n",
       "       'AirAsia', 'Indigo'], dtype=object)"
      ]
     },
     "execution_count": 36,
     "metadata": {},
     "output_type": "execute_result"
    }
   ],
   "source": [
    "df['Airline'].unique()"
   ]
  },
  {
   "cell_type": "code",
   "execution_count": 37,
   "id": "466731a6",
   "metadata": {},
   "outputs": [],
   "source": [
    "# Change departure and arrival time in day zone"
   ]
  },
  {
   "cell_type": "code",
   "execution_count": 47,
   "id": "483a49d8",
   "metadata": {},
   "outputs": [
    {
     "data": {
      "text/plain": [
       "dtype('O')"
      ]
     },
     "execution_count": 47,
     "metadata": {},
     "output_type": "execute_result"
    }
   ],
   "source": [
    "df['Departure'].dtype"
   ]
  },
  {
   "cell_type": "code",
   "execution_count": null,
   "id": "bc85dd25",
   "metadata": {},
   "outputs": [],
   "source": [
    "# Departure and Arrival is basically the time, lets convert those features in intereg datatype"
   ]
  },
  {
   "cell_type": "code",
   "execution_count": 53,
   "id": "9bda8a7e",
   "metadata": {},
   "outputs": [
    {
     "data": {
      "text/plain": [
       "0      1900-01-01 21:15:00\n",
       "1      1900-01-01 21:30:00\n",
       "2      1900-01-01 22:55:00\n",
       "3      1900-01-01 21:15:00\n",
       "4      1900-01-01 21:15:00\n",
       "               ...        \n",
       "7543   1900-01-01 11:30:00\n",
       "7544   1900-01-01 09:45:00\n",
       "7545   1900-01-01 09:45:00\n",
       "7546   1900-01-01 11:30:00\n",
       "7547   1900-01-01 05:10:00\n",
       "Name: Departure, Length: 6062, dtype: datetime64[ns]"
      ]
     },
     "execution_count": 53,
     "metadata": {},
     "output_type": "execute_result"
    }
   ],
   "source": [
    "pd.to_datetime(df['Departure'],format=\"%H:%M\")"
   ]
  },
  {
   "cell_type": "code",
   "execution_count": 56,
   "id": "852185cd",
   "metadata": {},
   "outputs": [
    {
     "data": {
      "text/plain": [
       "0       21:15\n",
       "1       21:30\n",
       "2       22:55\n",
       "3       21:15\n",
       "4       21:15\n",
       "        ...  \n",
       "7543    11:30\n",
       "7544    09:45\n",
       "7545    09:45\n",
       "7546    11:30\n",
       "7547    05:10\n",
       "Name: Departure, Length: 6062, dtype: object"
      ]
     },
     "execution_count": 56,
     "metadata": {},
     "output_type": "execute_result"
    }
   ],
   "source": [
    "df['Departure'].replace(':','.')"
   ]
  },
  {
   "cell_type": "code",
   "execution_count": null,
   "id": "43873501",
   "metadata": {},
   "outputs": [],
   "source": []
  },
  {
   "cell_type": "code",
   "execution_count": null,
   "id": "619af93a",
   "metadata": {},
   "outputs": [],
   "source": []
  },
  {
   "cell_type": "code",
   "execution_count": null,
   "id": "9796f482",
   "metadata": {},
   "outputs": [],
   "source": []
  },
  {
   "cell_type": "code",
   "execution_count": null,
   "id": "7694efef",
   "metadata": {},
   "outputs": [],
   "source": []
  },
  {
   "cell_type": "code",
   "execution_count": null,
   "id": "7d4ab1bf",
   "metadata": {},
   "outputs": [],
   "source": []
  },
  {
   "cell_type": "code",
   "execution_count": null,
   "id": "37835c5c",
   "metadata": {},
   "outputs": [],
   "source": [
    "#bins=[-1,5,11,16,20,24]\n",
    "#name=['night','Morning','afternoon','evening','midnight']\n",
    "#df['incident_period_of_the_day']= pd.cut(df['incident_hour_of_the_day'],bins,labels=name)"
   ]
  },
  {
   "cell_type": "code",
   "execution_count": 45,
   "id": "3fd47135",
   "metadata": {},
   "outputs": [],
   "source": [
    "bins=[-1,5,11,16,19,22,24]\n",
    "name=['Early_morning_departure','morning_departure','afternoon_departure','evening_departure','night_departure','late_night_departure']"
   ]
  },
  {
   "cell_type": "code",
   "execution_count": 46,
   "id": "214741a9",
   "metadata": {},
   "outputs": [
    {
     "ename": "TypeError",
     "evalue": "'<' not supported between instances of 'int' and 'str'",
     "output_type": "error",
     "traceback": [
      "\u001b[1;31m---------------------------------------------------------------------------\u001b[0m",
      "\u001b[1;31mTypeError\u001b[0m                                 Traceback (most recent call last)",
      "\u001b[1;32m<ipython-input-46-f805a749931a>\u001b[0m in \u001b[0;36m<module>\u001b[1;34m\u001b[0m\n\u001b[1;32m----> 1\u001b[1;33m \u001b[0mpd\u001b[0m\u001b[1;33m.\u001b[0m\u001b[0mcut\u001b[0m\u001b[1;33m(\u001b[0m\u001b[0mdf\u001b[0m\u001b[1;33m[\u001b[0m\u001b[1;34m'Departure'\u001b[0m\u001b[1;33m]\u001b[0m\u001b[1;33m,\u001b[0m\u001b[0mbins\u001b[0m\u001b[1;33m,\u001b[0m\u001b[0mlabels\u001b[0m\u001b[1;33m=\u001b[0m\u001b[0mname\u001b[0m\u001b[1;33m)\u001b[0m\u001b[1;33m\u001b[0m\u001b[1;33m\u001b[0m\u001b[0m\n\u001b[0m",
      "\u001b[1;32mC:\\ProgramData\\Anaconda3\\lib\\site-packages\\pandas\\core\\reshape\\tile.py\u001b[0m in \u001b[0;36mcut\u001b[1;34m(x, bins, right, labels, retbins, precision, include_lowest, duplicates, ordered)\u001b[0m\n\u001b[0;32m    271\u001b[0m             \u001b[1;32mraise\u001b[0m \u001b[0mValueError\u001b[0m\u001b[1;33m(\u001b[0m\u001b[1;34m\"bins must increase monotonically.\"\u001b[0m\u001b[1;33m)\u001b[0m\u001b[1;33m\u001b[0m\u001b[1;33m\u001b[0m\u001b[0m\n\u001b[0;32m    272\u001b[0m \u001b[1;33m\u001b[0m\u001b[0m\n\u001b[1;32m--> 273\u001b[1;33m     fac, bins = _bins_to_cuts(\n\u001b[0m\u001b[0;32m    274\u001b[0m         \u001b[0mx\u001b[0m\u001b[1;33m,\u001b[0m\u001b[1;33m\u001b[0m\u001b[1;33m\u001b[0m\u001b[0m\n\u001b[0;32m    275\u001b[0m         \u001b[0mbins\u001b[0m\u001b[1;33m,\u001b[0m\u001b[1;33m\u001b[0m\u001b[1;33m\u001b[0m\u001b[0m\n",
      "\u001b[1;32mC:\\ProgramData\\Anaconda3\\lib\\site-packages\\pandas\\core\\reshape\\tile.py\u001b[0m in \u001b[0;36m_bins_to_cuts\u001b[1;34m(x, bins, right, labels, precision, include_lowest, dtype, duplicates, ordered)\u001b[0m\n\u001b[0;32m    405\u001b[0m \u001b[1;33m\u001b[0m\u001b[0m\n\u001b[0;32m    406\u001b[0m     \u001b[0mside\u001b[0m \u001b[1;33m=\u001b[0m \u001b[1;34m\"left\"\u001b[0m \u001b[1;32mif\u001b[0m \u001b[0mright\u001b[0m \u001b[1;32melse\u001b[0m \u001b[1;34m\"right\"\u001b[0m\u001b[1;33m\u001b[0m\u001b[1;33m\u001b[0m\u001b[0m\n\u001b[1;32m--> 407\u001b[1;33m     \u001b[0mids\u001b[0m \u001b[1;33m=\u001b[0m \u001b[0mensure_int64\u001b[0m\u001b[1;33m(\u001b[0m\u001b[0mbins\u001b[0m\u001b[1;33m.\u001b[0m\u001b[0msearchsorted\u001b[0m\u001b[1;33m(\u001b[0m\u001b[0mx\u001b[0m\u001b[1;33m,\u001b[0m \u001b[0mside\u001b[0m\u001b[1;33m=\u001b[0m\u001b[0mside\u001b[0m\u001b[1;33m)\u001b[0m\u001b[1;33m)\u001b[0m\u001b[1;33m\u001b[0m\u001b[1;33m\u001b[0m\u001b[0m\n\u001b[0m\u001b[0;32m    408\u001b[0m \u001b[1;33m\u001b[0m\u001b[0m\n\u001b[0;32m    409\u001b[0m     \u001b[1;32mif\u001b[0m \u001b[0minclude_lowest\u001b[0m\u001b[1;33m:\u001b[0m\u001b[1;33m\u001b[0m\u001b[1;33m\u001b[0m\u001b[0m\n",
      "\u001b[1;31mTypeError\u001b[0m: '<' not supported between instances of 'int' and 'str'"
     ]
    }
   ],
   "source": [
    "pd.cut(df['Departure'],bins,labels=name)"
   ]
  },
  {
   "cell_type": "code",
   "execution_count": null,
   "id": "9ca2d10b",
   "metadata": {},
   "outputs": [],
   "source": []
  },
  {
   "cell_type": "code",
   "execution_count": null,
   "id": "7a25b08a",
   "metadata": {},
   "outputs": [],
   "source": []
  },
  {
   "cell_type": "code",
   "execution_count": null,
   "id": "ec334a19",
   "metadata": {},
   "outputs": [],
   "source": []
  },
  {
   "cell_type": "code",
   "execution_count": 57,
   "id": "165e008e",
   "metadata": {},
   "outputs": [
    {
     "data": {
      "text/html": [
       "<div>\n",
       "<style scoped>\n",
       "    .dataframe tbody tr th:only-of-type {\n",
       "        vertical-align: middle;\n",
       "    }\n",
       "\n",
       "    .dataframe tbody tr th {\n",
       "        vertical-align: top;\n",
       "    }\n",
       "\n",
       "    .dataframe thead th {\n",
       "        text-align: right;\n",
       "    }\n",
       "</style>\n",
       "<table border=\"1\" class=\"dataframe\">\n",
       "  <thead>\n",
       "    <tr style=\"text-align: right;\">\n",
       "      <th></th>\n",
       "      <th>From</th>\n",
       "      <th>To</th>\n",
       "      <th>Booking_date</th>\n",
       "      <th>Journey_date</th>\n",
       "      <th>Airline</th>\n",
       "      <th>Code</th>\n",
       "      <th>Departure</th>\n",
       "      <th>Arrival</th>\n",
       "      <th>Duration</th>\n",
       "      <th>Stops</th>\n",
       "      <th>Price</th>\n",
       "      <th>Traveling_cities</th>\n",
       "      <th>Early_booking</th>\n",
       "    </tr>\n",
       "  </thead>\n",
       "  <tbody>\n",
       "    <tr>\n",
       "      <th>0</th>\n",
       "      <td>Delhi</td>\n",
       "      <td>Bangalore</td>\n",
       "      <td>2022-06-23</td>\n",
       "      <td>2022-06-23</td>\n",
       "      <td>Air India</td>\n",
       "      <td>AI-504</td>\n",
       "      <td>21:15</td>\n",
       "      <td>00:05\\n+1D</td>\n",
       "      <td>2h 50m</td>\n",
       "      <td>non-stop</td>\n",
       "      <td>₹9,420</td>\n",
       "      <td>Delhi-Bangalore</td>\n",
       "      <td>0</td>\n",
       "    </tr>\n",
       "    <tr>\n",
       "      <th>1</th>\n",
       "      <td>Delhi</td>\n",
       "      <td>Bangalore</td>\n",
       "      <td>2022-06-23</td>\n",
       "      <td>2022-06-23</td>\n",
       "      <td>IndiGo</td>\n",
       "      <td>6E-2131</td>\n",
       "      <td>21:30</td>\n",
       "      <td>00:15\\n+1D</td>\n",
       "      <td>2h 45m</td>\n",
       "      <td>non-stop</td>\n",
       "      <td>₹9,419</td>\n",
       "      <td>Delhi-Bangalore</td>\n",
       "      <td>0</td>\n",
       "    </tr>\n",
       "    <tr>\n",
       "      <th>2</th>\n",
       "      <td>Delhi</td>\n",
       "      <td>Bangalore</td>\n",
       "      <td>2022-06-23</td>\n",
       "      <td>2022-06-23</td>\n",
       "      <td>IndiGo</td>\n",
       "      <td>6E-6565</td>\n",
       "      <td>22:55</td>\n",
       "      <td>01:45\\n+1D</td>\n",
       "      <td>2h 50m</td>\n",
       "      <td>non-stop</td>\n",
       "      <td>₹9,419</td>\n",
       "      <td>Delhi-Bangalore</td>\n",
       "      <td>0</td>\n",
       "    </tr>\n",
       "    <tr>\n",
       "      <th>3</th>\n",
       "      <td>Delhi</td>\n",
       "      <td>Bangalore</td>\n",
       "      <td>2022-06-23</td>\n",
       "      <td>2022-06-23</td>\n",
       "      <td>Air India</td>\n",
       "      <td>AI-605</td>\n",
       "      <td>21:15</td>\n",
       "      <td>07:50\\n+1D</td>\n",
       "      <td>10h 35m</td>\n",
       "      <td>1 stop</td>\n",
       "      <td>₹14,775</td>\n",
       "      <td>Delhi-Bangalore</td>\n",
       "      <td>0</td>\n",
       "    </tr>\n",
       "    <tr>\n",
       "      <th>4</th>\n",
       "      <td>Delhi</td>\n",
       "      <td>Bangalore</td>\n",
       "      <td>2022-06-23</td>\n",
       "      <td>2022-06-23</td>\n",
       "      <td>Air India</td>\n",
       "      <td>AI-605</td>\n",
       "      <td>21:15</td>\n",
       "      <td>18:20\\n+1D</td>\n",
       "      <td>21h 5m</td>\n",
       "      <td>1 stop</td>\n",
       "      <td>₹14,985</td>\n",
       "      <td>Delhi-Bangalore</td>\n",
       "      <td>0</td>\n",
       "    </tr>\n",
       "  </tbody>\n",
       "</table>\n",
       "</div>"
      ],
      "text/plain": [
       "    From         To Booking_date Journey_date    Airline     Code Departure  \\\n",
       "0  Delhi  Bangalore   2022-06-23   2022-06-23  Air India   AI-504     21:15   \n",
       "1  Delhi  Bangalore   2022-06-23   2022-06-23     IndiGo  6E-2131     21:30   \n",
       "2  Delhi  Bangalore   2022-06-23   2022-06-23     IndiGo  6E-6565     22:55   \n",
       "3  Delhi  Bangalore   2022-06-23   2022-06-23  Air India   AI-605     21:15   \n",
       "4  Delhi  Bangalore   2022-06-23   2022-06-23  Air India   AI-605     21:15   \n",
       "\n",
       "      Arrival Duration     Stops    Price Traveling_cities  Early_booking  \n",
       "0  00:05\\n+1D   2h 50m  non-stop   ₹9,420  Delhi-Bangalore              0  \n",
       "1  00:15\\n+1D   2h 45m  non-stop   ₹9,419  Delhi-Bangalore              0  \n",
       "2  01:45\\n+1D   2h 50m  non-stop   ₹9,419  Delhi-Bangalore              0  \n",
       "3  07:50\\n+1D  10h 35m    1 stop  ₹14,775  Delhi-Bangalore              0  \n",
       "4  18:20\\n+1D   21h 5m    1 stop  ₹14,985  Delhi-Bangalore              0  "
      ]
     },
     "execution_count": 57,
     "metadata": {},
     "output_type": "execute_result"
    }
   ],
   "source": [
    "df.head()"
   ]
  },
  {
   "cell_type": "code",
   "execution_count": 60,
   "id": "8d1e8ed3",
   "metadata": {},
   "outputs": [
    {
     "data": {
      "text/plain": [
       "0        [2h, 50m]\n",
       "1        [2h, 45m]\n",
       "2        [2h, 50m]\n",
       "3       [10h, 35m]\n",
       "4        [21h, 5m]\n",
       "           ...    \n",
       "7543    [08h, 05m]\n",
       "7544    [08h, 20m]\n",
       "7545    [09h, 50m]\n",
       "7546    [11h, 15m]\n",
       "7547    [06h, 55m]\n",
       "Name: Duration, Length: 6062, dtype: object"
      ]
     },
     "execution_count": 60,
     "metadata": {},
     "output_type": "execute_result"
    }
   ],
   "source": [
    "# we have duration in hours and minutes, lets convert complete feature in minutes\n",
    "\n",
    "df['Duration'].str.split(' ')"
   ]
  },
  {
   "cell_type": "code",
   "execution_count": 66,
   "id": "e725dd91",
   "metadata": {},
   "outputs": [],
   "source": [
    "duration=list(df[\"Duration\"])\n",
    "\n",
    "for i in range(len(duration)):\n",
    "    if len(duration[i].split())!=2:\n",
    "        if \"h\" in duration[i]:\n",
    "            duration[i]=duration[i].strip() + \" 0m\"\n",
    "        else:\n",
    "            duration[i]=  \"0h \"  + duration[i]\n",
    "            \n",
    "duration_hours=[]\n",
    "duration_minutes=[]\n",
    "\n",
    "for  i in range(len(duration)):\n",
    "    duration_hours.append(int(duration[i].split(\"h\")[0]))\n",
    "    duration_minutes.append(int(duration[i].split(\"m\")[0].split()[-1]))\n",
    "    \n",
    "\n",
    "df[\"duration_hours\"]=duration_hours\n",
    "df[\"duration_minutes\"]=duration_minutes"
   ]
  },
  {
   "cell_type": "code",
   "execution_count": 67,
   "id": "55d38e49",
   "metadata": {},
   "outputs": [
    {
     "data": {
      "text/html": [
       "<div>\n",
       "<style scoped>\n",
       "    .dataframe tbody tr th:only-of-type {\n",
       "        vertical-align: middle;\n",
       "    }\n",
       "\n",
       "    .dataframe tbody tr th {\n",
       "        vertical-align: top;\n",
       "    }\n",
       "\n",
       "    .dataframe thead th {\n",
       "        text-align: right;\n",
       "    }\n",
       "</style>\n",
       "<table border=\"1\" class=\"dataframe\">\n",
       "  <thead>\n",
       "    <tr style=\"text-align: right;\">\n",
       "      <th></th>\n",
       "      <th>From</th>\n",
       "      <th>To</th>\n",
       "      <th>Booking_date</th>\n",
       "      <th>Journey_date</th>\n",
       "      <th>Airline</th>\n",
       "      <th>Code</th>\n",
       "      <th>Departure</th>\n",
       "      <th>Arrival</th>\n",
       "      <th>Duration</th>\n",
       "      <th>Stops</th>\n",
       "      <th>Price</th>\n",
       "      <th>Traveling_cities</th>\n",
       "      <th>Early_booking</th>\n",
       "      <th>duration_hours</th>\n",
       "      <th>duration_minutes</th>\n",
       "    </tr>\n",
       "  </thead>\n",
       "  <tbody>\n",
       "    <tr>\n",
       "      <th>0</th>\n",
       "      <td>Delhi</td>\n",
       "      <td>Bangalore</td>\n",
       "      <td>2022-06-23</td>\n",
       "      <td>2022-06-23</td>\n",
       "      <td>Air India</td>\n",
       "      <td>AI-504</td>\n",
       "      <td>21:15</td>\n",
       "      <td>00:05\\n+1D</td>\n",
       "      <td>2h 50m</td>\n",
       "      <td>non-stop</td>\n",
       "      <td>₹9,420</td>\n",
       "      <td>Delhi-Bangalore</td>\n",
       "      <td>0</td>\n",
       "      <td>2</td>\n",
       "      <td>50</td>\n",
       "    </tr>\n",
       "    <tr>\n",
       "      <th>1</th>\n",
       "      <td>Delhi</td>\n",
       "      <td>Bangalore</td>\n",
       "      <td>2022-06-23</td>\n",
       "      <td>2022-06-23</td>\n",
       "      <td>IndiGo</td>\n",
       "      <td>6E-2131</td>\n",
       "      <td>21:30</td>\n",
       "      <td>00:15\\n+1D</td>\n",
       "      <td>2h 45m</td>\n",
       "      <td>non-stop</td>\n",
       "      <td>₹9,419</td>\n",
       "      <td>Delhi-Bangalore</td>\n",
       "      <td>0</td>\n",
       "      <td>2</td>\n",
       "      <td>45</td>\n",
       "    </tr>\n",
       "    <tr>\n",
       "      <th>2</th>\n",
       "      <td>Delhi</td>\n",
       "      <td>Bangalore</td>\n",
       "      <td>2022-06-23</td>\n",
       "      <td>2022-06-23</td>\n",
       "      <td>IndiGo</td>\n",
       "      <td>6E-6565</td>\n",
       "      <td>22:55</td>\n",
       "      <td>01:45\\n+1D</td>\n",
       "      <td>2h 50m</td>\n",
       "      <td>non-stop</td>\n",
       "      <td>₹9,419</td>\n",
       "      <td>Delhi-Bangalore</td>\n",
       "      <td>0</td>\n",
       "      <td>2</td>\n",
       "      <td>50</td>\n",
       "    </tr>\n",
       "    <tr>\n",
       "      <th>3</th>\n",
       "      <td>Delhi</td>\n",
       "      <td>Bangalore</td>\n",
       "      <td>2022-06-23</td>\n",
       "      <td>2022-06-23</td>\n",
       "      <td>Air India</td>\n",
       "      <td>AI-605</td>\n",
       "      <td>21:15</td>\n",
       "      <td>07:50\\n+1D</td>\n",
       "      <td>10h 35m</td>\n",
       "      <td>1 stop</td>\n",
       "      <td>₹14,775</td>\n",
       "      <td>Delhi-Bangalore</td>\n",
       "      <td>0</td>\n",
       "      <td>10</td>\n",
       "      <td>35</td>\n",
       "    </tr>\n",
       "    <tr>\n",
       "      <th>4</th>\n",
       "      <td>Delhi</td>\n",
       "      <td>Bangalore</td>\n",
       "      <td>2022-06-23</td>\n",
       "      <td>2022-06-23</td>\n",
       "      <td>Air India</td>\n",
       "      <td>AI-605</td>\n",
       "      <td>21:15</td>\n",
       "      <td>18:20\\n+1D</td>\n",
       "      <td>21h 5m</td>\n",
       "      <td>1 stop</td>\n",
       "      <td>₹14,985</td>\n",
       "      <td>Delhi-Bangalore</td>\n",
       "      <td>0</td>\n",
       "      <td>21</td>\n",
       "      <td>5</td>\n",
       "    </tr>\n",
       "  </tbody>\n",
       "</table>\n",
       "</div>"
      ],
      "text/plain": [
       "    From         To Booking_date Journey_date    Airline     Code Departure  \\\n",
       "0  Delhi  Bangalore   2022-06-23   2022-06-23  Air India   AI-504     21:15   \n",
       "1  Delhi  Bangalore   2022-06-23   2022-06-23     IndiGo  6E-2131     21:30   \n",
       "2  Delhi  Bangalore   2022-06-23   2022-06-23     IndiGo  6E-6565     22:55   \n",
       "3  Delhi  Bangalore   2022-06-23   2022-06-23  Air India   AI-605     21:15   \n",
       "4  Delhi  Bangalore   2022-06-23   2022-06-23  Air India   AI-605     21:15   \n",
       "\n",
       "      Arrival Duration     Stops    Price Traveling_cities  Early_booking  \\\n",
       "0  00:05\\n+1D   2h 50m  non-stop   ₹9,420  Delhi-Bangalore              0   \n",
       "1  00:15\\n+1D   2h 45m  non-stop   ₹9,419  Delhi-Bangalore              0   \n",
       "2  01:45\\n+1D   2h 50m  non-stop   ₹9,419  Delhi-Bangalore              0   \n",
       "3  07:50\\n+1D  10h 35m    1 stop  ₹14,775  Delhi-Bangalore              0   \n",
       "4  18:20\\n+1D   21h 5m    1 stop  ₹14,985  Delhi-Bangalore              0   \n",
       "\n",
       "   duration_hours  duration_minutes  \n",
       "0               2                50  \n",
       "1               2                45  \n",
       "2               2                50  \n",
       "3              10                35  \n",
       "4              21                 5  "
      ]
     },
     "execution_count": 67,
     "metadata": {},
     "output_type": "execute_result"
    }
   ],
   "source": [
    "df.head()"
   ]
  },
  {
   "cell_type": "code",
   "execution_count": 68,
   "id": "5be44c03",
   "metadata": {},
   "outputs": [],
   "source": [
    "# Total time travel in hours\n",
    "\n",
    "df[\"total_travel_time\"]=np.round((df[\"duration_minutes\"]/60)+ df[\"duration_hours\"],2)"
   ]
  },
  {
   "cell_type": "code",
   "execution_count": 69,
   "id": "2cb3cff9",
   "metadata": {},
   "outputs": [
    {
     "data": {
      "text/html": [
       "<div>\n",
       "<style scoped>\n",
       "    .dataframe tbody tr th:only-of-type {\n",
       "        vertical-align: middle;\n",
       "    }\n",
       "\n",
       "    .dataframe tbody tr th {\n",
       "        vertical-align: top;\n",
       "    }\n",
       "\n",
       "    .dataframe thead th {\n",
       "        text-align: right;\n",
       "    }\n",
       "</style>\n",
       "<table border=\"1\" class=\"dataframe\">\n",
       "  <thead>\n",
       "    <tr style=\"text-align: right;\">\n",
       "      <th></th>\n",
       "      <th>From</th>\n",
       "      <th>To</th>\n",
       "      <th>Booking_date</th>\n",
       "      <th>Journey_date</th>\n",
       "      <th>Airline</th>\n",
       "      <th>Code</th>\n",
       "      <th>Departure</th>\n",
       "      <th>Arrival</th>\n",
       "      <th>Duration</th>\n",
       "      <th>Stops</th>\n",
       "      <th>Price</th>\n",
       "      <th>Traveling_cities</th>\n",
       "      <th>Early_booking</th>\n",
       "      <th>duration_hours</th>\n",
       "      <th>duration_minutes</th>\n",
       "      <th>total_travel_time</th>\n",
       "    </tr>\n",
       "  </thead>\n",
       "  <tbody>\n",
       "    <tr>\n",
       "      <th>0</th>\n",
       "      <td>Delhi</td>\n",
       "      <td>Bangalore</td>\n",
       "      <td>2022-06-23</td>\n",
       "      <td>2022-06-23</td>\n",
       "      <td>Air India</td>\n",
       "      <td>AI-504</td>\n",
       "      <td>21:15</td>\n",
       "      <td>00:05\\n+1D</td>\n",
       "      <td>2h 50m</td>\n",
       "      <td>non-stop</td>\n",
       "      <td>₹9,420</td>\n",
       "      <td>Delhi-Bangalore</td>\n",
       "      <td>0</td>\n",
       "      <td>2</td>\n",
       "      <td>50</td>\n",
       "      <td>2.83</td>\n",
       "    </tr>\n",
       "    <tr>\n",
       "      <th>1</th>\n",
       "      <td>Delhi</td>\n",
       "      <td>Bangalore</td>\n",
       "      <td>2022-06-23</td>\n",
       "      <td>2022-06-23</td>\n",
       "      <td>IndiGo</td>\n",
       "      <td>6E-2131</td>\n",
       "      <td>21:30</td>\n",
       "      <td>00:15\\n+1D</td>\n",
       "      <td>2h 45m</td>\n",
       "      <td>non-stop</td>\n",
       "      <td>₹9,419</td>\n",
       "      <td>Delhi-Bangalore</td>\n",
       "      <td>0</td>\n",
       "      <td>2</td>\n",
       "      <td>45</td>\n",
       "      <td>2.75</td>\n",
       "    </tr>\n",
       "    <tr>\n",
       "      <th>2</th>\n",
       "      <td>Delhi</td>\n",
       "      <td>Bangalore</td>\n",
       "      <td>2022-06-23</td>\n",
       "      <td>2022-06-23</td>\n",
       "      <td>IndiGo</td>\n",
       "      <td>6E-6565</td>\n",
       "      <td>22:55</td>\n",
       "      <td>01:45\\n+1D</td>\n",
       "      <td>2h 50m</td>\n",
       "      <td>non-stop</td>\n",
       "      <td>₹9,419</td>\n",
       "      <td>Delhi-Bangalore</td>\n",
       "      <td>0</td>\n",
       "      <td>2</td>\n",
       "      <td>50</td>\n",
       "      <td>2.83</td>\n",
       "    </tr>\n",
       "    <tr>\n",
       "      <th>3</th>\n",
       "      <td>Delhi</td>\n",
       "      <td>Bangalore</td>\n",
       "      <td>2022-06-23</td>\n",
       "      <td>2022-06-23</td>\n",
       "      <td>Air India</td>\n",
       "      <td>AI-605</td>\n",
       "      <td>21:15</td>\n",
       "      <td>07:50\\n+1D</td>\n",
       "      <td>10h 35m</td>\n",
       "      <td>1 stop</td>\n",
       "      <td>₹14,775</td>\n",
       "      <td>Delhi-Bangalore</td>\n",
       "      <td>0</td>\n",
       "      <td>10</td>\n",
       "      <td>35</td>\n",
       "      <td>10.58</td>\n",
       "    </tr>\n",
       "    <tr>\n",
       "      <th>4</th>\n",
       "      <td>Delhi</td>\n",
       "      <td>Bangalore</td>\n",
       "      <td>2022-06-23</td>\n",
       "      <td>2022-06-23</td>\n",
       "      <td>Air India</td>\n",
       "      <td>AI-605</td>\n",
       "      <td>21:15</td>\n",
       "      <td>18:20\\n+1D</td>\n",
       "      <td>21h 5m</td>\n",
       "      <td>1 stop</td>\n",
       "      <td>₹14,985</td>\n",
       "      <td>Delhi-Bangalore</td>\n",
       "      <td>0</td>\n",
       "      <td>21</td>\n",
       "      <td>5</td>\n",
       "      <td>21.08</td>\n",
       "    </tr>\n",
       "  </tbody>\n",
       "</table>\n",
       "</div>"
      ],
      "text/plain": [
       "    From         To Booking_date Journey_date    Airline     Code Departure  \\\n",
       "0  Delhi  Bangalore   2022-06-23   2022-06-23  Air India   AI-504     21:15   \n",
       "1  Delhi  Bangalore   2022-06-23   2022-06-23     IndiGo  6E-2131     21:30   \n",
       "2  Delhi  Bangalore   2022-06-23   2022-06-23     IndiGo  6E-6565     22:55   \n",
       "3  Delhi  Bangalore   2022-06-23   2022-06-23  Air India   AI-605     21:15   \n",
       "4  Delhi  Bangalore   2022-06-23   2022-06-23  Air India   AI-605     21:15   \n",
       "\n",
       "      Arrival Duration     Stops    Price Traveling_cities  Early_booking  \\\n",
       "0  00:05\\n+1D   2h 50m  non-stop   ₹9,420  Delhi-Bangalore              0   \n",
       "1  00:15\\n+1D   2h 45m  non-stop   ₹9,419  Delhi-Bangalore              0   \n",
       "2  01:45\\n+1D   2h 50m  non-stop   ₹9,419  Delhi-Bangalore              0   \n",
       "3  07:50\\n+1D  10h 35m    1 stop  ₹14,775  Delhi-Bangalore              0   \n",
       "4  18:20\\n+1D   21h 5m    1 stop  ₹14,985  Delhi-Bangalore              0   \n",
       "\n",
       "   duration_hours  duration_minutes  total_travel_time  \n",
       "0               2                50               2.83  \n",
       "1               2                45               2.75  \n",
       "2               2                50               2.83  \n",
       "3              10                35              10.58  \n",
       "4              21                 5              21.08  "
      ]
     },
     "execution_count": 69,
     "metadata": {},
     "output_type": "execute_result"
    }
   ],
   "source": [
    "df.head()"
   ]
  },
  {
   "cell_type": "code",
   "execution_count": 70,
   "id": "4983b040",
   "metadata": {},
   "outputs": [],
   "source": [
    "# Here,  Duration feature extracted into duration hour and minute, then we have calculated total travel time in hours"
   ]
  },
  {
   "cell_type": "code",
   "execution_count": 73,
   "id": "ffc8bbad",
   "metadata": {},
   "outputs": [
    {
     "data": {
      "text/plain": [
       "array(['non-stop', '1 stop', '2 stops', '1-stop', '2+-stop',\n",
       "       '1-stop Via Mumbai'], dtype=object)"
      ]
     },
     "execution_count": 73,
     "metadata": {},
     "output_type": "execute_result"
    }
   ],
   "source": [
    "df['Stops'].unique()"
   ]
  },
  {
   "cell_type": "code",
   "execution_count": 74,
   "id": "1bdd04e9",
   "metadata": {},
   "outputs": [],
   "source": [
    "dic={'non-stop':0,'1 stop':1,'1-stop':1,'1-stop Via Mumbai':1,'2 stops':2,'2+-stop':2}"
   ]
  },
  {
   "cell_type": "code",
   "execution_count": 78,
   "id": "e2999921",
   "metadata": {},
   "outputs": [],
   "source": [
    "df['Stops']=df['Stops'].map(dic)"
   ]
  },
  {
   "cell_type": "markdown",
   "id": "988da799",
   "metadata": {},
   "source": [
    "## Dependent feature- Price"
   ]
  },
  {
   "cell_type": "code",
   "execution_count": 82,
   "id": "581e0c10",
   "metadata": {},
   "outputs": [],
   "source": [
    "df['Price']=df['Price'].str.replace(\"₹\",\"\")\n",
    "df['Price']=df['Price'].str.replace(\",\",\"\")\n",
    "df['Price']=df['Price'].astype(int)"
   ]
  },
  {
   "cell_type": "code",
   "execution_count": 85,
   "id": "4f69452d",
   "metadata": {},
   "outputs": [],
   "source": []
  },
  {
   "cell_type": "code",
   "execution_count": null,
   "id": "c7073e1f",
   "metadata": {},
   "outputs": [],
   "source": []
  },
  {
   "cell_type": "code",
   "execution_count": null,
   "id": "e7da850c",
   "metadata": {},
   "outputs": [],
   "source": []
  }
 ],
 "metadata": {
  "kernelspec": {
   "display_name": "Python 3",
   "language": "python",
   "name": "python3"
  },
  "language_info": {
   "codemirror_mode": {
    "name": "ipython",
    "version": 3
   },
   "file_extension": ".py",
   "mimetype": "text/x-python",
   "name": "python",
   "nbconvert_exporter": "python",
   "pygments_lexer": "ipython3",
   "version": "3.8.8"
  }
 },
 "nbformat": 4,
 "nbformat_minor": 5
}
